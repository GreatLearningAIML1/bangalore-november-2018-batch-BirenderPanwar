{
 "cells": [
  {
   "cell_type": "markdown",
   "metadata": {
    "colab_type": "text",
    "id": "YYk8NG3yOIT9"
   },
   "source": [
    "### A MNIST-like fashion product database\n",
    "\n",
    "In this, we classify the images into respective classes given in the dataset. We use a Neural Net and a Deep Neural Net in Keras to solve this and check the accuracy scores."
   ]
  },
  {
   "cell_type": "markdown",
   "metadata": {
    "colab_type": "text",
    "id": "tFO6PuxzOIT_",
    "slideshow": {
     "slide_type": "slide"
    }
   },
   "source": [
    "### Load tensorflow"
   ]
  },
  {
   "cell_type": "code",
   "execution_count": 1,
   "metadata": {
    "colab": {},
    "colab_type": "code",
    "id": "efNjNImfOIUC"
   },
   "outputs": [],
   "source": [
    "import tensorflow as tf\n",
    "tf.set_random_seed(42)"
   ]
  },
  {
   "cell_type": "code",
   "execution_count": 2,
   "metadata": {
    "colab": {},
    "colab_type": "code",
    "id": "l9C4aAIGOIUH",
    "outputId": "5ef9aff6-a7bd-4b26-cba6-8750955f6ca3"
   },
   "outputs": [
    {
     "data": {
      "text/plain": [
       "'1.13.1'"
      ]
     },
     "execution_count": 2,
     "metadata": {},
     "output_type": "execute_result"
    }
   ],
   "source": [
    "tf.__version__"
   ]
  },
  {
   "cell_type": "markdown",
   "metadata": {
    "colab_type": "text",
    "id": "HcoZBStrOIUQ",
    "slideshow": {
     "slide_type": "slide"
    }
   },
   "source": [
    "### Collect Data"
   ]
  },
  {
   "cell_type": "code",
   "execution_count": 3,
   "metadata": {
    "colab": {},
    "colab_type": "code",
    "id": "XA1WsFSeOIUS"
   },
   "outputs": [
    {
     "name": "stderr",
     "output_type": "stream",
     "text": [
      "Using TensorFlow backend.\n"
     ]
    }
   ],
   "source": [
    "import keras"
   ]
  },
  {
   "cell_type": "code",
   "execution_count": 4,
   "metadata": {
    "colab": {},
    "colab_type": "code",
    "id": "qnbx7TyQOIUY"
   },
   "outputs": [],
   "source": [
    "(trainX, trainY), (testX, testY) = keras.datasets.fashion_mnist.load_data()"
   ]
  },
  {
   "cell_type": "code",
   "execution_count": 5,
   "metadata": {
    "colab": {},
    "colab_type": "code",
    "id": "UbiHj5YPOIUc",
    "outputId": "87e1b9cd-07f0-45cb-e706-0d51ad742d72",
    "slideshow": {
     "slide_type": "fragment"
    }
   },
   "outputs": [
    {
     "name": "stdout",
     "output_type": "stream",
     "text": [
      "[9 2 1 1 6]\n"
     ]
    }
   ],
   "source": [
    "print(testY[0:5])"
   ]
  },
  {
   "cell_type": "markdown",
   "metadata": {
    "colab_type": "text",
    "id": "lDAYzkwyOIUj",
    "slideshow": {
     "slide_type": "slide"
    }
   },
   "source": [
    "### Convert both training and testing labels into one-hot vectors.\n",
    "\n",
    "**Hint:** check **tf.keras.utils.to_categorical()**"
   ]
  },
  {
   "cell_type": "code",
   "execution_count": 6,
   "metadata": {},
   "outputs": [
    {
     "name": "stdout",
     "output_type": "stream",
     "text": [
      "(60000,)\n",
      "First 5 examples are:  [9 0 0 3 0]\n"
     ]
    }
   ],
   "source": [
    "print(trainY.shape)\n",
    "print('First 5 examples are: ', trainY[0:5])"
   ]
  },
  {
   "cell_type": "code",
   "execution_count": 7,
   "metadata": {},
   "outputs": [],
   "source": [
    "# dataset have 10 classes and each label is an integer between 0 and 9:\n",
    "trainY = tf.keras.utils.to_categorical(trainY, num_classes=10)\n",
    "testY = tf.keras.utils.to_categorical(testY, num_classes=10)"
   ]
  },
  {
   "cell_type": "code",
   "execution_count": 8,
   "metadata": {},
   "outputs": [
    {
     "name": "stdout",
     "output_type": "stream",
     "text": [
      "(60000, 10)\n",
      "First 5 examples are:  [[0. 0. 0. 0. 0. 0. 0. 0. 0. 1.]\n",
      " [1. 0. 0. 0. 0. 0. 0. 0. 0. 0.]\n",
      " [1. 0. 0. 0. 0. 0. 0. 0. 0. 0.]\n",
      " [0. 0. 0. 1. 0. 0. 0. 0. 0. 0.]\n",
      " [1. 0. 0. 0. 0. 0. 0. 0. 0. 0.]]\n"
     ]
    }
   ],
   "source": [
    "print(trainY.shape)\n",
    "print('First 5 examples are: ', trainY[0:5])"
   ]
  },
  {
   "cell_type": "markdown",
   "metadata": {
    "colab_type": "text",
    "id": "FwhQ8e7VOIUw"
   },
   "source": [
    "### Visualize the data\n",
    "\n",
    "Plot first 10 images in the triaining set and their labels."
   ]
  },
  {
   "cell_type": "code",
   "execution_count": 9,
   "metadata": {},
   "outputs": [],
   "source": [
    "import numpy as np\n",
    "import matplotlib.pyplot as plt"
   ]
  },
  {
   "cell_type": "code",
   "execution_count": 10,
   "metadata": {},
   "outputs": [],
   "source": [
    "class_names = ['T-shirt/top', 'Trouser', 'Pullover', 'Dress', 'Coat', 'Sandal', 'Shirt', 'Sneaker', 'Bag', 'Ankle boot']"
   ]
  },
  {
   "cell_type": "code",
   "execution_count": 11,
   "metadata": {},
   "outputs": [
    {
     "data": {
      "image/png": "[encoded data removed]",
      "text/plain": [
       "<Figure size 864x864 with 10 Axes>"
      ]
     },
     "metadata": {},
     "output_type": "display_data"
    },
    {
     "name": "stdout",
     "output_type": "stream",
     "text": [
      "label for each of the above image: \n",
      " [9, 0, 0, 3, 0, 2, 7, 2, 5, 5]\n"
     ]
    }
   ],
   "source": [
    "labelCode = []\n",
    "plt.figure(figsize=(12,12))\n",
    "for i in range(10):\n",
    "    plt.subplot(1,10,i+1)\n",
    "    plt.xticks([])\n",
    "    plt.yticks([])\n",
    "    plt.grid(False)\n",
    "   # plt.imshow(trainX[i], cmap='Greys') \n",
    "    plt.imshow(trainX[i], cmap=plt.cm.binary)\n",
    "    label = np.where(trainY[i] == 1)[0][0]\n",
    "    plt.xlabel(class_names[label])\n",
    "    labelCode.append(label)\n",
    "plt.show()\n",
    "\n",
    "print(\"label for each of the above image: \\n\", labelCode)"
   ]
  },
  {
   "cell_type": "markdown",
   "metadata": {
    "colab_type": "text",
    "id": "l4TbJGeSOIU4",
    "slideshow": {
     "slide_type": "slide"
    }
   },
   "source": [
    "### Build a neural Network with a cross entropy loss function and sgd optimizer in Keras. The output layer with 10 neurons as we have 10 classes."
   ]
  },
  {
   "cell_type": "code",
   "execution_count": 12,
   "metadata": {},
   "outputs": [
    {
     "name": "stdout",
     "output_type": "stream",
     "text": [
      "Input Dimension: 28 x 28\n"
     ]
    }
   ],
   "source": [
    "# input size\n",
    "print(\"Input Dimension: %d x %d\" %(trainX.shape[1],trainX.shape[2]))"
   ]
  },
  {
   "cell_type": "code",
   "execution_count": 13,
   "metadata": {},
   "outputs": [
    {
     "name": "stdout",
     "output_type": "stream",
     "text": [
      "WARNING:tensorflow:From C:\\Users\\birender.panwar\\AppData\\Local\\conda\\conda\\envs\\glbase\\lib\\site-packages\\tensorflow\\python\\framework\\op_def_library.py:263: colocate_with (from tensorflow.python.framework.ops) is deprecated and will be removed in a future version.\n",
      "Instructions for updating:\n",
      "Colocations handled automatically by placer.\n"
     ]
    }
   ],
   "source": [
    "#Initialize Sequential model\n",
    "model = keras.models.Sequential()\n",
    "\n",
    "#Reshape data from 2D to 1D -> 28x28 to 784\n",
    "model.add(keras.layers.Reshape((784,),input_shape=(trainX.shape[1],trainX.shape[2],)))\n",
    "\n",
    "#Add Dense Layer with 10 neurons as we have 10 classes after applying softmax\n",
    "model.add(keras.layers.Dense(10, activation='softmax'))\n",
    "\n",
    "#Compile the model\n",
    "model.compile(optimizer='sgd', loss='categorical_crossentropy', metrics=['accuracy'])"
   ]
  },
  {
   "cell_type": "markdown",
   "metadata": {
    "colab_type": "text",
    "id": "3hQpLv3aOIU_",
    "slideshow": {
     "slide_type": "slide"
    }
   },
   "source": [
    "### Execute the model using model.fit()"
   ]
  },
  {
   "cell_type": "code",
   "execution_count": 14,
   "metadata": {
    "colab": {},
    "colab_type": "code",
    "id": "O59C_-IgOIVB"
   },
   "outputs": [
    {
     "name": "stdout",
     "output_type": "stream",
     "text": [
      "WARNING:tensorflow:From C:\\Users\\birender.panwar\\AppData\\Local\\conda\\conda\\envs\\glbase\\lib\\site-packages\\tensorflow\\python\\ops\\math_ops.py:3066: to_int32 (from tensorflow.python.ops.math_ops) is deprecated and will be removed in a future version.\n",
      "Instructions for updating:\n",
      "Use tf.cast instead.\n",
      "Train on 60000 samples, validate on 10000 samples\n",
      "Epoch 1/5\n",
      "60000/60000 [==============================] - 3s 49us/step - loss: 14.5051 - acc: 0.1000 - val_loss: 14.5063 - val_acc: 0.1000\n",
      "Epoch 2/5\n",
      "60000/60000 [==============================] - 3s 44us/step - loss: 14.5063 - acc: 0.1000 - val_loss: 14.5063 - val_acc: 0.1000\n",
      "Epoch 3/5\n",
      "60000/60000 [==============================] - 3s 44us/step - loss: 14.5063 - acc: 0.1000 - val_loss: 14.5063 - val_acc: 0.1000\n",
      "Epoch 4/5\n",
      "60000/60000 [==============================] - 3s 44us/step - loss: 14.5063 - acc: 0.1000 - val_loss: 14.5063 - val_acc: 0.1000\n",
      "Epoch 5/5\n",
      "60000/60000 [==============================] - 3s 44us/step - loss: 14.5063 - acc: 0.1000 - val_loss: 14.5063 - val_acc: 0.1000\n"
     ]
    },
    {
     "data": {
      "text/plain": [
       "<keras.callbacks.History at 0x1f8af0b0ba8>"
      ]
     },
     "execution_count": 14,
     "metadata": {},
     "output_type": "execute_result"
    }
   ],
   "source": [
    "model.fit(trainX, trainY, \n",
    "          validation_data=(testX, testY), \n",
    "          epochs=5,\n",
    "          batch_size=32)"
   ]
  },
  {
   "cell_type": "code",
   "execution_count": 15,
   "metadata": {},
   "outputs": [
    {
     "name": "stdout",
     "output_type": "stream",
     "text": [
      "10000/10000 [==============================] - 0s 21us/step\n",
      "\n",
      "Test accuracy: 10.00\n"
     ]
    }
   ],
   "source": [
    "test_loss, test_acc = model.evaluate(testX, testY)\n",
    "print('\\nTest accuracy: %0.2f' %(test_acc*100))"
   ]
  },
  {
   "cell_type": "markdown",
   "metadata": {
    "colab_type": "text",
    "id": "JdzDtGwDOIVF",
    "slideshow": {
     "slide_type": "slide"
    }
   },
   "source": [
    "### In the above Neural Network model add Batch Normalization layer after the input layer and repeat the steps."
   ]
  },
  {
   "cell_type": "code",
   "execution_count": 16,
   "metadata": {
    "colab": {},
    "colab_type": "code",
    "id": "kndfpdidOIVI"
   },
   "outputs": [],
   "source": [
    "#Initialize Sequential model\n",
    "model = keras.models.Sequential()\n",
    "\n",
    "#Reshape data from 2D to 1D -> 28x28 to 784\n",
    "model.add(keras.layers.Reshape((784,),input_shape=(trainX.shape[1],trainX.shape[2],)))\n",
    "\n",
    "#Normalize the data\n",
    "model.add(keras.layers.BatchNormalization())\n",
    "\n",
    "#Add Dense Layer with 10 neurons as we have 10 classes after applying softmax\n",
    "model.add(keras.layers.Dense(10, activation='softmax'))\n",
    "\n",
    "#Compile the model\n",
    "model.compile(optimizer='sgd', loss='categorical_crossentropy', metrics=['accuracy'])"
   ]
  },
  {
   "cell_type": "markdown",
   "metadata": {
    "colab_type": "text",
    "id": "mwk3T5LJOIVN",
    "slideshow": {
     "slide_type": "slide"
    }
   },
   "source": [
    "### Execute the model"
   ]
  },
  {
   "cell_type": "code",
   "execution_count": 17,
   "metadata": {
    "colab": {},
    "colab_type": "code",
    "id": "JNLR8tcBOIVP"
   },
   "outputs": [
    {
     "name": "stdout",
     "output_type": "stream",
     "text": [
      "Train on 60000 samples, validate on 10000 samples\n",
      "Epoch 1/10\n",
      "60000/60000 [==============================] - 4s 74us/step - loss: 0.5987 - acc: 0.7943 - val_loss: 0.5214 - val_acc: 0.8210\n",
      "Epoch 2/10\n",
      "60000/60000 [==============================] - 4s 63us/step - loss: 0.4896 - acc: 0.8300 - val_loss: 0.4884 - val_acc: 0.8300\n",
      "Epoch 3/10\n",
      "60000/60000 [==============================] - 4s 63us/step - loss: 0.4685 - acc: 0.8381 - val_loss: 0.4887 - val_acc: 0.8307\n",
      "Epoch 4/10\n",
      "60000/60000 [==============================] - 4s 63us/step - loss: 0.4590 - acc: 0.8412 - val_loss: 0.4734 - val_acc: 0.8375\n",
      "Epoch 5/10\n",
      "60000/60000 [==============================] - 4s 65us/step - loss: 0.4512 - acc: 0.8428 - val_loss: 0.4689 - val_acc: 0.8382\n",
      "Epoch 6/10\n",
      "60000/60000 [==============================] - 4s 66us/step - loss: 0.4434 - acc: 0.8470 - val_loss: 0.4670 - val_acc: 0.8392\n",
      "Epoch 7/10\n",
      "60000/60000 [==============================] - 4s 66us/step - loss: 0.4407 - acc: 0.8479 - val_loss: 0.4729 - val_acc: 0.8361\n",
      "Epoch 8/10\n",
      "60000/60000 [==============================] - 4s 67us/step - loss: 0.4373 - acc: 0.8489 - val_loss: 0.4598 - val_acc: 0.8396\n",
      "Epoch 9/10\n",
      "60000/60000 [==============================] - 4s 66us/step - loss: 0.4327 - acc: 0.8511 - val_loss: 0.4670 - val_acc: 0.8389\n",
      "Epoch 10/10\n",
      "60000/60000 [==============================] - 4s 67us/step - loss: 0.4312 - acc: 0.8507 - val_loss: 0.4632 - val_acc: 0.8418\n"
     ]
    },
    {
     "data": {
      "text/plain": [
       "<keras.callbacks.History at 0x1f8af8d68d0>"
      ]
     },
     "execution_count": 17,
     "metadata": {},
     "output_type": "execute_result"
    }
   ],
   "source": [
    "model.fit(trainX, trainY, \n",
    "          validation_data=(testX, testY), \n",
    "          epochs=10,\n",
    "          batch_size=32)"
   ]
  },
  {
   "cell_type": "code",
   "execution_count": 18,
   "metadata": {},
   "outputs": [
    {
     "name": "stdout",
     "output_type": "stream",
     "text": [
      "10000/10000 [==============================] - 0s 32us/step\n",
      "\n",
      "Test accuracy:[With Batch Normalization]: 84.18\n"
     ]
    }
   ],
   "source": [
    "test_loss, test_acc = model.evaluate(testX, testY)\n",
    "print('\\nTest accuracy:[With Batch Normalization]: %0.2f' %(test_acc*100))"
   ]
  },
  {
   "cell_type": "markdown",
   "metadata": {
    "colab_type": "text",
    "id": "Py-KwkmjOIVU"
   },
   "source": [
    "### Customize the learning rate to 0.001 in sgd optimizer and run the model"
   ]
  },
  {
   "cell_type": "code",
   "execution_count": 19,
   "metadata": {
    "colab": {},
    "colab_type": "code",
    "id": "yLXUE9jWOIVV"
   },
   "outputs": [],
   "source": [
    "# Customize the learning rate to 0.001 in sgd optimizer\n",
    "lr=0.001\n",
    "sgd_optimizer = keras.optimizers.SGD(lr=lr)\n",
    "model.compile(optimizer=sgd_optimizer, loss='categorical_crossentropy', metrics=['accuracy'])"
   ]
  },
  {
   "cell_type": "code",
   "execution_count": 20,
   "metadata": {},
   "outputs": [
    {
     "name": "stdout",
     "output_type": "stream",
     "text": [
      "Train on 60000 samples, validate on 10000 samples\n",
      "Epoch 1/10\n",
      "60000/60000 [==============================] - 4s 74us/step - loss: 0.4194 - acc: 0.8546 - val_loss: 0.4590 - val_acc: 0.8436\n",
      "Epoch 2/10\n",
      "60000/60000 [==============================] - 4s 64us/step - loss: 0.4166 - acc: 0.8556 - val_loss: 0.4565 - val_acc: 0.8416\n",
      "Epoch 3/10\n",
      "60000/60000 [==============================] - 4s 64us/step - loss: 0.4152 - acc: 0.8565 - val_loss: 0.4562 - val_acc: 0.8440\n",
      "Epoch 4/10\n",
      "60000/60000 [==============================] - 4s 65us/step - loss: 0.4147 - acc: 0.8563 - val_loss: 0.4581 - val_acc: 0.8429\n",
      "Epoch 5/10\n",
      "60000/60000 [==============================] - 4s 64us/step - loss: 0.4156 - acc: 0.8551 - val_loss: 0.4573 - val_acc: 0.8435\n",
      "Epoch 6/10\n",
      "60000/60000 [==============================] - 4s 65us/step - loss: 0.4138 - acc: 0.8551 - val_loss: 0.4527 - val_acc: 0.8426\n",
      "Epoch 7/10\n",
      "60000/60000 [==============================] - 4s 66us/step - loss: 0.4136 - acc: 0.8574 - val_loss: 0.4606 - val_acc: 0.8432\n",
      "Epoch 8/10\n",
      "60000/60000 [==============================] - 4s 65us/step - loss: 0.4157 - acc: 0.8568 - val_loss: 0.4572 - val_acc: 0.8430\n",
      "Epoch 9/10\n",
      "60000/60000 [==============================] - 4s 65us/step - loss: 0.4131 - acc: 0.8567 - val_loss: 0.4614 - val_acc: 0.8426\n",
      "Epoch 10/10\n",
      "60000/60000 [==============================] - 4s 66us/step - loss: 0.4130 - acc: 0.8572 - val_loss: 0.4564 - val_acc: 0.8431\n"
     ]
    },
    {
     "data": {
      "text/plain": [
       "<keras.callbacks.History at 0x1f8af8d6908>"
      ]
     },
     "execution_count": 20,
     "metadata": {},
     "output_type": "execute_result"
    }
   ],
   "source": [
    "model.fit(trainX, trainY, \n",
    "          validation_data=(testX, testY), \n",
    "          epochs=10,\n",
    "          batch_size=32)"
   ]
  },
  {
   "cell_type": "code",
   "execution_count": 21,
   "metadata": {},
   "outputs": [
    {
     "name": "stdout",
     "output_type": "stream",
     "text": [
      "10000/10000 [==============================] - 0s 28us/step\n",
      "\n",
      "Test accuracy:[With sgd optimizer, learning rate= 0.001000]: 84.31\n"
     ]
    }
   ],
   "source": [
    "test_loss, test_acc = model.evaluate(testX, testY)\n",
    "print('\\nTest accuracy:[With sgd optimizer, learning rate= %f]: %0.2f' %(lr, test_acc*100))"
   ]
  },
  {
   "cell_type": "markdown",
   "metadata": {
    "colab_type": "text",
    "id": "j9CSqKvpOIVk",
    "slideshow": {
     "slide_type": "slide"
    }
   },
   "source": [
    "### Build the Neural Network model with 3 Dense layers with 100,100,10 neurons respectively in each layer. Use cross entropy loss function and singmoid as activation in the hidden layers and softmax as activation function in the output layer. Use sgd optimizer with learning rate 0.03."
   ]
  },
  {
   "cell_type": "code",
   "execution_count": 26,
   "metadata": {
    "colab": {},
    "colab_type": "code",
    "id": "GGAad54JOIVm"
   },
   "outputs": [],
   "source": [
    "#Initialize Sequential model\n",
    "model = keras.models.Sequential()\n",
    "\n",
    "#Reshape data from 2D to 1D -> 28x28 to 784\n",
    "model.add(keras.layers.Reshape((784,),input_shape=(trainX.shape[1],trainX.shape[2],)))\n",
    "\n",
    "#Normalize the data\n",
    "model.add(keras.layers.BatchNormalization())\n",
    "\n",
    "model.add(keras.layers.Dense(100, activation='sigmoid'))\n",
    "\n",
    "model.add(keras.layers.Dense(100, activation='sigmoid'))\n",
    "\n",
    "#Add Dense Layer with 10 neurons as we have 10 classes after applying softmax\n",
    "model.add(keras.layers.Dense(10, activation='softmax'))\n",
    "\n",
    "# Customize sgd optimizer\n",
    "sgd_optimizer = keras.optimizers.SGD(lr=0.03)\n",
    "\n",
    "#Compile the model\n",
    "model.compile(optimizer=sgd_optimizer, loss='categorical_crossentropy', metrics=['accuracy'])"
   ]
  },
  {
   "cell_type": "markdown",
   "metadata": {
    "colab_type": "text",
    "id": "Nr2YsZV0OIV0",
    "slideshow": {
     "slide_type": "slide"
    }
   },
   "source": [
    "## Review model"
   ]
  },
  {
   "cell_type": "markdown",
   "metadata": {
    "colab_type": "text",
    "id": "gfFGmbZLOIV5",
    "slideshow": {
     "slide_type": "slide"
    }
   },
   "source": [
    "### Run the model"
   ]
  },
  {
   "cell_type": "code",
   "execution_count": 27,
   "metadata": {
    "colab": {},
    "colab_type": "code",
    "id": "bIkbMEN5OIV7"
   },
   "outputs": [
    {
     "name": "stdout",
     "output_type": "stream",
     "text": [
      "Train on 60000 samples, validate on 10000 samples\n",
      "Epoch 1/50\n",
      "60000/60000 [==============================] - 6s 103us/step - loss: 1.0441 - acc: 0.6879 - val_loss: 0.6435 - val_acc: 0.7754\n",
      "Epoch 2/50\n",
      "60000/60000 [==============================] - 5s 87us/step - loss: 0.5706 - acc: 0.7985 - val_loss: 0.5144 - val_acc: 0.8169\n",
      "Epoch 3/50\n",
      "60000/60000 [==============================] - 5s 88us/step - loss: 0.4893 - acc: 0.8270 - val_loss: 0.4677 - val_acc: 0.8343\n",
      "Epoch 4/50\n",
      "60000/60000 [==============================] - 5s 92us/step - loss: 0.4500 - acc: 0.8404 - val_loss: 0.4480 - val_acc: 0.8368\n",
      "Epoch 5/50\n",
      "60000/60000 [==============================] - 5s 90us/step - loss: 0.4256 - acc: 0.8477 - val_loss: 0.4309 - val_acc: 0.8437\n",
      "Epoch 6/50\n",
      "60000/60000 [==============================] - 5s 89us/step - loss: 0.4109 - acc: 0.8535 - val_loss: 0.4182 - val_acc: 0.8494\n",
      "Epoch 7/50\n",
      "60000/60000 [==============================] - 5s 89us/step - loss: 0.3954 - acc: 0.8582 - val_loss: 0.4078 - val_acc: 0.8553\n",
      "Epoch 8/50\n",
      "60000/60000 [==============================] - 5s 90us/step - loss: 0.3841 - acc: 0.8636 - val_loss: 0.3975 - val_acc: 0.8568\n",
      "Epoch 9/50\n",
      "60000/60000 [==============================] - 5s 91us/step - loss: 0.3727 - acc: 0.8669 - val_loss: 0.3886 - val_acc: 0.8599\n",
      "Epoch 10/50\n",
      "60000/60000 [==============================] - 5s 91us/step - loss: 0.3635 - acc: 0.8697 - val_loss: 0.3824 - val_acc: 0.8643\n",
      "Epoch 11/50\n",
      "60000/60000 [==============================] - 5s 91us/step - loss: 0.3547 - acc: 0.8725 - val_loss: 0.3763 - val_acc: 0.8661\n",
      "Epoch 12/50\n",
      "60000/60000 [==============================] - 6s 92us/step - loss: 0.3485 - acc: 0.8747 - val_loss: 0.3723 - val_acc: 0.8668\n",
      "Epoch 13/50\n",
      "60000/60000 [==============================] - 6s 92us/step - loss: 0.3432 - acc: 0.8767 - val_loss: 0.3683 - val_acc: 0.8673\n",
      "Epoch 14/50\n",
      "60000/60000 [==============================] - 6s 92us/step - loss: 0.3366 - acc: 0.8791 - val_loss: 0.3636 - val_acc: 0.8688\n",
      "Epoch 15/50\n",
      "60000/60000 [==============================] - 6s 92us/step - loss: 0.3275 - acc: 0.8821 - val_loss: 0.3601 - val_acc: 0.8679\n",
      "Epoch 16/50\n",
      "60000/60000 [==============================] - 6s 92us/step - loss: 0.3216 - acc: 0.8847 - val_loss: 0.3561 - val_acc: 0.8711\n",
      "Epoch 17/50\n",
      "60000/60000 [==============================] - 5s 92us/step - loss: 0.3171 - acc: 0.8855 - val_loss: 0.3577 - val_acc: 0.8708\n",
      "Epoch 18/50\n",
      "60000/60000 [==============================] - 5s 92us/step - loss: 0.3121 - acc: 0.8864 - val_loss: 0.3552 - val_acc: 0.8710\n",
      "Epoch 19/50\n",
      "60000/60000 [==============================] - 5s 91us/step - loss: 0.3052 - acc: 0.8897 - val_loss: 0.3501 - val_acc: 0.8727\n",
      "Epoch 20/50\n",
      "60000/60000 [==============================] - 6s 93us/step - loss: 0.3017 - acc: 0.8919 - val_loss: 0.3423 - val_acc: 0.8751\n",
      "Epoch 21/50\n",
      "60000/60000 [==============================] - 5s 92us/step - loss: 0.2971 - acc: 0.8919 - val_loss: 0.3489 - val_acc: 0.8704\n",
      "Epoch 22/50\n",
      "60000/60000 [==============================] - 6s 94us/step - loss: 0.2907 - acc: 0.8939 - val_loss: 0.3414 - val_acc: 0.8756\n",
      "Epoch 23/50\n",
      "60000/60000 [==============================] - 6s 93us/step - loss: 0.2892 - acc: 0.8942 - val_loss: 0.3406 - val_acc: 0.8741\n",
      "Epoch 24/50\n",
      "60000/60000 [==============================] - 6s 96us/step - loss: 0.2814 - acc: 0.8977 - val_loss: 0.3385 - val_acc: 0.8750\n",
      "Epoch 25/50\n",
      "60000/60000 [==============================] - 6s 93us/step - loss: 0.2783 - acc: 0.8989 - val_loss: 0.3369 - val_acc: 0.8749\n",
      "Epoch 26/50\n",
      "60000/60000 [==============================] - 5s 90us/step - loss: 0.2751 - acc: 0.9004 - val_loss: 0.3373 - val_acc: 0.8774\n",
      "Epoch 27/50\n",
      "60000/60000 [==============================] - 5s 91us/step - loss: 0.2693 - acc: 0.9013 - val_loss: 0.3375 - val_acc: 0.8755\n",
      "Epoch 28/50\n",
      "60000/60000 [==============================] - 5s 91us/step - loss: 0.2656 - acc: 0.9033 - val_loss: 0.3339 - val_acc: 0.8779\n",
      "Epoch 29/50\n",
      "60000/60000 [==============================] - 5s 91us/step - loss: 0.2626 - acc: 0.9027 - val_loss: 0.3372 - val_acc: 0.8766\n",
      "Epoch 30/50\n",
      "60000/60000 [==============================] - 6s 92us/step - loss: 0.2590 - acc: 0.9062 - val_loss: 0.3358 - val_acc: 0.8793\n",
      "Epoch 31/50\n",
      "60000/60000 [==============================] - 6s 92us/step - loss: 0.2550 - acc: 0.9074 - val_loss: 0.3365 - val_acc: 0.8795\n",
      "Epoch 32/50\n",
      "60000/60000 [==============================] - 6s 92us/step - loss: 0.2511 - acc: 0.9078 - val_loss: 0.3346 - val_acc: 0.8787\n",
      "Epoch 33/50\n",
      "60000/60000 [==============================] - 6s 92us/step - loss: 0.2481 - acc: 0.9104 - val_loss: 0.3301 - val_acc: 0.8807\n",
      "Epoch 34/50\n",
      "60000/60000 [==============================] - 6s 93us/step - loss: 0.2441 - acc: 0.9104 - val_loss: 0.3356 - val_acc: 0.8794\n",
      "Epoch 35/50\n",
      "60000/60000 [==============================] - 6s 92us/step - loss: 0.2400 - acc: 0.9113 - val_loss: 0.3342 - val_acc: 0.8801\n",
      "Epoch 36/50\n",
      "60000/60000 [==============================] - 6s 92us/step - loss: 0.2376 - acc: 0.9144 - val_loss: 0.3248 - val_acc: 0.8815\n",
      "Epoch 37/50\n",
      "60000/60000 [==============================] - 6s 93us/step - loss: 0.2346 - acc: 0.9149 - val_loss: 0.3357 - val_acc: 0.8805\n",
      "Epoch 38/50\n",
      "60000/60000 [==============================] - 6s 93us/step - loss: 0.2327 - acc: 0.9150 - val_loss: 0.3347 - val_acc: 0.8804\n",
      "Epoch 39/50\n",
      "60000/60000 [==============================] - 6s 93us/step - loss: 0.2286 - acc: 0.9166 - val_loss: 0.3293 - val_acc: 0.8823\n",
      "Epoch 40/50\n",
      "60000/60000 [==============================] - 6s 95us/step - loss: 0.2260 - acc: 0.9182 - val_loss: 0.3320 - val_acc: 0.8803\n",
      "Epoch 41/50\n",
      "60000/60000 [==============================] - 6s 95us/step - loss: 0.2211 - acc: 0.9191 - val_loss: 0.3327 - val_acc: 0.8796\n",
      "Epoch 42/50\n",
      "60000/60000 [==============================] - 6s 93us/step - loss: 0.2198 - acc: 0.9193 - val_loss: 0.3335 - val_acc: 0.8818\n",
      "Epoch 43/50\n",
      "60000/60000 [==============================] - 6s 94us/step - loss: 0.2172 - acc: 0.9203 - val_loss: 0.3284 - val_acc: 0.8817\n",
      "Epoch 44/50\n",
      "60000/60000 [==============================] - 6s 95us/step - loss: 0.2150 - acc: 0.9208 - val_loss: 0.3293 - val_acc: 0.8826\n",
      "Epoch 45/50\n",
      "60000/60000 [==============================] - 6s 93us/step - loss: 0.2124 - acc: 0.9229 - val_loss: 0.3365 - val_acc: 0.8847\n",
      "Epoch 46/50\n",
      "60000/60000 [==============================] - 6s 93us/step - loss: 0.2090 - acc: 0.9234 - val_loss: 0.3298 - val_acc: 0.8832\n",
      "Epoch 47/50\n",
      "60000/60000 [==============================] - 6s 96us/step - loss: 0.2058 - acc: 0.9251 - val_loss: 0.3325 - val_acc: 0.8834\n",
      "Epoch 48/50\n",
      "60000/60000 [==============================] - 6s 96us/step - loss: 0.2057 - acc: 0.9247 - val_loss: 0.3352 - val_acc: 0.8839\n",
      "Epoch 49/50\n",
      "60000/60000 [==============================] - 6s 94us/step - loss: 0.2034 - acc: 0.9246 - val_loss: 0.3369 - val_acc: 0.8830\n",
      "Epoch 50/50\n",
      "60000/60000 [==============================] - 6s 93us/step - loss: 0.1978 - acc: 0.9274 - val_loss: 0.3457 - val_acc: 0.8806\n"
     ]
    }
   ],
   "source": [
    "history = model.fit(trainX, trainY, \n",
    "          validation_data=(testX, testY), \n",
    "          epochs=50,\n",
    "          batch_size=32)"
   ]
  },
  {
   "cell_type": "code",
   "execution_count": 28,
   "metadata": {},
   "outputs": [
    {
     "name": "stdout",
     "output_type": "stream",
     "text": [
      "10000/10000 [==============================] - 0s 38us/step\n",
      "\n",
      "Test accuracy: 88.06\n"
     ]
    }
   ],
   "source": [
    "test_loss, test_acc = model.evaluate(testX, testY)\n",
    "print('\\nTest accuracy: %0.2f' %(test_acc*100))"
   ]
  },
  {
   "cell_type": "code",
   "execution_count": 29,
   "metadata": {},
   "outputs": [
    {
     "name": "stdout",
     "output_type": "stream",
     "text": [
      "dict_keys(['val_loss', 'val_acc', 'loss', 'acc'])\n"
     ]
    },
    {
     "data": {
      "image/png": "[encoded data removed]",
      "text/plain": [
       "<Figure size 432x288 with 1 Axes>"
      ]
     },
     "metadata": {
      "needs_background": "light"
     },
     "output_type": "display_data"
    },
    {
     "data": {
      "image/png": "[encoded data removed]",
      "text/plain": [
       "<Figure size 432x288 with 1 Axes>"
      ]
     },
     "metadata": {
      "needs_background": "light"
     },
     "output_type": "display_data"
    }
   ],
   "source": [
    "# list all data in history\n",
    "print(history.history.keys())\n",
    "# summarize history for accuracy\n",
    "plt.plot(history.history['acc'])\n",
    "plt.plot(history.history['val_acc'])\n",
    "plt.title('model accuracy')\n",
    "plt.ylabel('accuracy')\n",
    "plt.xlabel('epoch')\n",
    "plt.legend(['train', 'test'], loc='upper left')\n",
    "plt.show()\n",
    "\n",
    "# summarize history for loss\n",
    "plt.plot(history.history['loss'])\n",
    "plt.plot(history.history['val_loss'])\n",
    "plt.title('model loss')\n",
    "plt.ylabel('loss')\n",
    "plt.xlabel('epoch')\n",
    "plt.legend(['train', 'test'], loc='upper left')\n",
    "plt.show()"
   ]
  },
  {
   "cell_type": "code",
   "execution_count": null,
   "metadata": {},
   "outputs": [],
   "source": []
  }
 ],
 "metadata": {
  "colab": {
   "name": "R6_ExternalLab_AIML.ipynb",
   "provenance": [],
   "version": "0.3.2"
  },
  "kernelspec": {
   "display_name": "Python 3",
   "language": "python",
   "name": "python3"
  },
  "language_info": {
   "codemirror_mode": {
    "name": "ipython",
    "version": 3
   },
   "file_extension": ".py",
   "mimetype": "text/x-python",
   "name": "python",
   "nbconvert_exporter": "python",
   "pygments_lexer": "ipython3",
   "version": "3.7.1"
  }
 },
 "nbformat": 4,
 "nbformat_minor": 1
}
