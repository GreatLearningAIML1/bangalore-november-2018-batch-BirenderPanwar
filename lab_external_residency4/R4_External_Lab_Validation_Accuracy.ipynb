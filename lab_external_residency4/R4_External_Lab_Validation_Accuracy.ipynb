{
 "cells": [
  {
   "cell_type": "code",
   "execution_count": 1,
   "metadata": {
    "colab": {},
    "colab_type": "code",
    "id": "Y3vvEXP1_0og"
   },
   "outputs": [],
   "source": [
    "# Import important library\n",
    "import numpy as np\n",
    "import pandas as pd\n",
    "import matplotlib.pyplot as plt\n",
    "import seaborn as sns\n",
    "%matplotlib inline\n",
    "import warnings\n",
    "warnings.filterwarnings('ignore')\n",
    "\n",
    "from sklearn.model_selection import train_test_split"
   ]
  },
  {
   "cell_type": "markdown",
   "metadata": {
    "colab_type": "text",
    "id": "7O83uMqA_0ol"
   },
   "source": [
    "### Read the input file and check the data dimension"
   ]
  },
  {
   "cell_type": "code",
   "execution_count": 2,
   "metadata": {
    "colab": {},
    "colab_type": "code",
    "id": "EC9Oup3w_0on",
    "outputId": "08aa9a88-57df-4c19-ee40-7335b11c8b0d"
   },
   "outputs": [],
   "source": [
    "# You can access from https://www.kaggle.com/uciml/german-credit\n",
    "#Read input file and understand the data\n",
    "# \"default\" is my dependent variable"
   ]
  },
  {
   "cell_type": "code",
   "execution_count": 3,
   "metadata": {},
   "outputs": [
    {
     "name": "stdout",
     "output_type": "stream",
     "text": [
      "Shape:  (1000, 21)\n"
     ]
    },
    {
     "data": {
      "text/html": [
       "<div>\n",
       "<style scoped>\n",
       "    .dataframe tbody tr th:only-of-type {\n",
       "        vertical-align: middle;\n",
       "    }\n",
       "\n",
       "    .dataframe tbody tr th {\n",
       "        vertical-align: top;\n",
       "    }\n",
       "\n",
       "    .dataframe thead th {\n",
       "        text-align: right;\n",
       "    }\n",
       "</style>\n",
       "<table border=\"1\" class=\"dataframe\">\n",
       "  <thead>\n",
       "    <tr style=\"text-align: right;\">\n",
       "      <th></th>\n",
       "      <th>default</th>\n",
       "      <th>account_check_status</th>\n",
       "      <th>duration_in_month</th>\n",
       "      <th>credit_history</th>\n",
       "      <th>purpose</th>\n",
       "      <th>credit_amount</th>\n",
       "      <th>savings</th>\n",
       "      <th>present_emp_since</th>\n",
       "      <th>installment_as_income_perc</th>\n",
       "      <th>personal_status_sex</th>\n",
       "      <th>...</th>\n",
       "      <th>present_res_since</th>\n",
       "      <th>property</th>\n",
       "      <th>age</th>\n",
       "      <th>other_installment_plans</th>\n",
       "      <th>housing</th>\n",
       "      <th>credits_this_bank</th>\n",
       "      <th>job</th>\n",
       "      <th>people_under_maintenance</th>\n",
       "      <th>telephone</th>\n",
       "      <th>foreign_worker</th>\n",
       "    </tr>\n",
       "  </thead>\n",
       "  <tbody>\n",
       "    <tr>\n",
       "      <th>0</th>\n",
       "      <td>0</td>\n",
       "      <td>&lt; 0 DM</td>\n",
       "      <td>6</td>\n",
       "      <td>critical account/ other credits existing (not ...</td>\n",
       "      <td>domestic appliances</td>\n",
       "      <td>1169</td>\n",
       "      <td>unknown/ no savings account</td>\n",
       "      <td>.. &gt;= 7 years</td>\n",
       "      <td>4</td>\n",
       "      <td>male : single</td>\n",
       "      <td>...</td>\n",
       "      <td>4</td>\n",
       "      <td>real estate</td>\n",
       "      <td>67</td>\n",
       "      <td>none</td>\n",
       "      <td>own</td>\n",
       "      <td>2</td>\n",
       "      <td>skilled employee / official</td>\n",
       "      <td>1</td>\n",
       "      <td>yes, registered under the customers name</td>\n",
       "      <td>yes</td>\n",
       "    </tr>\n",
       "    <tr>\n",
       "      <th>1</th>\n",
       "      <td>1</td>\n",
       "      <td>0 &lt;= ... &lt; 200 DM</td>\n",
       "      <td>48</td>\n",
       "      <td>existing credits paid back duly till now</td>\n",
       "      <td>domestic appliances</td>\n",
       "      <td>5951</td>\n",
       "      <td>... &lt; 100 DM</td>\n",
       "      <td>1 &lt;= ... &lt; 4 years</td>\n",
       "      <td>2</td>\n",
       "      <td>female : divorced/separated/married</td>\n",
       "      <td>...</td>\n",
       "      <td>2</td>\n",
       "      <td>real estate</td>\n",
       "      <td>22</td>\n",
       "      <td>none</td>\n",
       "      <td>own</td>\n",
       "      <td>1</td>\n",
       "      <td>skilled employee / official</td>\n",
       "      <td>1</td>\n",
       "      <td>none</td>\n",
       "      <td>yes</td>\n",
       "    </tr>\n",
       "    <tr>\n",
       "      <th>2</th>\n",
       "      <td>0</td>\n",
       "      <td>no checking account</td>\n",
       "      <td>12</td>\n",
       "      <td>critical account/ other credits existing (not ...</td>\n",
       "      <td>(vacation - does not exist?)</td>\n",
       "      <td>2096</td>\n",
       "      <td>... &lt; 100 DM</td>\n",
       "      <td>4 &lt;= ... &lt; 7 years</td>\n",
       "      <td>2</td>\n",
       "      <td>male : single</td>\n",
       "      <td>...</td>\n",
       "      <td>3</td>\n",
       "      <td>real estate</td>\n",
       "      <td>49</td>\n",
       "      <td>none</td>\n",
       "      <td>own</td>\n",
       "      <td>1</td>\n",
       "      <td>unskilled - resident</td>\n",
       "      <td>2</td>\n",
       "      <td>none</td>\n",
       "      <td>yes</td>\n",
       "    </tr>\n",
       "    <tr>\n",
       "      <th>3</th>\n",
       "      <td>0</td>\n",
       "      <td>&lt; 0 DM</td>\n",
       "      <td>42</td>\n",
       "      <td>existing credits paid back duly till now</td>\n",
       "      <td>radio/television</td>\n",
       "      <td>7882</td>\n",
       "      <td>... &lt; 100 DM</td>\n",
       "      <td>4 &lt;= ... &lt; 7 years</td>\n",
       "      <td>2</td>\n",
       "      <td>male : single</td>\n",
       "      <td>...</td>\n",
       "      <td>4</td>\n",
       "      <td>if not A121 : building society savings agreeme...</td>\n",
       "      <td>45</td>\n",
       "      <td>none</td>\n",
       "      <td>for free</td>\n",
       "      <td>1</td>\n",
       "      <td>skilled employee / official</td>\n",
       "      <td>2</td>\n",
       "      <td>none</td>\n",
       "      <td>yes</td>\n",
       "    </tr>\n",
       "    <tr>\n",
       "      <th>4</th>\n",
       "      <td>1</td>\n",
       "      <td>&lt; 0 DM</td>\n",
       "      <td>24</td>\n",
       "      <td>delay in paying off in the past</td>\n",
       "      <td>car (new)</td>\n",
       "      <td>4870</td>\n",
       "      <td>... &lt; 100 DM</td>\n",
       "      <td>1 &lt;= ... &lt; 4 years</td>\n",
       "      <td>3</td>\n",
       "      <td>male : single</td>\n",
       "      <td>...</td>\n",
       "      <td>4</td>\n",
       "      <td>unknown / no property</td>\n",
       "      <td>53</td>\n",
       "      <td>none</td>\n",
       "      <td>for free</td>\n",
       "      <td>2</td>\n",
       "      <td>skilled employee / official</td>\n",
       "      <td>2</td>\n",
       "      <td>none</td>\n",
       "      <td>yes</td>\n",
       "    </tr>\n",
       "  </tbody>\n",
       "</table>\n",
       "<p>5 rows × 21 columns</p>\n",
       "</div>"
      ],
      "text/plain": [
       "   default account_check_status  duration_in_month  \\\n",
       "0        0               < 0 DM                  6   \n",
       "1        1    0 <= ... < 200 DM                 48   \n",
       "2        0  no checking account                 12   \n",
       "3        0               < 0 DM                 42   \n",
       "4        1               < 0 DM                 24   \n",
       "\n",
       "                                      credit_history  \\\n",
       "0  critical account/ other credits existing (not ...   \n",
       "1           existing credits paid back duly till now   \n",
       "2  critical account/ other credits existing (not ...   \n",
       "3           existing credits paid back duly till now   \n",
       "4                    delay in paying off in the past   \n",
       "\n",
       "                        purpose  credit_amount                      savings  \\\n",
       "0           domestic appliances           1169  unknown/ no savings account   \n",
       "1           domestic appliances           5951                 ... < 100 DM   \n",
       "2  (vacation - does not exist?)           2096                 ... < 100 DM   \n",
       "3              radio/television           7882                 ... < 100 DM   \n",
       "4                     car (new)           4870                 ... < 100 DM   \n",
       "\n",
       "    present_emp_since  installment_as_income_perc  \\\n",
       "0       .. >= 7 years                           4   \n",
       "1  1 <= ... < 4 years                           2   \n",
       "2  4 <= ... < 7 years                           2   \n",
       "3  4 <= ... < 7 years                           2   \n",
       "4  1 <= ... < 4 years                           3   \n",
       "\n",
       "                   personal_status_sex      ...       present_res_since  \\\n",
       "0                        male : single      ...                       4   \n",
       "1  female : divorced/separated/married      ...                       2   \n",
       "2                        male : single      ...                       3   \n",
       "3                        male : single      ...                       4   \n",
       "4                        male : single      ...                       4   \n",
       "\n",
       "                                            property age  \\\n",
       "0                                        real estate  67   \n",
       "1                                        real estate  22   \n",
       "2                                        real estate  49   \n",
       "3  if not A121 : building society savings agreeme...  45   \n",
       "4                              unknown / no property  53   \n",
       "\n",
       "   other_installment_plans   housing credits_this_bank  \\\n",
       "0                     none       own                 2   \n",
       "1                     none       own                 1   \n",
       "2                     none       own                 1   \n",
       "3                     none  for free                 1   \n",
       "4                     none  for free                 2   \n",
       "\n",
       "                           job people_under_maintenance  \\\n",
       "0  skilled employee / official                        1   \n",
       "1  skilled employee / official                        1   \n",
       "2         unskilled - resident                        2   \n",
       "3  skilled employee / official                        2   \n",
       "4  skilled employee / official                        2   \n",
       "\n",
       "                                   telephone foreign_worker  \n",
       "0  yes, registered under the customers name             yes  \n",
       "1                                       none            yes  \n",
       "2                                       none            yes  \n",
       "3                                       none            yes  \n",
       "4                                       none            yes  \n",
       "\n",
       "[5 rows x 21 columns]"
      ]
     },
     "execution_count": 3,
     "metadata": {},
     "output_type": "execute_result"
    }
   ],
   "source": [
    "# load the data set\n",
    "df_credit = pd.read_csv(\"german_credit.csv\")\n",
    "print(\"Shape: \",df_credit.shape)\n",
    "df_credit.head()"
   ]
  },
  {
   "cell_type": "markdown",
   "metadata": {
    "colab_type": "text",
    "id": "ASgoNlMB_0ov"
   },
   "source": [
    "### Q1 Randomly select 50% data for this use case( 1 Marks)\n",
    "###### Hint: Use train_test_split"
   ]
  },
  {
   "cell_type": "code",
   "execution_count": 4,
   "metadata": {},
   "outputs": [],
   "source": [
    "X = df_credit.drop(columns=[\"default\"],axis=1)\n",
    "y = df_credit[['default']]"
   ]
  },
  {
   "cell_type": "code",
   "execution_count": 5,
   "metadata": {},
   "outputs": [],
   "source": [
    "X_train, X_test, y_train, y_test = train_test_split(X,y,test_size=0.50,random_state=1)"
   ]
  },
  {
   "cell_type": "code",
   "execution_count": 6,
   "metadata": {},
   "outputs": [
    {
     "name": "stdout",
     "output_type": "stream",
     "text": [
      "Training Set Size:  (500, 20)\n",
      "Testing Set Size:  (500, 20)\n"
     ]
    }
   ],
   "source": [
    "print(\"Training Set Size: \",X_train.shape)\n",
    "print(\"Testing Set Size: \",X_test.shape)"
   ]
  },
  {
   "cell_type": "code",
   "execution_count": 7,
   "metadata": {
    "colab": {},
    "colab_type": "code",
    "id": "gKaiZis__0o0"
   },
   "outputs": [],
   "source": [
    "# Lets build a Ensemble model but need to modify the dataset first"
   ]
  },
  {
   "cell_type": "markdown",
   "metadata": {
    "colab_type": "text",
    "id": "utYEGBER_0o4"
   },
   "source": [
    "### Q2.Prepare the model data by converting non-numeric to dummy ( 1 Marks)\n",
    "##### Hint: Use get_dummies"
   ]
  },
  {
   "cell_type": "code",
   "execution_count": 8,
   "metadata": {
    "colab": {},
    "colab_type": "code",
    "id": "wjyTJcA6_0o6",
    "outputId": "e6bf7e9d-5732-4836-c0bb-fe03ba34683e"
   },
   "outputs": [],
   "source": [
    "# Print Shape of model data"
   ]
  },
  {
   "cell_type": "code",
   "execution_count": 9,
   "metadata": {},
   "outputs": [
    {
     "name": "stdout",
     "output_type": "stream",
     "text": [
      "Shape:  (1000, 21)\n"
     ]
    }
   ],
   "source": [
    "print(\"Shape: \",df_credit.shape)"
   ]
  },
  {
   "cell_type": "code",
   "execution_count": 10,
   "metadata": {},
   "outputs": [
    {
     "name": "stdout",
     "output_type": "stream",
     "text": [
      "<class 'pandas.core.frame.DataFrame'>\n",
      "RangeIndex: 1000 entries, 0 to 999\n",
      "Data columns (total 21 columns):\n",
      "default                       1000 non-null int64\n",
      "account_check_status          1000 non-null object\n",
      "duration_in_month             1000 non-null int64\n",
      "credit_history                1000 non-null object\n",
      "purpose                       1000 non-null object\n",
      "credit_amount                 1000 non-null int64\n",
      "savings                       1000 non-null object\n",
      "present_emp_since             1000 non-null object\n",
      "installment_as_income_perc    1000 non-null int64\n",
      "personal_status_sex           1000 non-null object\n",
      "other_debtors                 1000 non-null object\n",
      "present_res_since             1000 non-null int64\n",
      "property                      1000 non-null object\n",
      "age                           1000 non-null int64\n",
      "other_installment_plans       1000 non-null object\n",
      "housing                       1000 non-null object\n",
      "credits_this_bank             1000 non-null int64\n",
      "job                           1000 non-null object\n",
      "people_under_maintenance      1000 non-null int64\n",
      "telephone                     1000 non-null object\n",
      "foreign_worker                1000 non-null object\n",
      "dtypes: int64(8), object(13)\n",
      "memory usage: 164.1+ KB\n"
     ]
    }
   ],
   "source": [
    "# check datatype and details\n",
    "df_credit.info()"
   ]
  },
  {
   "cell_type": "code",
   "execution_count": 11,
   "metadata": {},
   "outputs": [],
   "source": [
    "# Convert non-numeric/categorical variable into dummy/indicator variables. \n",
    "# many columns will be created as distinct values using one hot coding\n",
    "non_numeric_cols = [\"account_check_status\",\"credit_history\",\"purpose\",\"savings\",\"present_emp_since\",\"personal_status_sex\",\"other_debtors\",\"property\",\"other_installment_plans\",\"housing\",\"job\",\"people_under_maintenance\",\"telephone\",\"foreign_worker\"]\n",
    "\n",
    "df_credit = pd.get_dummies(df_credit, columns=non_numeric_cols)"
   ]
  },
  {
   "cell_type": "code",
   "execution_count": 12,
   "metadata": {},
   "outputs": [
    {
     "name": "stdout",
     "output_type": "stream",
     "text": [
      "<class 'pandas.core.frame.DataFrame'>\n",
      "RangeIndex: 1000 entries, 0 to 999\n",
      "Data columns (total 63 columns):\n",
      "default                                                                       1000 non-null int64\n",
      "duration_in_month                                                             1000 non-null int64\n",
      "credit_amount                                                                 1000 non-null int64\n",
      "installment_as_income_perc                                                    1000 non-null int64\n",
      "present_res_since                                                             1000 non-null int64\n",
      "age                                                                           1000 non-null int64\n",
      "credits_this_bank                                                             1000 non-null int64\n",
      "account_check_status_0 <= ... < 200 DM                                        1000 non-null uint8\n",
      "account_check_status_< 0 DM                                                   1000 non-null uint8\n",
      "account_check_status_>= 200 DM / salary assignments for at least 1 year       1000 non-null uint8\n",
      "account_check_status_no checking account                                      1000 non-null uint8\n",
      "credit_history_all credits at this bank paid back duly                        1000 non-null uint8\n",
      "credit_history_critical account/ other credits existing (not at this bank)    1000 non-null uint8\n",
      "credit_history_delay in paying off in the past                                1000 non-null uint8\n",
      "credit_history_existing credits paid back duly till now                       1000 non-null uint8\n",
      "credit_history_no credits taken/ all credits paid back duly                   1000 non-null uint8\n",
      "purpose_(vacation - does not exist?)                                          1000 non-null uint8\n",
      "purpose_business                                                              1000 non-null uint8\n",
      "purpose_car (new)                                                             1000 non-null uint8\n",
      "purpose_car (used)                                                            1000 non-null uint8\n",
      "purpose_domestic appliances                                                   1000 non-null uint8\n",
      "purpose_education                                                             1000 non-null uint8\n",
      "purpose_furniture/equipment                                                   1000 non-null uint8\n",
      "purpose_radio/television                                                      1000 non-null uint8\n",
      "purpose_repairs                                                               1000 non-null uint8\n",
      "purpose_retraining                                                            1000 non-null uint8\n",
      "savings_.. >= 1000 DM                                                         1000 non-null uint8\n",
      "savings_... < 100 DM                                                          1000 non-null uint8\n",
      "savings_100 <= ... < 500 DM                                                   1000 non-null uint8\n",
      "savings_500 <= ... < 1000 DM                                                  1000 non-null uint8\n",
      "savings_unknown/ no savings account                                           1000 non-null uint8\n",
      "present_emp_since_.. >= 7 years                                               1000 non-null uint8\n",
      "present_emp_since_... < 1 year                                                1000 non-null uint8\n",
      "present_emp_since_1 <= ... < 4 years                                          1000 non-null uint8\n",
      "present_emp_since_4 <= ... < 7 years                                          1000 non-null uint8\n",
      "present_emp_since_unemployed                                                  1000 non-null uint8\n",
      "personal_status_sex_female : divorced/separated/married                       1000 non-null uint8\n",
      "personal_status_sex_male : divorced/separated                                 1000 non-null uint8\n",
      "personal_status_sex_male : married/widowed                                    1000 non-null uint8\n",
      "personal_status_sex_male : single                                             1000 non-null uint8\n",
      "other_debtors_co-applicant                                                    1000 non-null uint8\n",
      "other_debtors_guarantor                                                       1000 non-null uint8\n",
      "other_debtors_none                                                            1000 non-null uint8\n",
      "property_if not A121 : building society savings agreement/ life insurance     1000 non-null uint8\n",
      "property_if not A121/A122 : car or other, not in attribute 6                  1000 non-null uint8\n",
      "property_real estate                                                          1000 non-null uint8\n",
      "property_unknown / no property                                                1000 non-null uint8\n",
      "other_installment_plans_bank                                                  1000 non-null uint8\n",
      "other_installment_plans_none                                                  1000 non-null uint8\n",
      "other_installment_plans_stores                                                1000 non-null uint8\n",
      "housing_for free                                                              1000 non-null uint8\n",
      "housing_own                                                                   1000 non-null uint8\n",
      "housing_rent                                                                  1000 non-null uint8\n",
      "job_management/ self-employed/ highly qualified employee/ officer             1000 non-null uint8\n",
      "job_skilled employee / official                                               1000 non-null uint8\n",
      "job_unemployed/ unskilled - non-resident                                      1000 non-null uint8\n",
      "job_unskilled - resident                                                      1000 non-null uint8\n",
      "people_under_maintenance_1                                                    1000 non-null uint8\n",
      "people_under_maintenance_2                                                    1000 non-null uint8\n",
      "telephone_none                                                                1000 non-null uint8\n",
      "telephone_yes, registered under the customers name                            1000 non-null uint8\n",
      "foreign_worker_no                                                             1000 non-null uint8\n",
      "foreign_worker_yes                                                            1000 non-null uint8\n",
      "dtypes: int64(7), uint8(56)\n",
      "memory usage: 109.5 KB\n"
     ]
    }
   ],
   "source": [
    "df_credit.info()"
   ]
  },
  {
   "cell_type": "markdown",
   "metadata": {
    "colab_type": "text",
    "id": "ytl4nlUW_0pA"
   },
   "source": [
    "### Check for highly correlated variables but don't required any treatment for this use case"
   ]
  },
  {
   "cell_type": "code",
   "execution_count": 13,
   "metadata": {},
   "outputs": [
    {
     "name": "stdout",
     "output_type": "stream",
     "text": [
      "\n",
      " ('duration_in_month', 'credit_amount', 0.6249841983009832)\n",
      "\n",
      " ('credits_this_bank', 'credit_history_critical account/ other credits existing (not at this bank)', 0.5013637491364831)\n",
      "\n",
      " ('credits_this_bank', 'credit_history_existing credits paid back duly till now', 0.540354484111696)\n",
      "\n",
      " ('credit_history_critical account/ other credits existing (not at this bank)', 'credit_history_existing credits paid back duly till now', 0.683617401411215)\n",
      "\n",
      " ('savings_... < 100 DM', 'savings_unknown/ no savings account', 0.5832811201871934)\n",
      "\n",
      " ('personal_status_sex_female : divorced/separated/married', 'personal_status_sex_male : single', 0.7380356889809168)\n",
      "\n",
      " ('other_debtors_co-applicant', 'other_debtors_none', 0.6457208265764921)\n",
      "\n",
      " ('other_debtors_guarantor', 'other_debtors_none', 0.7314079429820176)\n",
      "\n",
      " ('property_unknown / no property', 'housing_for free', 0.779852640966377)\n",
      "\n",
      " ('other_installment_plans_bank', 'other_installment_plans_none', 0.8405461334782369)\n",
      "\n",
      " ('housing_for free', 'housing_own', 0.5484452343874174)\n",
      "\n",
      " ('housing_own', 'housing_rent', 0.7359676982390738)\n",
      "\n",
      " ('job_management/ self-employed/ highly qualified employee/ officer', 'job_skilled employee / official', 0.5438516782058592)\n",
      "\n",
      " ('job_skilled employee / official', 'job_unskilled - resident', 0.6524382543012615)\n",
      "\n",
      " ('people_under_maintenance_1', 'people_under_maintenance_2', 1.0)\n",
      "\n",
      " ('telephone_none', 'telephone_yes, registered under the customers name ', 1.0)\n",
      "\n",
      " ('foreign_worker_no', 'foreign_worker_yes', 1.0)\n"
     ]
    }
   ],
   "source": [
    "# get correlation between all features\n",
    "threshold = 0.5  # threshold for highly correlated variable\n",
    "corr_matrix = df_credit.corr().abs()\n",
    "high_corr_var = np.where(corr_matrix > threshold)\n",
    "high_corr_var=[(corr_matrix.columns[x],corr_matrix.columns[y],corr_matrix.iloc[x,y]) for x,y in zip(*high_corr_var) if x!=y and x<y]\n",
    "for val in high_corr_var:\n",
    "    print(\"\\n\", val)"
   ]
  },
  {
   "cell_type": "code",
   "execution_count": 14,
   "metadata": {
    "colab": {},
    "colab_type": "code",
    "id": "0W02DKRx_0pA"
   },
   "outputs": [],
   "source": [
    "# alternatively we caan use pair plot but as num of feature is very high it is time consuming fucntions\n",
    "#sns.pairplot(df_credit, diag_kind=\"kde\")"
   ]
  },
  {
   "cell_type": "markdown",
   "metadata": {
    "colab_type": "text",
    "id": "jeI1_7is_0pG"
   },
   "source": [
    "### Drop the original variables which are converted to dummy"
   ]
  },
  {
   "cell_type": "code",
   "execution_count": 15,
   "metadata": {
    "colab": {},
    "colab_type": "code",
    "id": "LYeShbCO_0pI"
   },
   "outputs": [],
   "source": [
    "# df_credit does not contains original variables which are converted to dummy"
   ]
  },
  {
   "cell_type": "markdown",
   "metadata": {
    "colab_type": "text",
    "id": "XLtFcI1m_0pQ"
   },
   "source": [
    "### Q3 Split Train/Test data 70:30 ratio( 1 Marks)\n",
    "##### Hint:from sklearn.model_selection import train_test_split"
   ]
  },
  {
   "cell_type": "code",
   "execution_count": 16,
   "metadata": {
    "colab": {},
    "colab_type": "code",
    "id": "pHxXKL92_0pS"
   },
   "outputs": [
    {
     "name": "stdout",
     "output_type": "stream",
     "text": [
      "Training X Set Size:  (700, 62)\n",
      "Testing X Set Size:  (300, 62)\n",
      "Training y Set Size:  (700, 1)\n",
      "Testing y Set Size:  (300, 1)\n"
     ]
    }
   ],
   "source": [
    "X = df_credit.drop(columns=[\"default\"],axis=1)\n",
    "y = df_credit[['default']]\n",
    "\n",
    "X_train, X_test, y_train, y_test = train_test_split(X,y,test_size=0.30,random_state=1)\n",
    "\n",
    "print(\"Training X Set Size: \",X_train.shape)\n",
    "print(\"Testing X Set Size: \",X_test.shape)\n",
    "print(\"Training y Set Size: \",y_train.shape)\n",
    "print(\"Testing y Set Size: \",y_test.shape)"
   ]
  },
  {
   "cell_type": "markdown",
   "metadata": {
    "colab_type": "text",
    "id": "wWTpd4Ng_0pW"
   },
   "source": [
    "### Q4 Build Random Forest Model( 1 Marks)\n",
    "#### Hint:from sklearn.ensemble import RandomForestClassifier using n_jobs=2,n_estimators=500,criterion=\"entropy\",random_state=9999"
   ]
  },
  {
   "cell_type": "code",
   "execution_count": 17,
   "metadata": {
    "colab": {},
    "colab_type": "code",
    "id": "AHX5tgQm_0pY"
   },
   "outputs": [
    {
     "data": {
      "text/plain": [
       "RandomForestClassifier(bootstrap=True, class_weight=None, criterion='entropy',\n",
       "            max_depth=None, max_features='auto', max_leaf_nodes=None,\n",
       "            min_impurity_decrease=0.0, min_impurity_split=None,\n",
       "            min_samples_leaf=1, min_samples_split=2,\n",
       "            min_weight_fraction_leaf=0.0, n_estimators=500, n_jobs=2,\n",
       "            oob_score=False, random_state=9999, verbose=0,\n",
       "            warm_start=False)"
      ]
     },
     "execution_count": 17,
     "metadata": {},
     "output_type": "execute_result"
    }
   ],
   "source": [
    "from sklearn.ensemble import RandomForestClassifier\n",
    "\n",
    "rf_model = RandomForestClassifier(n_jobs=2,n_estimators=500,criterion=\"entropy\",random_state=9999)\n",
    "rf_model.fit(X_train, y_train)"
   ]
  },
  {
   "cell_type": "markdown",
   "metadata": {
    "colab_type": "text",
    "id": "LuQwgG7T_0pa"
   },
   "source": [
    "### Q5 Calculate Confusion Matrix and Accuracy score (1 Marks)\n",
    "##### Hint: Use confusion_matrix and accuracy_score"
   ]
  },
  {
   "cell_type": "code",
   "execution_count": 18,
   "metadata": {},
   "outputs": [
    {
     "name": "stdout",
     "output_type": "stream",
     "text": [
      "\n",
      "RandomForestClassifier: Accuracy Score on test data:  0.7666666666666667\n"
     ]
    }
   ],
   "source": [
    "from sklearn import metrics\n",
    "\n",
    "# performance on test data. # calculate accuracy score on test data(this is unseen data not used while modeling)\n",
    "y_predict = rf_model.predict(X_test)\n",
    "accuracy = metrics.accuracy_score(y_test,y_predict)\n",
    "print(\"\\nRandomForestClassifier: Accuracy Score on test data: \", accuracy)"
   ]
  },
  {
   "cell_type": "code",
   "execution_count": 19,
   "metadata": {
    "colab": {},
    "colab_type": "code",
    "id": "YgczdMEB_0pc"
   },
   "outputs": [
    {
     "name": "stdout",
     "output_type": "stream",
     "text": [
      "              precision    recall  f1-score   support\n",
      "\n",
      "           0       0.78      0.94      0.85       214\n",
      "           1       0.69      0.34      0.45        86\n",
      "\n",
      "   micro avg       0.77      0.77      0.77       300\n",
      "   macro avg       0.73      0.64      0.65       300\n",
      "weighted avg       0.75      0.77      0.74       300\n",
      "\n",
      "[[201  13]\n",
      " [ 57  29]]\n"
     ]
    }
   ],
   "source": [
    "print(metrics.classification_report(y_test, y_predict))\n",
    "print(metrics.confusion_matrix(y_test, y_predict))"
   ]
  },
  {
   "cell_type": "markdown",
   "metadata": {
    "colab_type": "text",
    "id": "x2wDGYcC_0pf"
   },
   "source": [
    "### Q6 Show the list of the features importance( 1 Marks)"
   ]
  },
  {
   "cell_type": "code",
   "execution_count": 20,
   "metadata": {
    "colab": {},
    "colab_type": "code",
    "id": "bEWKBXX8_0ph"
   },
   "outputs": [
    {
     "name": "stdout",
     "output_type": "stream",
     "text": [
      "                                                         Imp\n",
      "duration_in_month                                   0.076447\n",
      "credit_amount                                       0.099817\n",
      "installment_as_income_perc                          0.037669\n",
      "present_res_since                                   0.032375\n",
      "age                                                 0.075488\n",
      "credits_this_bank                                   0.018878\n",
      "account_check_status_0 <= ... < 200 DM              0.016364\n",
      "account_check_status_< 0 DM                         0.030684\n",
      "account_check_status_>= 200 DM / salary assignm...  0.007861\n",
      "account_check_status_no checking account            0.044939\n",
      "credit_history_all credits at this bank paid ba...  0.007329\n",
      "credit_history_critical account/ other credits ...  0.029773\n",
      "credit_history_delay in paying off in the past      0.008880\n",
      "credit_history_existing credits paid back duly ...  0.014737\n",
      "credit_history_no credits taken/ all credits pa...  0.011853\n",
      "purpose_(vacation - does not exist?)                0.005788\n",
      "purpose_business                                    0.010949\n",
      "purpose_car (new)                                   0.017698\n",
      "purpose_car (used)                                  0.012360\n",
      "purpose_domestic appliances                         0.014458\n",
      "purpose_education                                   0.004111\n",
      "purpose_furniture/equipment                         0.001718\n",
      "purpose_radio/television                            0.013550\n",
      "purpose_repairs                                     0.002051\n",
      "purpose_retraining                                  0.000995\n",
      "savings_.. >= 1000 DM                               0.008862\n",
      "savings_... < 100 DM                                0.020041\n",
      "savings_100 <= ... < 500 DM                         0.009312\n",
      "savings_500 <= ... < 1000 DM                        0.005927\n",
      "savings_unknown/ no savings account                 0.013263\n",
      "...                                                      ...\n",
      "present_emp_since_1 <= ... < 4 years                0.014528\n",
      "present_emp_since_4 <= ... < 7 years                0.013505\n",
      "present_emp_since_unemployed                        0.007805\n",
      "personal_status_sex_female : divorced/separated...  0.014932\n",
      "personal_status_sex_male : divorced/separated       0.006668\n",
      "personal_status_sex_male : married/widowed          0.007360\n",
      "personal_status_sex_male : single                   0.015231\n",
      "other_debtors_co-applicant                          0.007961\n",
      "other_debtors_guarantor                             0.008245\n",
      "other_debtors_none                                  0.009477\n",
      "property_if not A121 : building society savings...  0.012868\n",
      "property_if not A121/A122 : car or other, not i...  0.013599\n",
      "property_real estate                                0.014793\n",
      "property_unknown / no property                      0.010202\n",
      "other_installment_plans_bank                        0.013795\n",
      "other_installment_plans_none                        0.017539\n",
      "other_installment_plans_stores                      0.007403\n",
      "housing_for free                                    0.006448\n",
      "housing_own                                         0.014388\n",
      "housing_rent                                        0.010392\n",
      "job_management/ self-employed/ highly qualified...  0.011390\n",
      "job_skilled employee / official                     0.015185\n",
      "job_unemployed/ unskilled - non-resident            0.001775\n",
      "job_unskilled - resident                            0.009898\n",
      "people_under_maintenance_1                          0.008845\n",
      "people_under_maintenance_2                          0.009035\n",
      "telephone_none                                      0.014814\n",
      "telephone_yes, registered under the customers n...  0.013957\n",
      "foreign_worker_no                                   0.003028\n",
      "foreign_worker_yes                                  0.002968\n",
      "\n",
      "[62 rows x 1 columns]\n"
     ]
    }
   ],
   "source": [
    "# for above trained model get the feature importance\n",
    "feature_imp = pd.DataFrame(rf_model.feature_importances_, columns = [\"Imp\"], index = X.columns)\n",
    "print(feature_imp)"
   ]
  },
  {
   "cell_type": "markdown",
   "metadata": {
    "colab_type": "text",
    "id": "U7VnUE71_0pk"
   },
   "source": [
    "### Q7 K-fold cross-validation( 2 Marks)\n",
    "##### k-fold cross validation( without stratification)\n",
    "##### Usually k is set as 10-20 in practical settings, depends on data set size"
   ]
  },
  {
   "cell_type": "code",
   "execution_count": 21,
   "metadata": {
    "colab": {},
    "colab_type": "code",
    "id": "Pf6rIo-c_0pm"
   },
   "outputs": [],
   "source": [
    "from sklearn.model_selection import KFold\n",
    "from sklearn.model_selection import cross_val_score"
   ]
  },
  {
   "cell_type": "code",
   "execution_count": 22,
   "metadata": {
    "colab": {},
    "colab_type": "code",
    "id": "SLIiX3BP_0pp"
   },
   "outputs": [],
   "source": [
    "# Use below values\n",
    "num_folds = 10\n",
    "seed = 77"
   ]
  },
  {
   "cell_type": "code",
   "execution_count": 23,
   "metadata": {
    "colab": {},
    "colab_type": "code",
    "id": "lDyCh_OG_0pt"
   },
   "outputs": [],
   "source": [
    "#Validate the Random Forest model build above using k fold"
   ]
  },
  {
   "cell_type": "code",
   "execution_count": 24,
   "metadata": {
    "colab": {},
    "colab_type": "code",
    "id": "fvxAgXik_0p0"
   },
   "outputs": [],
   "source": [
    "kfold = KFold(n_splits=num_folds, random_state=seed)\n",
    "scores = []\n",
    "scores = cross_val_score(rf_model, X_train, y_train, cv=kfold, scoring='accuracy')"
   ]
  },
  {
   "cell_type": "code",
   "execution_count": 25,
   "metadata": {
    "colab": {},
    "colab_type": "code",
    "id": "6r8p73dT_0p6"
   },
   "outputs": [],
   "source": [
    "#Calculate Mean score"
   ]
  },
  {
   "cell_type": "code",
   "execution_count": 26,
   "metadata": {
    "colab": {},
    "colab_type": "code",
    "id": "qtGEiGuu_0qA"
   },
   "outputs": [
    {
     "name": "stdout",
     "output_type": "stream",
     "text": [
      "KFold Cross Validation: Mean Accuracy: 76.2857 [Random Forest]\n"
     ]
    }
   ],
   "source": [
    "score_mean = scores.mean()\n",
    "print(\"KFold Cross Validation: Mean Accuracy: %0.04f [Random Forest]\" %(score_mean*100))"
   ]
  },
  {
   "cell_type": "code",
   "execution_count": 27,
   "metadata": {
    "colab": {},
    "colab_type": "code",
    "id": "Rr132f7H_0qD"
   },
   "outputs": [],
   "source": [
    "# Calculate score standard deviation using std()"
   ]
  },
  {
   "cell_type": "code",
   "execution_count": 28,
   "metadata": {
    "colab": {},
    "colab_type": "code",
    "id": "44JxPbHG_0qH"
   },
   "outputs": [
    {
     "name": "stdout",
     "output_type": "stream",
     "text": [
      "KFold Cross Validation: Standard Deviation Accuracy: +/- 4.8739 [Random Forest]\n"
     ]
    }
   ],
   "source": [
    "score_std = scores.std()\n",
    "print(\"KFold Cross Validation: Standard Deviation Accuracy: +/- %0.4f [Random Forest]\" %(score_std*100))"
   ]
  },
  {
   "cell_type": "markdown",
   "metadata": {
    "colab_type": "text",
    "id": "kB0x5yLs_0qM"
   },
   "source": [
    "# Q8 Print the confusion matrix( 1 Marks)"
   ]
  },
  {
   "cell_type": "code",
   "execution_count": 29,
   "metadata": {
    "colab": {},
    "colab_type": "code",
    "id": "WiS5l8Cn_0qO"
   },
   "outputs": [
    {
     "name": "stdout",
     "output_type": "stream",
     "text": [
      "[[201  13]\n",
      " [ 57  29]]\n"
     ]
    }
   ],
   "source": [
    "y_predict = rf_model.predict(X_test)\n",
    "print(metrics.confusion_matrix(y_test, y_predict))"
   ]
  },
  {
   "cell_type": "markdown",
   "metadata": {
    "colab_type": "text",
    "id": "uMLxrkNg_0qR"
   },
   "source": [
    "# Q9.Classification accuracy: \n",
    "percentage of correct predictions and Calculate sensitivity (or True Positive Rate or Recall) and Precision.\n",
    "( 1 Marks)"
   ]
  },
  {
   "cell_type": "code",
   "execution_count": 30,
   "metadata": {},
   "outputs": [
    {
     "name": "stdout",
     "output_type": "stream",
     "text": [
      "\n",
      " % Distribution for:  default\n",
      "   default  count  prop\n",
      "0        0    700   0.7\n",
      "1        1    300   0.3\n"
     ]
    }
   ],
   "source": [
    "# Analysis distibution of target variable\n",
    "colname = \"default\"\n",
    "col_data = df_credit[colname].value_counts().to_frame()\n",
    "col_data.reset_index(inplace=True)\n",
    "col_data.columns = [col_data.columns[1], 'count']\n",
    "col_data['prop'] = col_data['count'] / sum(col_data['count'])\n",
    "print(\"\\n % Distribution for: \",colname)\n",
    "print(col_data)"
   ]
  },
  {
   "cell_type": "code",
   "execution_count": 31,
   "metadata": {
    "colab": {},
    "colab_type": "code",
    "id": "QUG5Y_li_0qT"
   },
   "outputs": [
    {
     "name": "stdout",
     "output_type": "stream",
     "text": [
      "Crosstab Matrix:\n",
      "\n",
      "            pred:no  pred:yes\n",
      "true:no       201        13\n",
      "true:yes       57        29\n",
      "\n",
      "class0 [Good Credit]: pecision: 0.78, recall:  0.94\n",
      "class1 [Bad Credit]: precision: 0.69, recall:  0.34\n"
     ]
    }
   ],
   "source": [
    "# cross tab analysis helps to get precision and recall values for each class..\n",
    "\n",
    "# precision tells, how many of the selected objects were correct\n",
    "# recall tells, how well model is able to classify the object\n",
    "\n",
    "# Performing cross tab analysis between tue and predicted values.\n",
    "# first argument is true values, second argument is predicted values\n",
    "# this produces a 2x2 numpy array (matrix)\n",
    "y_test1 = y_test.default   # readjusting the dimensions\n",
    "res = pd.crosstab(y_test1, y_predict)\n",
    "\n",
    "# visualizing the crosstab\n",
    "print_res = res.copy()\n",
    "print_res.columns = ['pred:no', 'pred:yes']\n",
    "print_res.index = ['true:no', 'true:yes']\n",
    "print(\"Crosstab Matrix:\\n\\n \", print_res)\n",
    "\n",
    "# data for precision and recall calculation for Class0 (Default=0, Good Credit)\n",
    "class0_tp = res[0][0] # [True Positive] correctly idenfying class0\n",
    "class0_fn = res[1][0] # [False Negative] not able to identify it as class0\n",
    "class0_fp = res[0][1] # [Flase Positive] fasely identifying as class0\n",
    "\n",
    "# data for precision and recall calculation for Class1 (default=1, Bad Credit)\n",
    "class1_tp = res[1][1] # [True Positive] correctly idenfying class1\n",
    "class1_fn = res[0][1] # [False Negative] not able to identify it as class1\n",
    "class1_fp = res[1][0] # [Flase Positive] fasely identifying as class1\n",
    "\n",
    "# calculating presision and recall for class0\n",
    "class0_precision = class0_tp / (class0_tp + class0_fp)\n",
    "class0_recall = class0_tp / (class0_tp + class0_fn)\n",
    "\n",
    "# calculating presision and recall for class1\n",
    "class1_precision = class1_tp / (class1_tp + class1_fp)\n",
    "class1_recall = class1_tp / (class1_tp + class1_fn)\n",
    "\n",
    "print(\"\\nclass0 [Good Credit]: pecision: %0.2f, recall:  %0.2f\" %(class0_precision,class0_recall))\n",
    "print(\"class1 [Bad Credit]: precision: %0.2f, recall:  %0.2f\" %(class1_precision,class1_recall))"
   ]
  },
  {
   "cell_type": "markdown",
   "metadata": {
    "colab_type": "text",
    "id": "IlPEO3pO_0qa"
   },
   "source": [
    "# Q10.Plot Receiver Operating Characteristic (ROC) Curves( 1 Marks)"
   ]
  },
  {
   "cell_type": "code",
   "execution_count": 32,
   "metadata": {
    "colab": {},
    "colab_type": "code",
    "id": "YGyM8Uh4_0qb"
   },
   "outputs": [],
   "source": [
    "#Hint: Use roc_curve"
   ]
  },
  {
   "cell_type": "markdown",
   "metadata": {
    "colab_type": "text",
    "id": "annGF0Bh_0qr"
   },
   "source": [
    "ROC curve can help you to choose a threshold that balances sensitivity and specificity in a way that makes sense for your particular context"
   ]
  },
  {
   "cell_type": "code",
   "execution_count": 33,
   "metadata": {},
   "outputs": [
    {
     "data": {
      "image/png": "[encoded data removed]",
      "text/plain": [
       "<Figure size 432x288 with 1 Axes>"
      ]
     },
     "metadata": {
      "needs_background": "light"
     },
     "output_type": "display_data"
    }
   ],
   "source": [
    "fpr,tpr, thresholds = metrics.roc_curve(y_test, y_predict)\n",
    "plt.figure()\n",
    "plt.plot(fpr, tpr)\n",
    "plt.xlim([0.0, 1.0])\n",
    "plt.ylim([0.0, 1.0])\n",
    "plt.xlabel('False Positive Rate')\n",
    "plt.ylabel('True Positive Rate')\n",
    "plt.title('Receiver operating characteristic')\n",
    "plt.show()"
   ]
  },
  {
   "cell_type": "markdown",
   "metadata": {
    "colab_type": "text",
    "id": "rE4Qbbh5_0qt"
   },
   "source": [
    "# Q11. Calculate AUC(the percentage of the ROC plot that is underneath the curve) - optional"
   ]
  },
  {
   "cell_type": "code",
   "execution_count": 34,
   "metadata": {
    "colab": {},
    "colab_type": "code",
    "id": "8nwRSPz4_0qu"
   },
   "outputs": [
    {
     "name": "stdout",
     "output_type": "stream",
     "text": [
      "Area Under the curve 0.6382308193870898\n"
     ]
    }
   ],
   "source": [
    "roc_auc = metrics.auc(fpr, tpr)\n",
    "print('Area Under the curve',roc_auc)"
   ]
  },
  {
   "cell_type": "markdown",
   "metadata": {
    "colab_type": "text",
    "id": "BZ43LYtQ_0q9"
   },
   "source": [
    "### Bootstrapping ( Bonus)\n",
    "##### Given a dataset of size n, a bootstrap sample is created by sampling n instances uniformly from the data (with/without replacement)\n",
    "##### Create a model with each bootstrap sample and validate it with the test set\n",
    "##### Final result is calculated by averaging the accuracy of models"
   ]
  },
  {
   "cell_type": "code",
   "execution_count": 35,
   "metadata": {
    "colab": {},
    "colab_type": "code",
    "id": "8KwXPTNE_0q9"
   },
   "outputs": [],
   "source": [
    "# Number of iterations for bootstrapping\n",
    "bootstrap_iteration = 10\n",
    "accuracy = []"
   ]
  },
  {
   "cell_type": "code",
   "execution_count": 36,
   "metadata": {
    "colab": {},
    "colab_type": "code",
    "id": "lRtfc6p7_0rD",
    "outputId": "6b6e9b14-0652-4550-83e0-7bb2ca3f0481"
   },
   "outputs": [
    {
     "name": "stdout",
     "output_type": "stream",
     "text": [
      "Bootstrapping: average accuracy: 86.4333\n"
     ]
    }
   ],
   "source": [
    "n = df_credit.shape[0]  # number of samples in dataset\n",
    "for i in range(bootstrap_iteration):\n",
    "    # bootstrap sample with replacement.. \n",
    "    df = df_credit.iloc[np.random.choice(n, size=n, replace=True)]\n",
    "    \n",
    "    # split trabing and test data\n",
    "    X = df.drop(columns=[\"default\"],axis=1)\n",
    "    y = df[['default']]\n",
    "    X_train, X_test, y_train, y_test = train_test_split(X,y,test_size=0.30,random_state=1)\n",
    "\n",
    "    # modeling on this set of bootstraped dataset\n",
    "    rf_model = RandomForestClassifier(n_jobs=2,n_estimators=500,criterion=\"entropy\",random_state=9999)\n",
    "    rf_model.fit(X_train, y_train)\n",
    "\n",
    "    # calculate accuracy score on test data(this is unseen data not used while modeling)\n",
    "    y_predict = rf_model.predict(X_test)\n",
    "    acc = metrics.accuracy_score(y_test,y_predict)\n",
    "    accuracy.append(acc)\n",
    "\n",
    "# averaging accuracy of models \n",
    "avg_accuracy = np.mean(accuracy)\n",
    "print(\"Bootstrapping: average accuracy: %0.04f\" %(avg_accuracy*100))"
   ]
  }
 ],
 "metadata": {
  "colab": {
   "name": "R4_External_Lab_Validation_Accuracy.ipynb",
   "provenance": [],
   "version": "0.3.2"
  },
  "kernelspec": {
   "display_name": "Python 3",
   "language": "python",
   "name": "python3"
  },
  "language_info": {
   "codemirror_mode": {
    "name": "ipython",
    "version": 3
   },
   "file_extension": ".py",
   "mimetype": "text/x-python",
   "name": "python",
   "nbconvert_exporter": "python",
   "pygments_lexer": "ipython3",
   "version": "3.7.1"
  }
 },
 "nbformat": 4,
 "nbformat_minor": 1
}
