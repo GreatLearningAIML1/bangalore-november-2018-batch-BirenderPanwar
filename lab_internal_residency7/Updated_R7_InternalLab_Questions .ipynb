{
 "cells": [
  {
   "cell_type": "markdown",
   "metadata": {
    "colab_type": "text",
    "id": "4WH1Pr4KQlCh"
   },
   "source": [
    "### Build a DNN using Keras with `RELU` and `ADAM`"
   ]
  },
  {
   "cell_type": "markdown",
   "metadata": {
    "colab_type": "text",
    "id": "TbvI8LqlQlCl",
    "slideshow": {
     "slide_type": "slide"
    }
   },
   "source": [
    "#### Load tensorflow"
   ]
  },
  {
   "cell_type": "code",
   "execution_count": 1,
   "metadata": {
    "colab": {},
    "colab_type": "code",
    "id": "SPW-a-qYQlCp"
   },
   "outputs": [],
   "source": [
    "import tensorflow as tf\n",
    "tf.set_random_seed(42)"
   ]
  },
  {
   "cell_type": "markdown",
   "metadata": {
    "colab_type": "text",
    "id": "74cQBsi5QlCw",
    "slideshow": {
     "slide_type": "slide"
    }
   },
   "source": [
    "#### Collect Fashion mnist data from tf.keras.datasets "
   ]
  },
  {
   "cell_type": "code",
   "execution_count": 28,
   "metadata": {
    "colab": {},
    "colab_type": "code",
    "id": "wVWy0oDTr2Kj"
   },
   "outputs": [],
   "source": [
    "import keras\n",
    "(trainX, trainY), (testX, testY) = keras.datasets.fashion_mnist.load_data()"
   ]
  },
  {
   "cell_type": "markdown",
   "metadata": {
    "colab_type": "text",
    "id": "no7aWYZyQlC1",
    "slideshow": {
     "slide_type": "slide"
    }
   },
   "source": [
    "#### Change train and test labels into one-hot vectors"
   ]
  },
  {
   "cell_type": "code",
   "execution_count": 29,
   "metadata": {
    "colab": {},
    "colab_type": "code",
    "id": "UX6otc4wQlC2"
   },
   "outputs": [],
   "source": [
    "# dataset have 10 classes and each label is an integer between 0 and 9:\n",
    "trainY = tf.keras.utils.to_categorical(trainY, num_classes=10)\n",
    "testY = tf.keras.utils.to_categorical(testY, num_classes=10)"
   ]
  },
  {
   "cell_type": "code",
   "execution_count": 30,
   "metadata": {},
   "outputs": [
    {
     "name": "stdout",
     "output_type": "stream",
     "text": [
      "(60000, 10)\n",
      "First 5 examples are:  [[0. 0. 0. 0. 0. 0. 0. 0. 0. 1.]\n",
      " [1. 0. 0. 0. 0. 0. 0. 0. 0. 0.]\n",
      " [1. 0. 0. 0. 0. 0. 0. 0. 0. 0.]\n",
      " [0. 0. 0. 1. 0. 0. 0. 0. 0. 0.]\n",
      " [1. 0. 0. 0. 0. 0. 0. 0. 0. 0.]]\n"
     ]
    }
   ],
   "source": [
    "print(trainY.shape)\n",
    "print('First 5 examples are: ', trainY[0:5])"
   ]
  },
  {
   "cell_type": "code",
   "execution_count": 31,
   "metadata": {},
   "outputs": [],
   "source": [
    "import numpy as np\n",
    "import matplotlib.pyplot as plt\n",
    "class_names = ['T-shirt/top', 'Trouser', 'Pullover', 'Dress', 'Coat', 'Sandal', 'Shirt', 'Sneaker', 'Bag', 'Ankle boot']"
   ]
  },
  {
   "cell_type": "code",
   "execution_count": 32,
   "metadata": {},
   "outputs": [
    {
     "data": {
      "image/png": "[encoded data removed]",
      "text/plain": [
       "<Figure size 864x864 with 10 Axes>"
      ]
     },
     "metadata": {},
     "output_type": "display_data"
    },
    {
     "name": "stdout",
     "output_type": "stream",
     "text": [
      "label for each of the above image: \n",
      " [9, 0, 0, 3, 0, 2, 7, 2, 5, 5]\n"
     ]
    }
   ],
   "source": [
    "labelCode = []\n",
    "plt.figure(figsize=(12,12))\n",
    "for i in range(10):\n",
    "    plt.subplot(1,10,i+1)\n",
    "    plt.xticks([])\n",
    "    plt.yticks([])\n",
    "    plt.grid(False)\n",
    "   # plt.imshow(trainX[i], cmap='Greys') \n",
    "    plt.imshow(trainX[i], cmap=plt.cm.binary)\n",
    "    label = np.where(trainY[i] == 1)[0][0]\n",
    "    plt.xlabel(class_names[label])\n",
    "    labelCode.append(label)\n",
    "plt.show()\n",
    "\n",
    "print(\"label for each of the above image: \\n\", labelCode)"
   ]
  },
  {
   "cell_type": "code",
   "execution_count": 33,
   "metadata": {},
   "outputs": [
    {
     "name": "stdout",
     "output_type": "stream",
     "text": [
      "Input Dimension: 28 x 28\n"
     ]
    }
   ],
   "source": [
    "# input size\n",
    "print(\"Input Dimension: %d x %d\" %(trainX.shape[1],trainX.shape[2]))"
   ]
  },
  {
   "cell_type": "code",
   "execution_count": 34,
   "metadata": {},
   "outputs": [
    {
     "name": "stdout",
     "output_type": "stream",
     "text": [
      "Target Size:  (60000, 10)\n"
     ]
    }
   ],
   "source": [
    "print(\"Target Size: \", trainY.shape)"
   ]
  },
  {
   "cell_type": "markdown",
   "metadata": {
    "colab_type": "text",
    "id": "QjNrRTdoQlC5",
    "slideshow": {
     "slide_type": "slide"
    }
   },
   "source": [
    "#### Build the Graph"
   ]
  },
  {
   "cell_type": "markdown",
   "metadata": {
    "colab_type": "text",
    "id": "CDJ9DHVNQlC7"
   },
   "source": [
    "#### Initialize model, reshape & normalize data"
   ]
  },
  {
   "cell_type": "code",
   "execution_count": 35,
   "metadata": {},
   "outputs": [],
   "source": [
    "# # normalize inputs from 0-255 to 0-1\n",
    "trainX = trainX / 255.0\n",
    "testX = testX / 255.0"
   ]
  },
  {
   "cell_type": "code",
   "execution_count": 46,
   "metadata": {},
   "outputs": [],
   "source": [
    "#Initialize Sequential model\n",
    "model = keras.models.Sequential()\n",
    "\n",
    "#Reshape data from 2D to 1D -> 28x28 to 784\n",
    "model.add(keras.layers.Reshape((784,),input_shape=(trainX.shape[1],trainX.shape[2],)))\n",
    "\n",
    "#Normalize the data - batch wise\n",
    "model.add(keras.layers.BatchNormalization())"
   ]
  },
  {
   "cell_type": "markdown",
   "metadata": {
    "colab_type": "text",
    "id": "kBGwTTilQlDD",
    "slideshow": {
     "slide_type": "slide"
    }
   },
   "source": [
    "#### Add two fully connected layers with 200 and 100 neurons respectively with `relu` activations. Add a dropout layer with `p=0.25`"
   ]
  },
  {
   "cell_type": "code",
   "execution_count": 47,
   "metadata": {
    "colab": {
     "base_uri": "https://localhost:8080/",
     "height": 88
    },
    "colab_type": "code",
    "id": "IXbfpfOzQlDF",
    "outputId": "f46a2e3a-2634-4e9e-88bd-57bb8de1ff0c"
   },
   "outputs": [],
   "source": [
    "model.add(keras.layers.Dense(200, activation='relu'))\n",
    "model.add(keras.layers.Dense(100, activation='relu'))\n",
    "\n",
    "#Dropout layer\n",
    "model.add(keras.layers.Dropout(0.25))"
   ]
  },
  {
   "cell_type": "markdown",
   "metadata": {
    "colab_type": "text",
    "id": "5I8f5otcQlDJ"
   },
   "source": [
    "### Add the output layer with a fully connected layer with 10 neurons with `softmax` activation. Use `categorical_crossentropy` loss and `adam` optimizer and train the network. And, report the final validation."
   ]
  },
  {
   "cell_type": "code",
   "execution_count": 48,
   "metadata": {},
   "outputs": [],
   "source": [
    "model.add(keras.layers.Dense(10, activation='softmax'))\n",
    "\n",
    "# Compile model\n",
    "model.compile(loss='categorical_crossentropy', optimizer=\"adam\", metrics=['accuracy'])"
   ]
  },
  {
   "cell_type": "code",
   "execution_count": 49,
   "metadata": {},
   "outputs": [
    {
     "name": "stdout",
     "output_type": "stream",
     "text": [
      "_________________________________________________________________\n",
      "Layer (type)                 Output Shape              Param #   \n",
      "=================================================================\n",
      "reshape_8 (Reshape)          (None, 784)               0         \n",
      "_________________________________________________________________\n",
      "batch_normalization_6 (Batch (None, 784)               3136      \n",
      "_________________________________________________________________\n",
      "dense_12 (Dense)             (None, 200)               157000    \n",
      "_________________________________________________________________\n",
      "dense_13 (Dense)             (None, 100)               20100     \n",
      "_________________________________________________________________\n",
      "dropout_5 (Dropout)          (None, 100)               0         \n",
      "_________________________________________________________________\n",
      "dense_14 (Dense)             (None, 10)                1010      \n",
      "=================================================================\n",
      "Total params: 181,246\n",
      "Trainable params: 179,678\n",
      "Non-trainable params: 1,568\n",
      "_________________________________________________________________\n"
     ]
    }
   ],
   "source": [
    "model.summary()"
   ]
  },
  {
   "cell_type": "code",
   "execution_count": 53,
   "metadata": {},
   "outputs": [
    {
     "name": "stdout",
     "output_type": "stream",
     "text": [
      "Train on 60000 samples, validate on 10000 samples\n",
      "Epoch 1/55\n",
      "60000/60000 [==============================] - 7s 112us/step - loss: 0.2612 - acc: 0.9019 - val_loss: 0.3447 - val_acc: 0.8804\n",
      "Epoch 2/55\n",
      "60000/60000 [==============================] - 7s 111us/step - loss: 0.2349 - acc: 0.9113 - val_loss: 0.3349 - val_acc: 0.8850\n",
      "Epoch 3/55\n",
      "60000/60000 [==============================] - 7s 112us/step - loss: 0.2272 - acc: 0.9131 - val_loss: 0.3494 - val_acc: 0.8832\n",
      "Epoch 4/55\n",
      "60000/60000 [==============================] - 7s 112us/step - loss: 0.2181 - acc: 0.9166 - val_loss: 0.3339 - val_acc: 0.8880\n",
      "Epoch 5/55\n",
      "60000/60000 [==============================] - 7s 120us/step - loss: 0.2117 - acc: 0.9199 - val_loss: 0.3319 - val_acc: 0.8900\n",
      "Epoch 6/55\n",
      "60000/60000 [==============================] - 7s 113us/step - loss: 0.2034 - acc: 0.9217 - val_loss: 0.3483 - val_acc: 0.8884\n",
      "Epoch 7/55\n",
      "60000/60000 [==============================] - 7s 114us/step - loss: 0.1970 - acc: 0.9240 - val_loss: 0.3471 - val_acc: 0.8902\n",
      "Epoch 8/55\n",
      "60000/60000 [==============================] - 7s 114us/step - loss: 0.1897 - acc: 0.9288 - val_loss: 0.3867 - val_acc: 0.8809\n",
      "Epoch 9/55\n",
      "60000/60000 [==============================] - 8s 128us/step - loss: 0.1880 - acc: 0.9277 - val_loss: 0.3407 - val_acc: 0.8956\n",
      "Epoch 10/55\n",
      "60000/60000 [==============================] - 7s 120us/step - loss: 0.1796 - acc: 0.9315 - val_loss: 0.3558 - val_acc: 0.8885\n",
      "Epoch 11/55\n",
      "60000/60000 [==============================] - 7s 117us/step - loss: 0.1746 - acc: 0.9337 - val_loss: 0.3767 - val_acc: 0.8885\n",
      "Epoch 12/55\n",
      "60000/60000 [==============================] - 7s 117us/step - loss: 0.1682 - acc: 0.9342 - val_loss: 0.3955 - val_acc: 0.8896\n",
      "Epoch 13/55\n",
      "60000/60000 [==============================] - 7s 117us/step - loss: 0.1649 - acc: 0.9371 - val_loss: 0.3828 - val_acc: 0.8920\n",
      "Epoch 14/55\n",
      "60000/60000 [==============================] - 7s 117us/step - loss: 0.1569 - acc: 0.9398 - val_loss: 0.4011 - val_acc: 0.8896\n",
      "Epoch 15/55\n",
      "60000/60000 [==============================] - 7s 117us/step - loss: 0.1575 - acc: 0.9401 - val_loss: 0.3880 - val_acc: 0.8925\n",
      "Epoch 16/55\n",
      "60000/60000 [==============================] - 7s 120us/step - loss: 0.1510 - acc: 0.9419 - val_loss: 0.4030 - val_acc: 0.8915\n",
      "Epoch 17/55\n",
      "60000/60000 [==============================] - 7s 118us/step - loss: 0.1487 - acc: 0.9437 - val_loss: 0.4172 - val_acc: 0.8891\n",
      "Epoch 18/55\n",
      "60000/60000 [==============================] - 7s 117us/step - loss: 0.1499 - acc: 0.9432 - val_loss: 0.3933 - val_acc: 0.8929\n",
      "Epoch 19/55\n",
      "60000/60000 [==============================] - 7s 116us/step - loss: 0.1423 - acc: 0.9454 - val_loss: 0.4038 - val_acc: 0.8931\n",
      "Epoch 20/55\n",
      "60000/60000 [==============================] - 7s 116us/step - loss: 0.1418 - acc: 0.9457 - val_loss: 0.4229 - val_acc: 0.8917\n",
      "Epoch 21/55\n",
      "60000/60000 [==============================] - 7s 117us/step - loss: 0.1373 - acc: 0.9481 - val_loss: 0.4292 - val_acc: 0.8934\n",
      "Epoch 22/55\n",
      "60000/60000 [==============================] - 7s 115us/step - loss: 0.1331 - acc: 0.9476 - val_loss: 0.4370 - val_acc: 0.8899\n",
      "Epoch 23/55\n",
      "60000/60000 [==============================] - 7s 118us/step - loss: 0.1312 - acc: 0.9503 - val_loss: 0.4293 - val_acc: 0.8921\n",
      "Epoch 24/55\n",
      "60000/60000 [==============================] - 7s 118us/step - loss: 0.1313 - acc: 0.9491 - val_loss: 0.4349 - val_acc: 0.8904\n",
      "Epoch 25/55\n",
      "60000/60000 [==============================] - 7s 117us/step - loss: 0.1266 - acc: 0.9514 - val_loss: 0.4294 - val_acc: 0.8938\n",
      "Epoch 26/55\n",
      "60000/60000 [==============================] - 7s 116us/step - loss: 0.1247 - acc: 0.9525 - val_loss: 0.4396 - val_acc: 0.8922\n",
      "Epoch 27/55\n",
      "60000/60000 [==============================] - 7s 116us/step - loss: 0.1206 - acc: 0.9538 - val_loss: 0.4710 - val_acc: 0.8867\n",
      "Epoch 28/55\n",
      "60000/60000 [==============================] - 7s 116us/step - loss: 0.1200 - acc: 0.9545 - val_loss: 0.4482 - val_acc: 0.8929\n",
      "Epoch 29/55\n",
      "60000/60000 [==============================] - 7s 123us/step - loss: 0.1205 - acc: 0.9544 - val_loss: 0.4415 - val_acc: 0.8927\n",
      "Epoch 30/55\n",
      "60000/60000 [==============================] - 7s 117us/step - loss: 0.1117 - acc: 0.9559 - val_loss: 0.4984 - val_acc: 0.8902\n",
      "Epoch 31/55\n",
      "60000/60000 [==============================] - 8s 127us/step - loss: 0.1131 - acc: 0.9560 - val_loss: 0.4639 - val_acc: 0.8899\n",
      "Epoch 32/55\n",
      "60000/60000 [==============================] - 7s 121us/step - loss: 0.1128 - acc: 0.9572 - val_loss: 0.4821 - val_acc: 0.8915\n",
      "Epoch 33/55\n",
      "60000/60000 [==============================] - 7s 117us/step - loss: 0.1092 - acc: 0.9586 - val_loss: 0.4693 - val_acc: 0.8972\n",
      "Epoch 34/55\n",
      "60000/60000 [==============================] - 7s 117us/step - loss: 0.1078 - acc: 0.9592 - val_loss: 0.4652 - val_acc: 0.8943\n",
      "Epoch 35/55\n",
      "60000/60000 [==============================] - 7s 117us/step - loss: 0.1043 - acc: 0.9602 - val_loss: 0.4985 - val_acc: 0.8932\n",
      "Epoch 36/55\n",
      "60000/60000 [==============================] - 7s 118us/step - loss: 0.1029 - acc: 0.9602 - val_loss: 0.4767 - val_acc: 0.8953\n",
      "Epoch 37/55\n",
      "60000/60000 [==============================] - 7s 123us/step - loss: 0.1060 - acc: 0.9596 - val_loss: 0.5147 - val_acc: 0.8918\n",
      "Epoch 38/55\n",
      "60000/60000 [==============================] - 7s 124us/step - loss: 0.1004 - acc: 0.9620 - val_loss: 0.4761 - val_acc: 0.8967\n",
      "Epoch 39/55\n",
      "60000/60000 [==============================] - 7s 117us/step - loss: 0.0980 - acc: 0.9622 - val_loss: 0.5219 - val_acc: 0.8878\n",
      "Epoch 40/55\n",
      "60000/60000 [==============================] - 7s 117us/step - loss: 0.1007 - acc: 0.9628 - val_loss: 0.5145 - val_acc: 0.8933\n",
      "Epoch 41/55\n",
      "60000/60000 [==============================] - 7s 117us/step - loss: 0.0967 - acc: 0.9625 - val_loss: 0.5010 - val_acc: 0.8931\n",
      "Epoch 42/55\n",
      "60000/60000 [==============================] - 7s 117us/step - loss: 0.0956 - acc: 0.9629 - val_loss: 0.4995 - val_acc: 0.8938\n",
      "Epoch 43/55\n",
      "60000/60000 [==============================] - 8s 126us/step - loss: 0.0962 - acc: 0.9624 - val_loss: 0.5093 - val_acc: 0.8923\n",
      "Epoch 44/55\n",
      "60000/60000 [==============================] - 7s 119us/step - loss: 0.0941 - acc: 0.9650 - val_loss: 0.5209 - val_acc: 0.8956\n",
      "Epoch 45/55\n",
      "60000/60000 [==============================] - 7s 121us/step - loss: 0.0944 - acc: 0.9653 - val_loss: 0.5022 - val_acc: 0.8922\n",
      "Epoch 46/55\n",
      "60000/60000 [==============================] - 7s 120us/step - loss: 0.0881 - acc: 0.9666 - val_loss: 0.5149 - val_acc: 0.8939\n",
      "Epoch 47/55\n",
      "60000/60000 [==============================] - 7s 124us/step - loss: 0.0897 - acc: 0.9661 - val_loss: 0.5275 - val_acc: 0.8924\n",
      "Epoch 48/55\n",
      "60000/60000 [==============================] - 8s 127us/step - loss: 0.0882 - acc: 0.9671 - val_loss: 0.5484 - val_acc: 0.8947\n",
      "Epoch 49/55\n",
      "60000/60000 [==============================] - 7s 123us/step - loss: 0.0856 - acc: 0.9674 - val_loss: 0.5469 - val_acc: 0.8938\n",
      "Epoch 50/55\n",
      "60000/60000 [==============================] - 7s 120us/step - loss: 0.0866 - acc: 0.9669 - val_loss: 0.5515 - val_acc: 0.8924\n",
      "Epoch 51/55\n",
      "60000/60000 [==============================] - 7s 121us/step - loss: 0.0877 - acc: 0.9668 - val_loss: 0.5417 - val_acc: 0.8920\n",
      "Epoch 52/55\n",
      "60000/60000 [==============================] - 7s 119us/step - loss: 0.0857 - acc: 0.9672 - val_loss: 0.5584 - val_acc: 0.8936\n",
      "Epoch 53/55\n",
      "60000/60000 [==============================] - 8s 127us/step - loss: 0.0857 - acc: 0.9673 - val_loss: 0.5371 - val_acc: 0.8921\n",
      "Epoch 54/55\n",
      "60000/60000 [==============================] - 8s 126us/step - loss: 0.0814 - acc: 0.9684 - val_loss: 0.5600 - val_acc: 0.8932\n",
      "Epoch 55/55\n",
      "60000/60000 [==============================] - 7s 124us/step - loss: 0.0816 - acc: 0.9688 - val_loss: 0.5951 - val_acc: 0.8917\n"
     ]
    }
   ],
   "source": [
    "# Fit the model\n",
    "history = model.fit(trainX, trainY, validation_data=(testX, testY), epochs=55, batch_size=55, verbose= 1)"
   ]
  },
  {
   "cell_type": "code",
   "execution_count": 54,
   "metadata": {},
   "outputs": [
    {
     "name": "stdout",
     "output_type": "stream",
     "text": [
      "10000/10000 [==============================] - 1s 53us/step\n",
      "\n",
      "Test accuracy: 89.17\n"
     ]
    }
   ],
   "source": [
    "test_loss, test_acc = model.evaluate(testX, testY)\n",
    "print('\\nTest accuracy: %0.2f' %(test_acc*100))"
   ]
  },
  {
   "cell_type": "code",
   "execution_count": 55,
   "metadata": {},
   "outputs": [
    {
     "name": "stdout",
     "output_type": "stream",
     "text": [
      "dict_keys(['val_loss', 'val_acc', 'loss', 'acc'])\n"
     ]
    },
    {
     "data": {
      "image/png": "[encoded data removed]",
      "text/plain": [
       "<Figure size 432x288 with 1 Axes>"
      ]
     },
     "metadata": {
      "needs_background": "light"
     },
     "output_type": "display_data"
    },
    {
     "data": {
      "image/png": "[encoded data removed]",
      "text/plain": [
       "<Figure size 432x288 with 1 Axes>"
      ]
     },
     "metadata": {
      "needs_background": "light"
     },
     "output_type": "display_data"
    }
   ],
   "source": [
    "# list all data in history\n",
    "print(history.history.keys())\n",
    "# summarize history for accuracy\n",
    "plt.plot(history.history['acc'])\n",
    "plt.plot(history.history['val_acc'])\n",
    "plt.title('model accuracy')\n",
    "plt.ylabel('accuracy')\n",
    "plt.xlabel('epoch')\n",
    "plt.legend(['train', 'test'], loc='upper left')\n",
    "plt.show()\n",
    "\n",
    "# summarize history for loss\n",
    "plt.plot(history.history['loss'])\n",
    "plt.plot(history.history['val_loss'])\n",
    "plt.title('model loss')\n",
    "plt.ylabel('loss')\n",
    "plt.xlabel('epoch')\n",
    "plt.legend(['train', 'test'], loc='upper left')\n",
    "plt.show()"
   ]
  },
  {
   "cell_type": "code",
   "execution_count": null,
   "metadata": {},
   "outputs": [],
   "source": [
    "# we can observe loss in test dats is not smooth and there are slight spikes during epoch.. \n",
    "# further batch normalization in each hidden later can improve these spikes."
   ]
  }
 ],
 "metadata": {
  "colab": {
   "collapsed_sections": [],
   "name": "updated_R7_ExternalLab_Questions.ipynb",
   "provenance": [],
   "version": "0.3.2"
  },
  "kernelspec": {
   "display_name": "Python 3",
   "language": "python",
   "name": "python3"
  },
  "language_info": {
   "codemirror_mode": {
    "name": "ipython",
    "version": 3
   },
   "file_extension": ".py",
   "mimetype": "text/x-python",
   "name": "python",
   "nbconvert_exporter": "python",
   "pygments_lexer": "ipython3",
   "version": "3.7.1"
  }
 },
 "nbformat": 4,
 "nbformat_minor": 1
}
