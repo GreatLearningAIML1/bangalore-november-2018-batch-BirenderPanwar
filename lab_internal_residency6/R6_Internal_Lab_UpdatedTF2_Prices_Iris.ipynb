{
 "cells": [
  {
   "cell_type": "markdown",
   "metadata": {
    "colab_type": "text",
    "id": "84Q8JfvaeZZ6"
   },
   "source": [
    "## Linear Classifier in TensorFlow \n",
    "Using Low Level API in Eager Execution mode"
   ]
  },
  {
   "cell_type": "markdown",
   "metadata": {
    "colab_type": "text",
    "id": "sb7Epo0VOB58"
   },
   "source": [
    "### Load tensorflow"
   ]
  },
  {
   "cell_type": "code",
   "execution_count": 1,
   "metadata": {
    "colab": {},
    "colab_type": "code",
    "id": "fHpCNRv1OB5-"
   },
   "outputs": [],
   "source": [
    "import tensorflow as tf"
   ]
  },
  {
   "cell_type": "code",
   "execution_count": 2,
   "metadata": {
    "colab": {},
    "colab_type": "code",
    "id": "Mjtb-EMcm5K0"
   },
   "outputs": [],
   "source": [
    "#Enable Eager Execution if using tensflow version < 2.0\n",
    "#From tensorflow v2.0 onwards, Eager Execution will be enabled by default\n"
   ]
  },
  {
   "cell_type": "markdown",
   "metadata": {
    "colab_type": "text",
    "id": "DxJDmJqqOB6K",
    "slideshow": {
     "slide_type": "slide"
    }
   },
   "source": [
    "### Collect Data"
   ]
  },
  {
   "cell_type": "markdown",
   "metadata": {
    "colab": {},
    "colab_type": "code",
    "id": "FhllFLyKOB6N"
   },
   "source": [
    "## this is not needed\n",
    "From google.colab import drive\n",
    "drive.mount('/gdrive')"
   ]
  },
  {
   "cell_type": "code",
   "execution_count": 3,
   "metadata": {
    "colab": {},
    "colab_type": "code",
    "id": "KiObW4V4SIOz"
   },
   "outputs": [],
   "source": [
    "import pandas as pd"
   ]
  },
  {
   "cell_type": "code",
   "execution_count": 4,
   "metadata": {
    "colab": {},
    "colab_type": "code",
    "id": "B4yQKMiJOB6R"
   },
   "outputs": [
    {
     "data": {
      "text/html": [
       "<div>\n",
       "<style scoped>\n",
       "    .dataframe tbody tr th:only-of-type {\n",
       "        vertical-align: middle;\n",
       "    }\n",
       "\n",
       "    .dataframe tbody tr th {\n",
       "        vertical-align: top;\n",
       "    }\n",
       "\n",
       "    .dataframe thead th {\n",
       "        text-align: right;\n",
       "    }\n",
       "</style>\n",
       "<table border=\"1\" class=\"dataframe\">\n",
       "  <thead>\n",
       "    <tr style=\"text-align: right;\">\n",
       "      <th></th>\n",
       "      <th>date</th>\n",
       "      <th>symbol</th>\n",
       "      <th>open</th>\n",
       "      <th>close</th>\n",
       "      <th>low</th>\n",
       "      <th>high</th>\n",
       "      <th>volume</th>\n",
       "    </tr>\n",
       "  </thead>\n",
       "  <tbody>\n",
       "    <tr>\n",
       "      <th>0</th>\n",
       "      <td>2016-01-05 00:00:00</td>\n",
       "      <td>WLTW</td>\n",
       "      <td>123.430000</td>\n",
       "      <td>125.839996</td>\n",
       "      <td>122.309998</td>\n",
       "      <td>126.250000</td>\n",
       "      <td>2163600.0</td>\n",
       "    </tr>\n",
       "    <tr>\n",
       "      <th>1</th>\n",
       "      <td>2016-01-06 00:00:00</td>\n",
       "      <td>WLTW</td>\n",
       "      <td>125.239998</td>\n",
       "      <td>119.980003</td>\n",
       "      <td>119.940002</td>\n",
       "      <td>125.540001</td>\n",
       "      <td>2386400.0</td>\n",
       "    </tr>\n",
       "    <tr>\n",
       "      <th>2</th>\n",
       "      <td>2016-01-07 00:00:00</td>\n",
       "      <td>WLTW</td>\n",
       "      <td>116.379997</td>\n",
       "      <td>114.949997</td>\n",
       "      <td>114.930000</td>\n",
       "      <td>119.739998</td>\n",
       "      <td>2489500.0</td>\n",
       "    </tr>\n",
       "    <tr>\n",
       "      <th>3</th>\n",
       "      <td>2016-01-08 00:00:00</td>\n",
       "      <td>WLTW</td>\n",
       "      <td>115.480003</td>\n",
       "      <td>116.620003</td>\n",
       "      <td>113.500000</td>\n",
       "      <td>117.440002</td>\n",
       "      <td>2006300.0</td>\n",
       "    </tr>\n",
       "    <tr>\n",
       "      <th>4</th>\n",
       "      <td>2016-01-11 00:00:00</td>\n",
       "      <td>WLTW</td>\n",
       "      <td>117.010002</td>\n",
       "      <td>114.970001</td>\n",
       "      <td>114.089996</td>\n",
       "      <td>117.330002</td>\n",
       "      <td>1408600.0</td>\n",
       "    </tr>\n",
       "  </tbody>\n",
       "</table>\n",
       "</div>"
      ],
      "text/plain": [
       "                  date symbol        open       close         low        high  \\\n",
       "0  2016-01-05 00:00:00   WLTW  123.430000  125.839996  122.309998  126.250000   \n",
       "1  2016-01-06 00:00:00   WLTW  125.239998  119.980003  119.940002  125.540001   \n",
       "2  2016-01-07 00:00:00   WLTW  116.379997  114.949997  114.930000  119.739998   \n",
       "3  2016-01-08 00:00:00   WLTW  115.480003  116.620003  113.500000  117.440002   \n",
       "4  2016-01-11 00:00:00   WLTW  117.010002  114.970001  114.089996  117.330002   \n",
       "\n",
       "      volume  \n",
       "0  2163600.0  \n",
       "1  2386400.0  \n",
       "2  2489500.0  \n",
       "3  2006300.0  \n",
       "4  1408600.0  "
      ]
     },
     "execution_count": 4,
     "metadata": {},
     "output_type": "execute_result"
    }
   ],
   "source": [
    "data = pd.read_csv('Prices.csv')\n",
    "data.head()"
   ]
  },
  {
   "cell_type": "markdown",
   "metadata": {
    "colab_type": "text",
    "id": "fgkX6SEqOB6W"
   },
   "source": [
    "### Check all columns in the dataset"
   ]
  },
  {
   "cell_type": "code",
   "execution_count": 5,
   "metadata": {
    "colab": {},
    "colab_type": "code",
    "id": "7K8pWsNQOB6X"
   },
   "outputs": [
    {
     "name": "stdout",
     "output_type": "stream",
     "text": [
      "<class 'pandas.core.frame.DataFrame'>\n",
      "RangeIndex: 851264 entries, 0 to 851263\n",
      "Data columns (total 7 columns):\n",
      "date      851264 non-null object\n",
      "symbol    851264 non-null object\n",
      "open      851264 non-null float64\n",
      "close     851264 non-null float64\n",
      "low       851264 non-null float64\n",
      "high      851264 non-null float64\n",
      "volume    851264 non-null float64\n",
      "dtypes: float64(5), object(2)\n",
      "memory usage: 45.5+ MB\n"
     ]
    }
   ],
   "source": [
    "data.info()"
   ]
  },
  {
   "cell_type": "markdown",
   "metadata": {
    "colab_type": "text",
    "id": "7dU6X7MpOB6c"
   },
   "source": [
    "### Drop columns `date` and  `symbol`"
   ]
  },
  {
   "cell_type": "code",
   "execution_count": 6,
   "metadata": {
    "colab": {},
    "colab_type": "code",
    "id": "lh_6spSKOB6e"
   },
   "outputs": [
    {
     "name": "stdout",
     "output_type": "stream",
     "text": [
      "Shape:  (851264, 5)\n"
     ]
    }
   ],
   "source": [
    "drop_attrs = [\"date\", \"symbol\"]\n",
    "data = data.drop(labels=drop_attrs, axis=1)\n",
    "print(\"Shape: \", data.shape)"
   ]
  },
  {
   "cell_type": "code",
   "execution_count": 7,
   "metadata": {
    "colab": {},
    "colab_type": "code",
    "id": "xlwbUgTwOB6i",
    "outputId": "56bad82a-f271-415a-e0d6-cbe1c4290743"
   },
   "outputs": [
    {
     "name": "stdout",
     "output_type": "stream",
     "text": [
      "<class 'pandas.core.frame.DataFrame'>\n",
      "RangeIndex: 851264 entries, 0 to 851263\n",
      "Data columns (total 5 columns):\n",
      "open      851264 non-null float64\n",
      "close     851264 non-null float64\n",
      "low       851264 non-null float64\n",
      "high      851264 non-null float64\n",
      "volume    851264 non-null float64\n",
      "dtypes: float64(5)\n",
      "memory usage: 32.5 MB\n"
     ]
    }
   ],
   "source": [
    "data.info()"
   ]
  },
  {
   "cell_type": "markdown",
   "metadata": {
    "colab_type": "text",
    "id": "3DBv3WWYOB6q"
   },
   "source": [
    "### Consider only first 1000 rows in the dataset for building feature set and target set\n",
    "Target 'Volume' has very high values. Divide 'Volume' by 1000,000"
   ]
  },
  {
   "cell_type": "code",
   "execution_count": 8,
   "metadata": {
    "colab": {},
    "colab_type": "code",
    "id": "Z_hG9rGBOB6s"
   },
   "outputs": [
    {
     "name": "stdout",
     "output_type": "stream",
     "text": [
      "Shape:  (1000, 5)\n"
     ]
    }
   ],
   "source": [
    "prices_df_sample = data.head(1000).copy(deep = True)\n",
    "print(\"Shape: \", prices_df_sample.shape)"
   ]
  },
  {
   "cell_type": "code",
   "execution_count": 9,
   "metadata": {},
   "outputs": [],
   "source": [
    "prices_df_sample[\"volume\"]=prices_df_sample[\"volume\"]/1000000"
   ]
  },
  {
   "cell_type": "code",
   "execution_count": 10,
   "metadata": {},
   "outputs": [
    {
     "data": {
      "text/plain": [
       "0    2.1636\n",
       "1    2.3864\n",
       "2    2.4895\n",
       "3    2.0063\n",
       "4    1.4086\n",
       "Name: volume, dtype: float64"
      ]
     },
     "execution_count": 10,
     "metadata": {},
     "output_type": "execute_result"
    }
   ],
   "source": [
    "prices_df_sample[\"volume\"].head()"
   ]
  },
  {
   "cell_type": "markdown",
   "metadata": {
    "colab_type": "text",
    "id": "M3UaApqYOB6x"
   },
   "source": [
    "### Divide the data into train and test sets"
   ]
  },
  {
   "cell_type": "code",
   "execution_count": 11,
   "metadata": {
    "colab": {},
    "colab_type": "code",
    "id": "4LE4U8lTdQJq"
   },
   "outputs": [],
   "source": [
    "from sklearn.model_selection import train_test_split"
   ]
  },
  {
   "cell_type": "markdown",
   "metadata": {
    "colab_type": "text",
    "id": "oYK-aUuLbrz2"
   },
   "source": [
    "#### Convert Training and Test Data to numpy float32 arrays\n"
   ]
  },
  {
   "cell_type": "code",
   "execution_count": 12,
   "metadata": {},
   "outputs": [],
   "source": [
    "prices_df_sample=prices_df_sample.values"
   ]
  },
  {
   "cell_type": "code",
   "execution_count": 13,
   "metadata": {},
   "outputs": [
    {
     "data": {
      "text/plain": [
       "numpy.ndarray"
      ]
     },
     "execution_count": 13,
     "metadata": {},
     "output_type": "execute_result"
    }
   ],
   "source": [
    "type(prices_df_sample)"
   ]
  },
  {
   "cell_type": "code",
   "execution_count": 14,
   "metadata": {},
   "outputs": [
    {
     "data": {
      "text/plain": [
       "array([[123.43    , 125.839996, 122.309998, 126.25    ],\n",
       "       [125.239998, 119.980003, 119.940002, 125.540001],\n",
       "       [116.379997, 114.949997, 114.93    , 119.739998],\n",
       "       ...,\n",
       "       [ 28.32    ,  28.77    ,  28.01    ,  28.809999],\n",
       "       [ 44.      ,  44.799999,  43.75    ,  44.810001],\n",
       "       [ 36.080002,  37.139999,  36.009998,  37.23    ]])"
      ]
     },
     "execution_count": 14,
     "metadata": {},
     "output_type": "execute_result"
    }
   ],
   "source": [
    "prices_df_sample[:,0:4]"
   ]
  },
  {
   "cell_type": "code",
   "execution_count": 15,
   "metadata": {
    "colab": {},
    "colab_type": "code",
    "id": "Ao-S0tQGcncz"
   },
   "outputs": [],
   "source": [
    "# split into input (X) and output (Y) variables\n",
    "X = prices_df_sample[:,0:4]\n",
    "Y = prices_df_sample[:,4]\n",
    "# split into 70% for train and 30% for test\n",
    "X_train, X_test, y_train, y_test = train_test_split(X, Y, test_size=0.30, random_state=7)"
   ]
  },
  {
   "cell_type": "markdown",
   "metadata": {
    "colab_type": "text",
    "id": "im1ZegbDdKgv"
   },
   "source": [
    "### Normalize the data\n",
    "You can use Normalizer from sklearn.preprocessing"
   ]
  },
  {
   "cell_type": "code",
   "execution_count": 16,
   "metadata": {
    "colab": {},
    "colab_type": "code",
    "id": "2EkKAy7fOB6y"
   },
   "outputs": [],
   "source": [
    "from sklearn.preprocessing import Normalizer"
   ]
  },
  {
   "cell_type": "code",
   "execution_count": 17,
   "metadata": {},
   "outputs": [],
   "source": [
    "transformer = Normalizer().fit(X_train)\n",
    "X_train_n=transformer.transform(X_train)"
   ]
  },
  {
   "cell_type": "code",
   "execution_count": 18,
   "metadata": {},
   "outputs": [],
   "source": [
    "transformer = Normalizer().fit(X_test)\n",
    "X_test_n=transformer.transform(X_test)"
   ]
  },
  {
   "cell_type": "markdown",
   "metadata": {
    "colab_type": "text",
    "id": "v6vE4eYCOB62",
    "slideshow": {
     "slide_type": "slide"
    }
   },
   "source": [
    "## Building the Model in tensorflow"
   ]
  },
  {
   "cell_type": "code",
   "execution_count": 19,
   "metadata": {},
   "outputs": [],
   "source": [
    "#Input features\n",
    "x = tf.placeholder(shape=[None,4],dtype=tf.float32, name='x-input')\n",
    "\n",
    "#Normalize the data\n",
    "x_n = tf.nn.l2_normalize(x,1)\n",
    "\n",
    "#Actual Prices\n",
    "y_ = tf.placeholder(shape=[None],dtype=tf.float32, name='y-input')"
   ]
  },
  {
   "cell_type": "markdown",
   "metadata": {
    "colab_type": "text",
    "id": "297_qja4OB7A",
    "slideshow": {
     "slide_type": "slide"
    }
   },
   "source": [
    "1.Define Weights and Bias, use tf.zeros to initialize weights and Bias"
   ]
  },
  {
   "cell_type": "code",
   "execution_count": 20,
   "metadata": {},
   "outputs": [],
   "source": [
    "#Define Loss\n",
    "def loss(y_actual, y_predicted):   \n",
    "    diff = y_actual - y_predicted\n",
    "    sqr = tf.square(diff)\n",
    "    avg = tf.reduce_mean(sqr)\n",
    "    \n",
    "    return avg"
   ]
  },
  {
   "cell_type": "code",
   "execution_count": 21,
   "metadata": {},
   "outputs": [],
   "source": [
    "#Define Gradient Descent function\n",
    "def train(x, y_actual, w, b, learning_rate=0.01):\n",
    "    \n",
    "    #Record math ops on 'tape' to calculate loss\n",
    "    with tf.GradientTape() as t:\n",
    "        \n",
    "        t.watch([w,b])\n",
    "        \n",
    "        current_prediction = prediction(x, w, b)\n",
    "        current_loss = loss(y_actual, current_prediction)\n",
    "    \n",
    "    #Calculate Gradients for Loss w.r.t Weights and Bias\n",
    "    dw, db = t.gradient(current_loss,[w, b])\n",
    "    \n",
    "    #Update Weights and Bias\n",
    "    w = w - learning_rate*dw\n",
    "    b = b - learning_rate*db\n",
    "    \n",
    "    return w, b"
   ]
  },
  {
   "cell_type": "code",
   "execution_count": 22,
   "metadata": {},
   "outputs": [],
   "source": [
    "def prediction(x, w, b):\n",
    "    xw_matmul = tf.matmul(x, w)\n",
    "    y = tf.add(xw_matmul, b)\n",
    "    return y\n"
   ]
  },
  {
   "cell_type": "code",
   "execution_count": 23,
   "metadata": {},
   "outputs": [
    {
     "data": {
      "text/plain": [
       "(700, 4)"
      ]
     },
     "execution_count": 23,
     "metadata": {},
     "output_type": "execute_result"
    }
   ],
   "source": [
    "X_train_n.shape"
   ]
  },
  {
   "cell_type": "code",
   "execution_count": 24,
   "metadata": {
    "colab": {},
    "colab_type": "code",
    "id": "L205qPeQOB7B"
   },
   "outputs": [
    {
     "name": "stdout",
     "output_type": "stream",
     "text": [
      "WARNING:tensorflow:From C:\\Users\\birender.panwar\\AppData\\Local\\conda\\conda\\envs\\glbase\\lib\\site-packages\\tensorflow\\python\\framework\\op_def_library.py:263: colocate_with (from tensorflow.python.framework.ops) is deprecated and will be removed in a future version.\n",
      "Instructions for updating:\n",
      "Colocations handled automatically by placer.\n"
     ]
    }
   ],
   "source": [
    "W = tf.Variable(tf.zeros(shape=[4,1]), name=\"Weights\")\n",
    "b = tf.Variable(tf.zeros(shape=[1]),name=\"Bias\")"
   ]
  },
  {
   "cell_type": "markdown",
   "metadata": {
    "colab_type": "text",
    "id": "HgtWA-UIOB7F",
    "slideshow": {
     "slide_type": "slide"
    }
   },
   "source": [
    "2.Define a function to calculate prediction"
   ]
  },
  {
   "cell_type": "code",
   "execution_count": 25,
   "metadata": {
    "colab": {},
    "colab_type": "code",
    "id": "JveGlx25OB7H"
   },
   "outputs": [],
   "source": [
    "y = tf.add(tf.matmul(x_n,W),b,name='output')"
   ]
  },
  {
   "cell_type": "markdown",
   "metadata": {
    "colab_type": "text",
    "id": "TL1hIwf_OB7M",
    "slideshow": {
     "slide_type": "slide"
    }
   },
   "source": [
    "3.Loss (Cost) Function [Mean square error]"
   ]
  },
  {
   "cell_type": "code",
   "execution_count": 26,
   "metadata": {
    "colab": {},
    "colab_type": "code",
    "id": "8VSWPiGXOB7P"
   },
   "outputs": [],
   "source": [
    "loss = tf.reduce_mean(tf.square(y-y_),name='Loss')"
   ]
  },
  {
   "cell_type": "code",
   "execution_count": 27,
   "metadata": {},
   "outputs": [],
   "source": [
    "train_op = tf.train.GradientDescentOptimizer(0.03).minimize(loss)"
   ]
  },
  {
   "cell_type": "markdown",
   "metadata": {
    "colab_type": "text",
    "id": "jzG85FUlOB7U",
    "slideshow": {
     "slide_type": "slide"
    }
   },
   "source": [
    "4.Function to train the Model\n",
    "\n",
    "1.   Record all the mathematical steps to calculate Loss\n",
    "2.   Calculate Gradients of Loss w.r.t weights and bias\n",
    "3.   Update Weights and Bias based on gradients and learning rate to minimize loss"
   ]
  },
  {
   "cell_type": "code",
   "execution_count": 28,
   "metadata": {
    "colab": {},
    "colab_type": "code",
    "id": "cj802w-3OB7X"
   },
   "outputs": [],
   "source": [
    "#Lets start graph Execution\n",
    "sess = tf.Session()\n",
    "\n",
    "# variables need to be initialized before we can use them\n",
    "sess.run(tf.global_variables_initializer())\n",
    "\n",
    "#how many times data need to be shown to model\n",
    "training_epochs = 100"
   ]
  },
  {
   "cell_type": "markdown",
   "metadata": {
    "colab_type": "text",
    "id": "xSypb_u8OB7e",
    "slideshow": {
     "slide_type": "slide"
    }
   },
   "source": [
    "## Train the model for 100 epochs \n",
    "1. Observe the training loss at every iteration\n",
    "2. Observe Test loss at every 5th iteration"
   ]
  },
  {
   "cell_type": "code",
   "execution_count": 29,
   "metadata": {},
   "outputs": [],
   "source": [
    "W_array=[]\n",
    "b_array=[]"
   ]
  },
  {
   "cell_type": "code",
   "execution_count": 30,
   "metadata": {},
   "outputs": [
    {
     "name": "stdout",
     "output_type": "stream",
     "text": [
      "Training loss at step:  0  is  305.42902\n",
      "Training loss at step:  1  is  298.3284\n",
      "Training loss at step:  2  is  292.8297\n",
      "Training loss at step:  3  is  288.5715\n",
      "Training loss at step:  4  is  285.27383\n",
      "Training loss at step:  5  is  282.72012\n",
      "Training loss at step:  6  is  280.74274\n",
      "Training loss at step:  7  is  279.211\n",
      "Training loss at step:  8  is  278.02515\n",
      "Training loss at step:  9  is  277.10678\n",
      "Training loss at step:  10  is  276.39557\n",
      "Training loss at step:  11  is  275.8448\n",
      "Training loss at step:  12  is  275.41818\n",
      "Training loss at step:  13  is  275.08792\n",
      "Training loss at step:  14  is  274.8322\n",
      "Training loss at step:  15  is  274.634\n",
      "Training loss at step:  16  is  274.4808\n",
      "Training loss at step:  17  is  274.36185\n",
      "Training loss at step:  18  is  274.2699\n",
      "Training loss at step:  19  is  274.19867\n",
      "Training loss at step:  20  is  274.14355\n",
      "Training loss at step:  21  is  274.10077\n",
      "Training loss at step:  22  is  274.06766\n",
      "Training loss at step:  23  is  274.0421\n",
      "Training loss at step:  24  is  274.02228\n",
      "Training loss at step:  25  is  274.00668\n",
      "Training loss at step:  26  is  273.99503\n",
      "Training loss at step:  27  is  273.9857\n",
      "Training loss at step:  28  is  273.97845\n",
      "Training loss at step:  29  is  273.973\n",
      "Training loss at step:  30  is  273.96872\n",
      "Training loss at step:  31  is  273.96558\n",
      "Training loss at step:  32  is  273.96283\n",
      "Training loss at step:  33  is  273.96088\n",
      "Training loss at step:  34  is  273.9594\n",
      "Training loss at step:  35  is  273.95813\n",
      "Training loss at step:  36  is  273.9572\n",
      "Training loss at step:  37  is  273.95645\n",
      "Training loss at step:  38  is  273.95602\n",
      "Training loss at step:  39  is  273.9556\n",
      "Training loss at step:  40  is  273.95538\n",
      "Training loss at step:  41  is  273.9548\n",
      "Training loss at step:  42  is  273.9548\n",
      "Training loss at step:  43  is  273.9546\n",
      "Training loss at step:  44  is  273.95447\n",
      "Training loss at step:  45  is  273.95447\n",
      "Training loss at step:  46  is  273.9544\n",
      "Training loss at step:  47  is  273.95428\n",
      "Training loss at step:  48  is  273.95428\n",
      "Training loss at step:  49  is  273.9543\n",
      "Training loss at step:  50  is  273.95422\n",
      "Training loss at step:  51  is  273.9541\n",
      "Training loss at step:  52  is  273.95416\n",
      "Training loss at step:  53  is  273.9541\n",
      "Training loss at step:  54  is  273.9542\n",
      "Training loss at step:  55  is  273.95407\n",
      "Training loss at step:  56  is  273.95416\n",
      "Training loss at step:  57  is  273.95422\n",
      "Training loss at step:  58  is  273.95416\n",
      "Training loss at step:  59  is  273.9541\n",
      "Training loss at step:  60  is  273.9541\n",
      "Training loss at step:  61  is  273.95413\n",
      "Training loss at step:  62  is  273.954\n",
      "Training loss at step:  63  is  273.9541\n",
      "Training loss at step:  64  is  273.95407\n",
      "Training loss at step:  65  is  273.95413\n",
      "Training loss at step:  66  is  273.95416\n",
      "Training loss at step:  67  is  273.95416\n",
      "Training loss at step:  68  is  273.95416\n",
      "Training loss at step:  69  is  273.95416\n",
      "Training loss at step:  70  is  273.95416\n",
      "Training loss at step:  71  is  273.95416\n",
      "Training loss at step:  72  is  273.95416\n",
      "Training loss at step:  73  is  273.95416\n",
      "Training loss at step:  74  is  273.9541\n",
      "Training loss at step:  75  is  273.95416\n",
      "Training loss at step:  76  is  273.95422\n",
      "Training loss at step:  77  is  273.95416\n",
      "Training loss at step:  78  is  273.9542\n",
      "Training loss at step:  79  is  273.95422\n",
      "Training loss at step:  80  is  273.95422\n",
      "Training loss at step:  81  is  273.95428\n",
      "Training loss at step:  82  is  273.95428\n",
      "Training loss at step:  83  is  273.95428\n",
      "Training loss at step:  84  is  273.95428\n",
      "Training loss at step:  85  is  273.95428\n",
      "Training loss at step:  86  is  273.95428\n",
      "Training loss at step:  87  is  273.95428\n",
      "Training loss at step:  88  is  273.95428\n",
      "Training loss at step:  89  is  273.95428\n",
      "Training loss at step:  90  is  273.95425\n",
      "Training loss at step:  91  is  273.95422\n",
      "Training loss at step:  92  is  273.95422\n",
      "Training loss at step:  93  is  273.95422\n",
      "Training loss at step:  94  is  273.95422\n",
      "Training loss at step:  95  is  273.95422\n",
      "Training loss at step:  96  is  273.95422\n",
      "Training loss at step:  97  is  273.95422\n",
      "Training loss at step:  98  is  273.95422\n",
      "Training loss at step:  99  is  273.95422\n"
     ]
    }
   ],
   "source": [
    "for epoch in range(training_epochs):\n",
    "            \n",
    "    #Calculate train_op and loss\n",
    "    _, train_loss = sess.run([train_op,loss],feed_dict={x:X_train_n, y_:y_train})\n",
    "    W_array.append(W)\n",
    "    b_array.append(b)\n",
    "    \n",
    "    print ('Training loss at step: ', epoch, ' is ', train_loss)\n",
    "   ## print ('W at step: ', epoch, ' is ', W_array[2])"
   ]
  },
  {
   "cell_type": "code",
   "execution_count": 31,
   "metadata": {},
   "outputs": [],
   "source": [
    "## Testing loss at every 10 step."
   ]
  },
  {
   "cell_type": "code",
   "execution_count": 32,
   "metadata": {},
   "outputs": [
    {
     "name": "stdout",
     "output_type": "stream",
     "text": [
      "Testing loss at step:  0  is  57.884933\n",
      "Testing loss at step:  10  is  56.986824\n",
      "Testing loss at step:  20  is  56.917156\n",
      "Testing loss at step:  30  is  56.911755\n",
      "Testing loss at step:  40  is  56.911324\n",
      "Testing loss at step:  50  is  56.9113\n",
      "Testing loss at step:  60  is  56.911312\n",
      "Testing loss at step:  70  is  56.911274\n",
      "Testing loss at step:  80  is  56.91129\n",
      "Testing loss at step:  90  is  56.911312\n"
     ]
    }
   ],
   "source": [
    "for epoch in range(training_epochs):\n",
    "            \n",
    "    #Calculate train_op and loss\n",
    "    _, train_loss = sess.run([train_op,loss],feed_dict={x:X_test_n, y_:y_test})\n",
    "    \n",
    "    if epoch % 10 == 0:\n",
    "        print ('Testing loss at step: ', epoch, ' is ', train_loss)"
   ]
  },
  {
   "cell_type": "markdown",
   "metadata": {
    "colab_type": "text",
    "id": "DOL2ncA1OB7q"
   },
   "source": [
    "### Get the shapes and values of W and b"
   ]
  },
  {
   "cell_type": "code",
   "execution_count": 33,
   "metadata": {},
   "outputs": [],
   "source": [
    "W_optimum=sess.run(W)\n"
   ]
  },
  {
   "cell_type": "code",
   "execution_count": 34,
   "metadata": {},
   "outputs": [],
   "source": [
    "b_optimum=sess.run(b)"
   ]
  },
  {
   "cell_type": "code",
   "execution_count": 35,
   "metadata": {},
   "outputs": [
    {
     "name": "stdout",
     "output_type": "stream",
     "text": [
      "[[1.154436 ]\n",
      " [1.1584178]\n",
      " [1.1425873]\n",
      " [1.1679258]]\n"
     ]
    }
   ],
   "source": [
    "print(W_optimum)"
   ]
  },
  {
   "cell_type": "code",
   "execution_count": 36,
   "metadata": {},
   "outputs": [
    {
     "name": "stdout",
     "output_type": "stream",
     "text": [
      "[2.3118074]\n"
     ]
    }
   ],
   "source": [
    "print(b_optimum)"
   ]
  },
  {
   "cell_type": "markdown",
   "metadata": {
    "colab_type": "text",
    "id": "ERq9GOKKciho"
   },
   "source": [
    "### Model Prediction on 1st Examples in Test Dataset"
   ]
  },
  {
   "cell_type": "code",
   "execution_count": 37,
   "metadata": {},
   "outputs": [],
   "source": [
    "import numpy as np"
   ]
  },
  {
   "cell_type": "code",
   "execution_count": 38,
   "metadata": {
    "colab": {},
    "colab_type": "code",
    "id": "gKGvUWahcihp"
   },
   "outputs": [
    {
     "name": "stdout",
     "output_type": "stream",
     "text": [
      "[252.11195]\n"
     ]
    }
   ],
   "source": [
    "prediction = np.matmul(np.float32(X_test[0]),W_optimum) + b_optimum\n",
    "print(prediction)"
   ]
  },
  {
   "cell_type": "markdown",
   "metadata": {
    "colab_type": "text",
    "id": "YJRBuqXhOB7_"
   },
   "source": [
    "## Classification using tf.Keras\n",
    "\n",
    "In this exercise, we will build a Deep Neural Network using tf.Keras. We will use Iris Dataset for this exercise."
   ]
  },
  {
   "cell_type": "markdown",
   "metadata": {
    "colab_type": "text",
    "id": "sb7Epo0VOB58"
   },
   "source": [
    "### Load tensorflow if not done already"
   ]
  },
  {
   "cell_type": "markdown",
   "metadata": {},
   "source": [
    "##### Load the libraries"
   ]
  },
  {
   "cell_type": "code",
   "execution_count": 39,
   "metadata": {},
   "outputs": [
    {
     "name": "stderr",
     "output_type": "stream",
     "text": [
      "Using TensorFlow backend.\n"
     ]
    }
   ],
   "source": [
    "import pandas as pd\n",
    "from keras.models import Sequential\n",
    "from keras.layers import Dense"
   ]
  },
  {
   "cell_type": "markdown",
   "metadata": {
    "colab_type": "text",
    "id": "O0g6lorycihf"
   },
   "source": [
    "### Load the given Iris data using pandas (Iris.csv)"
   ]
  },
  {
   "cell_type": "code",
   "execution_count": 40,
   "metadata": {
    "colab": {},
    "colab_type": "code",
    "id": "6xFvb5sRcihg"
   },
   "outputs": [],
   "source": [
    "df_iris = pd.read_csv('Iris.csv')"
   ]
  },
  {
   "cell_type": "markdown",
   "metadata": {
    "colab_type": "text",
    "id": "SAB--Qdwcihm"
   },
   "source": [
    "### Target set has different categories. So, Label encode them. And convert into one-hot vectors using get_dummies in pandas."
   ]
  },
  {
   "cell_type": "code",
   "execution_count": 41,
   "metadata": {
    "colab": {},
    "colab_type": "code",
    "id": "IJr5dYnocihm"
   },
   "outputs": [
    {
     "name": "stdout",
     "output_type": "stream",
     "text": [
      "<class 'pandas.core.frame.DataFrame'>\n",
      "RangeIndex: 150 entries, 0 to 149\n",
      "Data columns (total 6 columns):\n",
      "Id               150 non-null int64\n",
      "SepalLengthCm    150 non-null float64\n",
      "SepalWidthCm     150 non-null float64\n",
      "PetalLengthCm    150 non-null float64\n",
      "PetalWidthCm     150 non-null float64\n",
      "Species          150 non-null object\n",
      "dtypes: float64(4), int64(1), object(1)\n",
      "memory usage: 7.1+ KB\n"
     ]
    }
   ],
   "source": [
    "# Print a concise summary of a DataFrame\n",
    "df_iris.info()"
   ]
  },
  {
   "cell_type": "code",
   "execution_count": 42,
   "metadata": {},
   "outputs": [
    {
     "data": {
      "text/plain": [
       "Iris-setosa        50\n",
       "Iris-virginica     50\n",
       "Iris-versicolor    50\n",
       "Name: Species, dtype: int64"
      ]
     },
     "execution_count": 42,
     "metadata": {},
     "output_type": "execute_result"
    }
   ],
   "source": [
    "# get the count\n",
    "df_iris['Species'].value_counts()"
   ]
  },
  {
   "cell_type": "code",
   "execution_count": 43,
   "metadata": {},
   "outputs": [],
   "source": [
    "from sklearn.preprocessing import LabelEncoder\n",
    "labelencoder = LabelEncoder()\n",
    "df_iris['SpeciesID'] = labelencoder.fit_transform(df_iris[\"Species\"])"
   ]
  },
  {
   "cell_type": "code",
   "execution_count": 44,
   "metadata": {},
   "outputs": [],
   "source": [
    "df_SpeciesID = df_iris[['SpeciesID']]"
   ]
  },
  {
   "cell_type": "code",
   "execution_count": 45,
   "metadata": {},
   "outputs": [],
   "source": [
    "df_iris = pd.get_dummies(df_iris, columns=['SpeciesID'])"
   ]
  },
  {
   "cell_type": "code",
   "execution_count": 46,
   "metadata": {},
   "outputs": [
    {
     "data": {
      "text/html": [
       "<div>\n",
       "<style scoped>\n",
       "    .dataframe tbody tr th:only-of-type {\n",
       "        vertical-align: middle;\n",
       "    }\n",
       "\n",
       "    .dataframe tbody tr th {\n",
       "        vertical-align: top;\n",
       "    }\n",
       "\n",
       "    .dataframe thead th {\n",
       "        text-align: right;\n",
       "    }\n",
       "</style>\n",
       "<table border=\"1\" class=\"dataframe\">\n",
       "  <thead>\n",
       "    <tr style=\"text-align: right;\">\n",
       "      <th></th>\n",
       "      <th>Id</th>\n",
       "      <th>SepalLengthCm</th>\n",
       "      <th>SepalWidthCm</th>\n",
       "      <th>PetalLengthCm</th>\n",
       "      <th>PetalWidthCm</th>\n",
       "      <th>Species</th>\n",
       "      <th>SpeciesID_0</th>\n",
       "      <th>SpeciesID_1</th>\n",
       "      <th>SpeciesID_2</th>\n",
       "    </tr>\n",
       "  </thead>\n",
       "  <tbody>\n",
       "    <tr>\n",
       "      <th>0</th>\n",
       "      <td>1</td>\n",
       "      <td>5.1</td>\n",
       "      <td>3.5</td>\n",
       "      <td>1.4</td>\n",
       "      <td>0.2</td>\n",
       "      <td>Iris-setosa</td>\n",
       "      <td>1</td>\n",
       "      <td>0</td>\n",
       "      <td>0</td>\n",
       "    </tr>\n",
       "    <tr>\n",
       "      <th>1</th>\n",
       "      <td>2</td>\n",
       "      <td>4.9</td>\n",
       "      <td>3.0</td>\n",
       "      <td>1.4</td>\n",
       "      <td>0.2</td>\n",
       "      <td>Iris-setosa</td>\n",
       "      <td>1</td>\n",
       "      <td>0</td>\n",
       "      <td>0</td>\n",
       "    </tr>\n",
       "    <tr>\n",
       "      <th>2</th>\n",
       "      <td>3</td>\n",
       "      <td>4.7</td>\n",
       "      <td>3.2</td>\n",
       "      <td>1.3</td>\n",
       "      <td>0.2</td>\n",
       "      <td>Iris-setosa</td>\n",
       "      <td>1</td>\n",
       "      <td>0</td>\n",
       "      <td>0</td>\n",
       "    </tr>\n",
       "    <tr>\n",
       "      <th>3</th>\n",
       "      <td>4</td>\n",
       "      <td>4.6</td>\n",
       "      <td>3.1</td>\n",
       "      <td>1.5</td>\n",
       "      <td>0.2</td>\n",
       "      <td>Iris-setosa</td>\n",
       "      <td>1</td>\n",
       "      <td>0</td>\n",
       "      <td>0</td>\n",
       "    </tr>\n",
       "    <tr>\n",
       "      <th>4</th>\n",
       "      <td>5</td>\n",
       "      <td>5.0</td>\n",
       "      <td>3.6</td>\n",
       "      <td>1.4</td>\n",
       "      <td>0.2</td>\n",
       "      <td>Iris-setosa</td>\n",
       "      <td>1</td>\n",
       "      <td>0</td>\n",
       "      <td>0</td>\n",
       "    </tr>\n",
       "  </tbody>\n",
       "</table>\n",
       "</div>"
      ],
      "text/plain": [
       "   Id  SepalLengthCm  SepalWidthCm  PetalLengthCm  PetalWidthCm      Species  \\\n",
       "0   1            5.1           3.5            1.4           0.2  Iris-setosa   \n",
       "1   2            4.9           3.0            1.4           0.2  Iris-setosa   \n",
       "2   3            4.7           3.2            1.3           0.2  Iris-setosa   \n",
       "3   4            4.6           3.1            1.5           0.2  Iris-setosa   \n",
       "4   5            5.0           3.6            1.4           0.2  Iris-setosa   \n",
       "\n",
       "   SpeciesID_0  SpeciesID_1  SpeciesID_2  \n",
       "0            1            0            0  \n",
       "1            1            0            0  \n",
       "2            1            0            0  \n",
       "3            1            0            0  \n",
       "4            1            0            0  "
      ]
     },
     "execution_count": 46,
     "metadata": {},
     "output_type": "execute_result"
    }
   ],
   "source": [
    "df_iris.head()"
   ]
  },
  {
   "cell_type": "code",
   "execution_count": 47,
   "metadata": {},
   "outputs": [
    {
     "name": "stdout",
     "output_type": "stream",
     "text": [
      "<class 'pandas.core.frame.DataFrame'>\n",
      "RangeIndex: 150 entries, 0 to 149\n",
      "Data columns (total 9 columns):\n",
      "Id               150 non-null int64\n",
      "SepalLengthCm    150 non-null float64\n",
      "SepalWidthCm     150 non-null float64\n",
      "PetalLengthCm    150 non-null float64\n",
      "PetalWidthCm     150 non-null float64\n",
      "Species          150 non-null object\n",
      "SpeciesID_0      150 non-null uint8\n",
      "SpeciesID_1      150 non-null uint8\n",
      "SpeciesID_2      150 non-null uint8\n",
      "dtypes: float64(4), int64(1), object(1), uint8(3)\n",
      "memory usage: 7.5+ KB\n"
     ]
    }
   ],
   "source": [
    "df_iris.info()"
   ]
  },
  {
   "cell_type": "markdown",
   "metadata": {
    "colab_type": "text",
    "id": "D95nY5ILcihj"
   },
   "source": [
    "### Splitting the data into feature set and target set"
   ]
  },
  {
   "cell_type": "code",
   "execution_count": 48,
   "metadata": {
    "colab": {},
    "colab_type": "code",
    "id": "RyMQoLMucihj"
   },
   "outputs": [],
   "source": [
    "y = df_iris[['SpeciesID_0', 'SpeciesID_1','SpeciesID_2']]"
   ]
  },
  {
   "cell_type": "code",
   "execution_count": 49,
   "metadata": {},
   "outputs": [],
   "source": [
    "X = df_iris.drop(['Id','Species', 'SpeciesID_0', 'SpeciesID_1','SpeciesID_2'],axis=1)"
   ]
  },
  {
   "cell_type": "markdown",
   "metadata": {
    "colab_type": "text",
    "id": "ERq9GOKKciho"
   },
   "source": [
    "### Divide the dataset into Training and test (70:30)"
   ]
  },
  {
   "cell_type": "code",
   "execution_count": 50,
   "metadata": {
    "colab": {},
    "colab_type": "code",
    "id": "gKGvUWahcihp"
   },
   "outputs": [],
   "source": [
    "from sklearn.model_selection import train_test_split"
   ]
  },
  {
   "cell_type": "code",
   "execution_count": 51,
   "metadata": {},
   "outputs": [],
   "source": [
    "X_train, X_test, y_train, y_test = train_test_split(X,y,test_size=0.3, random_state=1)"
   ]
  },
  {
   "cell_type": "markdown",
   "metadata": {
    "colab_type": "text",
    "id": "b22qpC5xcihr"
   },
   "source": [
    "###  Building Model in tf.keras\n",
    "\n",
    "Build a Linear Classifier model  <br>\n",
    "1.  Use Dense Layer  with input shape of 4 (according to the feature set) and number of outputs set to 3<br> \n",
    "2. Apply Softmax on Dense Layer outputs <br>\n",
    "3. Use SGD as Optimizer\n",
    "4. Use categorical_crossentropy as loss function "
   ]
  },
  {
   "cell_type": "code",
   "execution_count": 52,
   "metadata": {
    "colab": {},
    "colab_type": "code",
    "id": "Hov_UFnUciht"
   },
   "outputs": [],
   "source": [
    "model = Sequential()"
   ]
  },
  {
   "cell_type": "code",
   "execution_count": 53,
   "metadata": {},
   "outputs": [],
   "source": [
    "model.add(Dense(64, input_dim=4, activation='relu'))\n",
    "model.add(Dense(3, activation='softmax'))"
   ]
  },
  {
   "cell_type": "code",
   "execution_count": 54,
   "metadata": {},
   "outputs": [],
   "source": [
    "# comile the model\n",
    "model.compile(loss='categorical_crossentropy', optimizer='sgd', metrics=['accuracy'])"
   ]
  },
  {
   "cell_type": "markdown",
   "metadata": {
    "colab_type": "text",
    "id": "T5FdzqIKcihw"
   },
   "source": [
    "### Model Training "
   ]
  },
  {
   "cell_type": "code",
   "execution_count": 55,
   "metadata": {
    "colab": {},
    "colab_type": "code",
    "id": "4qLEdHPscihx"
   },
   "outputs": [
    {
     "name": "stdout",
     "output_type": "stream",
     "text": [
      "WARNING:tensorflow:From C:\\Users\\birender.panwar\\AppData\\Local\\conda\\conda\\envs\\glbase\\lib\\site-packages\\tensorflow\\python\\ops\\math_ops.py:3066: to_int32 (from tensorflow.python.ops.math_ops) is deprecated and will be removed in a future version.\n",
      "Instructions for updating:\n",
      "Use tf.cast instead.\n",
      "Train on 105 samples, validate on 45 samples\n",
      "Epoch 1/100\n",
      "105/105 [==============================] - 1s 5ms/step - loss: 1.0450 - acc: 0.5238 - val_loss: 0.6811 - val_acc: 0.7111\n",
      "Epoch 2/100\n",
      "105/105 [==============================] - 0s 1ms/step - loss: 0.6245 - acc: 0.7143 - val_loss: 0.5289 - val_acc: 0.6222\n",
      "Epoch 3/100\n",
      "105/105 [==============================] - 0s 1ms/step - loss: 0.4715 - acc: 0.7810 - val_loss: 0.5354 - val_acc: 0.7111\n",
      "Epoch 4/100\n",
      "105/105 [==============================] - 0s 1ms/step - loss: 0.4177 - acc: 0.8000 - val_loss: 0.5122 - val_acc: 0.6222\n",
      "Epoch 5/100\n",
      "105/105 [==============================] - 0s 1ms/step - loss: 0.3704 - acc: 0.8476 - val_loss: 0.3197 - val_acc: 0.9778\n",
      "Epoch 6/100\n",
      "105/105 [==============================] - 0s 1ms/step - loss: 0.3306 - acc: 0.8476 - val_loss: 0.2929 - val_acc: 0.9556\n",
      "Epoch 7/100\n",
      "105/105 [==============================] - 0s 1ms/step - loss: 0.2925 - acc: 0.8667 - val_loss: 0.2624 - val_acc: 0.9778\n",
      "Epoch 8/100\n",
      "105/105 [==============================] - 0s 1ms/step - loss: 0.2847 - acc: 0.9048 - val_loss: 0.2554 - val_acc: 0.9333\n",
      "Epoch 9/100\n",
      "105/105 [==============================] - 0s 1ms/step - loss: 0.2558 - acc: 0.8952 - val_loss: 0.2841 - val_acc: 0.8889\n",
      "Epoch 10/100\n",
      "105/105 [==============================] - 0s 1ms/step - loss: 0.2200 - acc: 0.9238 - val_loss: 0.2382 - val_acc: 0.9111\n",
      "Epoch 11/100\n",
      "105/105 [==============================] - 0s 1ms/step - loss: 0.2156 - acc: 0.9333 - val_loss: 0.2393 - val_acc: 0.9333\n",
      "Epoch 12/100\n",
      "105/105 [==============================] - 0s 1ms/step - loss: 0.1910 - acc: 0.9429 - val_loss: 0.1972 - val_acc: 0.9556\n",
      "Epoch 13/100\n",
      "105/105 [==============================] - 0s 1ms/step - loss: 0.1945 - acc: 0.9429 - val_loss: 0.1680 - val_acc: 0.9778\n",
      "Epoch 14/100\n",
      "105/105 [==============================] - 0s 1ms/step - loss: 0.1850 - acc: 0.9333 - val_loss: 0.2126 - val_acc: 0.9111\n",
      "Epoch 15/100\n",
      "105/105 [==============================] - 0s 1ms/step - loss: 0.1784 - acc: 0.9333 - val_loss: 0.1473 - val_acc: 1.0000\n",
      "Epoch 16/100\n",
      "105/105 [==============================] - 0s 1ms/step - loss: 0.2001 - acc: 0.9429 - val_loss: 0.1498 - val_acc: 0.9778\n",
      "Epoch 17/100\n",
      "105/105 [==============================] - 0s 1ms/step - loss: 0.2061 - acc: 0.9143 - val_loss: 0.1819 - val_acc: 0.9333\n",
      "Epoch 18/100\n",
      "105/105 [==============================] - 0s 1ms/step - loss: 0.1732 - acc: 0.9524 - val_loss: 0.3378 - val_acc: 0.8000\n",
      "Epoch 19/100\n",
      "105/105 [==============================] - 0s 1ms/step - loss: 0.1682 - acc: 0.9429 - val_loss: 0.1353 - val_acc: 0.9778\n",
      "Epoch 20/100\n",
      "105/105 [==============================] - 0s 1ms/step - loss: 0.1516 - acc: 0.9429 - val_loss: 0.2655 - val_acc: 0.8667\n",
      "Epoch 21/100\n",
      "105/105 [==============================] - 0s 1ms/step - loss: 0.1663 - acc: 0.9429 - val_loss: 0.1719 - val_acc: 0.9333\n",
      "Epoch 22/100\n",
      "105/105 [==============================] - 0s 1ms/step - loss: 0.1719 - acc: 0.9429 - val_loss: 0.1139 - val_acc: 0.9778\n",
      "Epoch 23/100\n",
      "105/105 [==============================] - 0s 1ms/step - loss: 0.1726 - acc: 0.9238 - val_loss: 0.2104 - val_acc: 0.9111\n",
      "Epoch 24/100\n",
      "105/105 [==============================] - 0s 1ms/step - loss: 0.1692 - acc: 0.9333 - val_loss: 0.1177 - val_acc: 0.9778\n",
      "Epoch 25/100\n",
      "105/105 [==============================] - 0s 1ms/step - loss: 0.1456 - acc: 0.9429 - val_loss: 0.1146 - val_acc: 0.9556\n",
      "Epoch 26/100\n",
      "105/105 [==============================] - 0s 1ms/step - loss: 0.1676 - acc: 0.9238 - val_loss: 0.1076 - val_acc: 0.9778\n",
      "Epoch 27/100\n",
      "105/105 [==============================] - 0s 1ms/step - loss: 0.1619 - acc: 0.9524 - val_loss: 0.0978 - val_acc: 1.0000\n",
      "Epoch 28/100\n",
      "105/105 [==============================] - 0s 1ms/step - loss: 0.1415 - acc: 0.9524 - val_loss: 0.2594 - val_acc: 0.8667\n",
      "Epoch 29/100\n",
      "105/105 [==============================] - 0s 1ms/step - loss: 0.1202 - acc: 0.9714 - val_loss: 0.2401 - val_acc: 0.8889\n",
      "Epoch 30/100\n",
      "105/105 [==============================] - 0s 1ms/step - loss: 0.1560 - acc: 0.9429 - val_loss: 0.1169 - val_acc: 0.9556\n",
      "Epoch 31/100\n",
      "105/105 [==============================] - 0s 1ms/step - loss: 0.1631 - acc: 0.9524 - val_loss: 0.1029 - val_acc: 0.9778\n",
      "Epoch 32/100\n",
      "105/105 [==============================] - 0s 1ms/step - loss: 0.1134 - acc: 0.9619 - val_loss: 0.1105 - val_acc: 0.9778\n",
      "Epoch 33/100\n",
      "105/105 [==============================] - 0s 1ms/step - loss: 0.1358 - acc: 0.9333 - val_loss: 0.0914 - val_acc: 0.9778\n",
      "Epoch 34/100\n",
      "105/105 [==============================] - 0s 1ms/step - loss: 0.1648 - acc: 0.9524 - val_loss: 0.1038 - val_acc: 0.9778\n",
      "Epoch 35/100\n",
      "105/105 [==============================] - 0s 1ms/step - loss: 0.1319 - acc: 0.9333 - val_loss: 0.0865 - val_acc: 0.9778\n",
      "Epoch 36/100\n",
      "105/105 [==============================] - 0s 1ms/step - loss: 0.1416 - acc: 0.9429 - val_loss: 0.1509 - val_acc: 0.9333\n",
      "Epoch 37/100\n",
      "105/105 [==============================] - 0s 1ms/step - loss: 0.1416 - acc: 0.9429 - val_loss: 0.0881 - val_acc: 0.9778\n",
      "Epoch 38/100\n",
      "105/105 [==============================] - 0s 1ms/step - loss: 0.1495 - acc: 0.9524 - val_loss: 0.2183 - val_acc: 0.8889\n",
      "Epoch 39/100\n",
      "105/105 [==============================] - 0s 2ms/step - loss: 0.1288 - acc: 0.9524 - val_loss: 0.0809 - val_acc: 1.0000\n",
      "Epoch 40/100\n",
      "105/105 [==============================] - 0s 2ms/step - loss: 0.1196 - acc: 0.9524 - val_loss: 0.0909 - val_acc: 0.9778\n",
      "Epoch 41/100\n",
      "105/105 [==============================] - 0s 2ms/step - loss: 0.1657 - acc: 0.9429 - val_loss: 0.1703 - val_acc: 0.9111\n",
      "Epoch 42/100\n",
      "105/105 [==============================] - 0s 1ms/step - loss: 0.1477 - acc: 0.9524 - val_loss: 0.1099 - val_acc: 0.9556\n",
      "Epoch 43/100\n",
      "105/105 [==============================] - 0s 1ms/step - loss: 0.1546 - acc: 0.9333 - val_loss: 0.2095 - val_acc: 0.9111\n",
      "Epoch 44/100\n",
      "105/105 [==============================] - 0s 2ms/step - loss: 0.1784 - acc: 0.9238 - val_loss: 0.0880 - val_acc: 0.9778\n",
      "Epoch 45/100\n",
      "105/105 [==============================] - 0s 2ms/step - loss: 0.1551 - acc: 0.9238 - val_loss: 0.1538 - val_acc: 0.9333\n",
      "Epoch 46/100\n",
      "105/105 [==============================] - 0s 2ms/step - loss: 0.1183 - acc: 0.9524 - val_loss: 0.2231 - val_acc: 0.8889\n",
      "Epoch 47/100\n",
      "105/105 [==============================] - 0s 2ms/step - loss: 0.1485 - acc: 0.9238 - val_loss: 0.1704 - val_acc: 0.9111\n",
      "Epoch 48/100\n",
      "105/105 [==============================] - 0s 2ms/step - loss: 0.1161 - acc: 0.9714 - val_loss: 0.1161 - val_acc: 0.9556\n",
      "Epoch 49/100\n",
      "105/105 [==============================] - 0s 2ms/step - loss: 0.1663 - acc: 0.9333 - val_loss: 0.0749 - val_acc: 1.0000\n",
      "Epoch 50/100\n",
      "105/105 [==============================] - 0s 1ms/step - loss: 0.1148 - acc: 0.9524 - val_loss: 0.1799 - val_acc: 0.9111\n",
      "Epoch 51/100\n",
      "105/105 [==============================] - 0s 2ms/step - loss: 0.1645 - acc: 0.9429 - val_loss: 0.1016 - val_acc: 0.9556\n",
      "Epoch 52/100\n",
      "105/105 [==============================] - 0s 2ms/step - loss: 0.1343 - acc: 0.9524 - val_loss: 0.1410 - val_acc: 0.9333\n",
      "Epoch 53/100\n",
      "105/105 [==============================] - 0s 1ms/step - loss: 0.1414 - acc: 0.9333 - val_loss: 0.1463 - val_acc: 0.9333\n",
      "Epoch 54/100\n",
      "105/105 [==============================] - 0s 2ms/step - loss: 0.1105 - acc: 0.9429 - val_loss: 0.1542 - val_acc: 0.9111\n",
      "Epoch 55/100\n",
      "105/105 [==============================] - 0s 1ms/step - loss: 0.1273 - acc: 0.9619 - val_loss: 0.0689 - val_acc: 1.0000\n",
      "Epoch 56/100\n",
      "105/105 [==============================] - 0s 2ms/step - loss: 0.1138 - acc: 0.9619 - val_loss: 0.0724 - val_acc: 0.9778\n",
      "Epoch 57/100\n",
      "105/105 [==============================] - 0s 2ms/step - loss: 0.1611 - acc: 0.9333 - val_loss: 0.0971 - val_acc: 0.9778\n",
      "Epoch 58/100\n",
      "105/105 [==============================] - 0s 2ms/step - loss: 0.1354 - acc: 0.9429 - val_loss: 0.0874 - val_acc: 0.9778\n",
      "Epoch 59/100\n"
     ]
    },
    {
     "name": "stdout",
     "output_type": "stream",
     "text": [
      "105/105 [==============================] - 0s 2ms/step - loss: 0.1547 - acc: 0.9238 - val_loss: 0.2669 - val_acc: 0.8667\n",
      "Epoch 60/100\n",
      "105/105 [==============================] - 0s 1ms/step - loss: 0.1415 - acc: 0.9333 - val_loss: 0.2430 - val_acc: 0.8889\n",
      "Epoch 61/100\n",
      "105/105 [==============================] - 0s 1ms/step - loss: 0.1729 - acc: 0.9238 - val_loss: 0.0705 - val_acc: 1.0000\n",
      "Epoch 62/100\n",
      "105/105 [==============================] - 0s 1ms/step - loss: 0.1108 - acc: 0.9524 - val_loss: 0.2192 - val_acc: 0.8889\n",
      "Epoch 63/100\n",
      "105/105 [==============================] - 0s 1ms/step - loss: 0.1368 - acc: 0.9429 - val_loss: 0.2496 - val_acc: 0.8889\n",
      "Epoch 64/100\n",
      "105/105 [==============================] - 0s 1ms/step - loss: 0.1261 - acc: 0.9238 - val_loss: 0.1643 - val_acc: 0.9333\n",
      "Epoch 65/100\n",
      "105/105 [==============================] - 0s 1ms/step - loss: 0.1040 - acc: 0.9238 - val_loss: 0.0948 - val_acc: 0.9556\n",
      "Epoch 66/100\n",
      "105/105 [==============================] - 0s 1ms/step - loss: 0.1311 - acc: 0.9619 - val_loss: 0.2678 - val_acc: 0.8667\n",
      "Epoch 67/100\n",
      "105/105 [==============================] - 0s 1ms/step - loss: 0.1376 - acc: 0.9524 - val_loss: 0.0768 - val_acc: 0.9778\n",
      "Epoch 68/100\n",
      "105/105 [==============================] - 0s 1ms/step - loss: 0.1118 - acc: 0.9524 - val_loss: 0.0682 - val_acc: 0.9778\n",
      "Epoch 69/100\n",
      "105/105 [==============================] - 0s 1ms/step - loss: 0.1349 - acc: 0.9429 - val_loss: 0.0747 - val_acc: 0.9778\n",
      "Epoch 70/100\n",
      "105/105 [==============================] - 0s 1ms/step - loss: 0.1288 - acc: 0.9524 - val_loss: 0.1351 - val_acc: 0.9333\n",
      "Epoch 71/100\n",
      "105/105 [==============================] - 0s 1ms/step - loss: 0.1494 - acc: 0.9238 - val_loss: 0.0763 - val_acc: 0.9778\n",
      "Epoch 72/100\n",
      "105/105 [==============================] - 0s 1ms/step - loss: 0.1186 - acc: 0.9429 - val_loss: 0.1347 - val_acc: 0.9333\n",
      "Epoch 73/100\n",
      "105/105 [==============================] - 0s 1ms/step - loss: 0.1360 - acc: 0.9714 - val_loss: 0.2009 - val_acc: 0.9111\n",
      "Epoch 74/100\n",
      "105/105 [==============================] - 0s 1ms/step - loss: 0.1464 - acc: 0.9333 - val_loss: 0.0700 - val_acc: 0.9778\n",
      "Epoch 75/100\n",
      "105/105 [==============================] - 0s 1ms/step - loss: 0.1309 - acc: 0.9429 - val_loss: 0.2020 - val_acc: 0.9111\n",
      "Epoch 76/100\n",
      "105/105 [==============================] - 0s 1ms/step - loss: 0.1400 - acc: 0.9333 - val_loss: 0.1229 - val_acc: 0.9333\n",
      "Epoch 77/100\n",
      "105/105 [==============================] - 0s 1ms/step - loss: 0.1344 - acc: 0.9333 - val_loss: 0.0764 - val_acc: 0.9778\n",
      "Epoch 78/100\n",
      "105/105 [==============================] - 0s 1ms/step - loss: 0.0923 - acc: 0.9810 - val_loss: 0.1126 - val_acc: 0.9556\n",
      "Epoch 79/100\n",
      "105/105 [==============================] - 0s 1ms/step - loss: 0.1183 - acc: 0.9714 - val_loss: 0.1951 - val_acc: 0.9111\n",
      "Epoch 80/100\n",
      "105/105 [==============================] - 0s 1ms/step - loss: 0.1241 - acc: 0.9524 - val_loss: 0.0775 - val_acc: 0.9778\n",
      "Epoch 81/100\n",
      "105/105 [==============================] - 0s 1ms/step - loss: 0.1012 - acc: 0.9810 - val_loss: 0.1519 - val_acc: 0.9333\n",
      "Epoch 82/100\n",
      "105/105 [==============================] - 0s 1ms/step - loss: 0.1412 - acc: 0.9333 - val_loss: 0.0610 - val_acc: 1.0000\n",
      "Epoch 83/100\n",
      "105/105 [==============================] - 0s 2ms/step - loss: 0.1116 - acc: 0.9524 - val_loss: 0.1114 - val_acc: 0.9556\n",
      "Epoch 84/100\n",
      "105/105 [==============================] - 0s 1ms/step - loss: 0.1291 - acc: 0.9429 - val_loss: 0.1105 - val_acc: 0.9556\n",
      "Epoch 85/100\n",
      "105/105 [==============================] - 0s 1ms/step - loss: 0.1342 - acc: 0.9429 - val_loss: 0.1398 - val_acc: 0.9333\n",
      "Epoch 86/100\n",
      "105/105 [==============================] - 0s 1ms/step - loss: 0.1172 - acc: 0.9619 - val_loss: 0.0600 - val_acc: 1.0000\n",
      "Epoch 87/100\n",
      "105/105 [==============================] - 0s 1ms/step - loss: 0.1131 - acc: 0.9619 - val_loss: 0.2475 - val_acc: 0.8667\n",
      "Epoch 88/100\n",
      "105/105 [==============================] - 0s 2ms/step - loss: 0.1333 - acc: 0.9333 - val_loss: 0.0656 - val_acc: 1.0000\n",
      "Epoch 89/100\n",
      "105/105 [==============================] - 0s 1ms/step - loss: 0.1303 - acc: 0.9524 - val_loss: 0.1501 - val_acc: 0.9333\n",
      "Epoch 90/100\n",
      "105/105 [==============================] - 0s 1ms/step - loss: 0.1255 - acc: 0.9333 - val_loss: 0.1058 - val_acc: 0.9556\n",
      "Epoch 91/100\n",
      "105/105 [==============================] - 0s 1ms/step - loss: 0.0830 - acc: 0.9619 - val_loss: 0.0578 - val_acc: 1.0000\n",
      "Epoch 92/100\n",
      "105/105 [==============================] - 0s 1ms/step - loss: 0.1242 - acc: 0.9429 - val_loss: 0.0559 - val_acc: 1.0000\n",
      "Epoch 93/100\n",
      "105/105 [==============================] - 0s 1ms/step - loss: 0.1222 - acc: 0.9524 - val_loss: 0.0754 - val_acc: 0.9778\n",
      "Epoch 94/100\n",
      "105/105 [==============================] - 0s 1ms/step - loss: 0.1356 - acc: 0.9524 - val_loss: 0.0992 - val_acc: 0.9556\n",
      "Epoch 95/100\n",
      "105/105 [==============================] - 0s 1ms/step - loss: 0.0902 - acc: 0.9619 - val_loss: 0.0681 - val_acc: 0.9778\n",
      "Epoch 96/100\n",
      "105/105 [==============================] - 0s 1ms/step - loss: 0.1221 - acc: 0.9619 - val_loss: 0.0811 - val_acc: 0.9778\n",
      "Epoch 97/100\n",
      "105/105 [==============================] - 0s 1ms/step - loss: 0.1025 - acc: 0.9524 - val_loss: 0.1213 - val_acc: 0.9333\n",
      "Epoch 98/100\n",
      "105/105 [==============================] - 0s 1ms/step - loss: 0.1173 - acc: 0.9524 - val_loss: 0.1800 - val_acc: 0.9111\n",
      "Epoch 99/100\n",
      "105/105 [==============================] - 0s 1ms/step - loss: 0.1459 - acc: 0.9333 - val_loss: 0.0949 - val_acc: 0.9556\n",
      "Epoch 100/100\n",
      "105/105 [==============================] - 0s 1ms/step - loss: 0.1116 - acc: 0.9429 - val_loss: 0.1184 - val_acc: 0.9333\n"
     ]
    },
    {
     "data": {
      "text/plain": [
       "<keras.callbacks.History at 0x24e1f16b780>"
      ]
     },
     "execution_count": 55,
     "metadata": {},
     "output_type": "execute_result"
    }
   ],
   "source": [
    "model.fit(X_train,y_train, validation_data=(X_test, y_test),epochs=100,batch_size=1)"
   ]
  },
  {
   "cell_type": "markdown",
   "metadata": {
    "colab_type": "text",
    "id": "y-SgSSdRcih5"
   },
   "source": [
    "### Model Prediction"
   ]
  },
  {
   "cell_type": "code",
   "execution_count": 56,
   "metadata": {
    "colab": {},
    "colab_type": "code",
    "id": "GBgKZkhkcih6"
   },
   "outputs": [
    {
     "data": {
      "text/plain": [
       "array([0, 1, 1, 0, 2, 1, 2, 0, 0, 2, 1, 0, 2, 1, 1, 0, 1, 2, 0, 0, 1, 2,\n",
       "       2, 0, 2, 1, 0, 0, 1, 2, 1, 2, 1, 2, 2, 0, 1, 0, 1, 2, 2, 0, 2, 2,\n",
       "       1], dtype=int64)"
      ]
     },
     "execution_count": 56,
     "metadata": {},
     "output_type": "execute_result"
    }
   ],
   "source": [
    "# predict the model\n",
    "y_predict=model.predict_classes(X_test)\n",
    "y_predict"
   ]
  },
  {
   "cell_type": "markdown",
   "metadata": {
    "colab_type": "text",
    "id": "P32ASP1Vjt0a"
   },
   "source": [
    "### Save the Model"
   ]
  },
  {
   "cell_type": "code",
   "execution_count": 57,
   "metadata": {
    "colab": {},
    "colab_type": "code",
    "id": "n8rd0jjAjyTR"
   },
   "outputs": [],
   "source": [
    "model.save('iris.h5')"
   ]
  },
  {
   "cell_type": "markdown",
   "metadata": {
    "colab_type": "text",
    "id": "XiipRpe7rbVh"
   },
   "source": [
    "### Build and Train a Deep Neural network with 2 hidden layer  - Optional - For Practice\n",
    "\n",
    "Does it perform better than Linear Classifier? What could be the reason for difference in performance?"
   ]
  },
  {
   "cell_type": "code",
   "execution_count": 58,
   "metadata": {
    "colab": {},
    "colab_type": "code",
    "id": "v5Du3lubr4sA"
   },
   "outputs": [],
   "source": [
    "model = Sequential()"
   ]
  },
  {
   "cell_type": "code",
   "execution_count": 59,
   "metadata": {},
   "outputs": [],
   "source": [
    "model.add(Dense(64,input_dim=4, activation='relu'))\n",
    "model.add(Dense(32, activation='relu'))\n",
    "model.add(Dense(32, activation='relu'))\n",
    "model.add(Dense(3, activation='softmax'))"
   ]
  },
  {
   "cell_type": "code",
   "execution_count": 60,
   "metadata": {},
   "outputs": [],
   "source": [
    "# comile the model\n",
    "model.compile(loss='categorical_crossentropy', optimizer='sgd', metrics=['accuracy'])"
   ]
  },
  {
   "cell_type": "code",
   "execution_count": 61,
   "metadata": {},
   "outputs": [
    {
     "name": "stdout",
     "output_type": "stream",
     "text": [
      "Train on 105 samples, validate on 45 samples\n",
      "Epoch 1/100\n",
      "105/105 [==============================] - 1s 7ms/step - loss: 0.7274 - acc: 0.6571 - val_loss: 0.5663 - val_acc: 0.6000\n",
      "Epoch 2/100\n",
      "105/105 [==============================] - 0s 2ms/step - loss: 0.4461 - acc: 0.7619 - val_loss: 0.4695 - val_acc: 0.6222\n",
      "Epoch 3/100\n",
      "105/105 [==============================] - 0s 1ms/step - loss: 0.4216 - acc: 0.7333 - val_loss: 0.3740 - val_acc: 0.7556\n",
      "Epoch 4/100\n",
      "105/105 [==============================] - 0s 1ms/step - loss: 0.4179 - acc: 0.7810 - val_loss: 0.4611 - val_acc: 0.6222\n",
      "Epoch 5/100\n",
      "105/105 [==============================] - 0s 2ms/step - loss: 0.3642 - acc: 0.8286 - val_loss: 0.3471 - val_acc: 0.7556\n",
      "Epoch 6/100\n",
      "105/105 [==============================] - 0s 2ms/step - loss: 0.3390 - acc: 0.8286 - val_loss: 0.5493 - val_acc: 0.6222\n",
      "Epoch 7/100\n",
      "105/105 [==============================] - 0s 2ms/step - loss: 0.3274 - acc: 0.8381 - val_loss: 0.4615 - val_acc: 0.7111\n",
      "Epoch 8/100\n",
      "105/105 [==============================] - 0s 1ms/step - loss: 0.3013 - acc: 0.8667 - val_loss: 0.2868 - val_acc: 0.8222\n",
      "Epoch 9/100\n",
      "105/105 [==============================] - 0s 2ms/step - loss: 0.2660 - acc: 0.8857 - val_loss: 0.3970 - val_acc: 0.7556\n",
      "Epoch 10/100\n",
      "105/105 [==============================] - 0s 1ms/step - loss: 0.2388 - acc: 0.8952 - val_loss: 0.1449 - val_acc: 0.9778\n",
      "Epoch 11/100\n",
      "105/105 [==============================] - 0s 2ms/step - loss: 0.2512 - acc: 0.9048 - val_loss: 0.5872 - val_acc: 0.7111\n",
      "Epoch 12/100\n",
      "105/105 [==============================] - 0s 1ms/step - loss: 0.2754 - acc: 0.8667 - val_loss: 0.4216 - val_acc: 0.7778\n",
      "Epoch 13/100\n",
      "105/105 [==============================] - 0s 2ms/step - loss: 0.2527 - acc: 0.8952 - val_loss: 0.7233 - val_acc: 0.6667\n",
      "Epoch 14/100\n",
      "105/105 [==============================] - 0s 2ms/step - loss: 0.2571 - acc: 0.8857 - val_loss: 0.2542 - val_acc: 0.8889\n",
      "Epoch 15/100\n",
      "105/105 [==============================] - 0s 2ms/step - loss: 0.2287 - acc: 0.9238 - val_loss: 0.5220 - val_acc: 0.7556\n",
      "Epoch 16/100\n",
      "105/105 [==============================] - 0s 2ms/step - loss: 0.2339 - acc: 0.9238 - val_loss: 0.1863 - val_acc: 0.9111\n",
      "Epoch 17/100\n",
      "105/105 [==============================] - 0s 1ms/step - loss: 0.2483 - acc: 0.8762 - val_loss: 0.2795 - val_acc: 0.8889\n",
      "Epoch 18/100\n",
      "105/105 [==============================] - 0s 2ms/step - loss: 0.1488 - acc: 0.9619 - val_loss: 0.0862 - val_acc: 0.9778\n",
      "Epoch 19/100\n",
      "105/105 [==============================] - 0s 2ms/step - loss: 0.2050 - acc: 0.9429 - val_loss: 0.0890 - val_acc: 1.0000\n",
      "Epoch 20/100\n",
      "105/105 [==============================] - 0s 2ms/step - loss: 0.1784 - acc: 0.9429 - val_loss: 0.1488 - val_acc: 0.9333\n",
      "Epoch 21/100\n",
      "105/105 [==============================] - 0s 2ms/step - loss: 0.1873 - acc: 0.9429 - val_loss: 0.0835 - val_acc: 0.9778\n",
      "Epoch 22/100\n",
      "105/105 [==============================] - 0s 2ms/step - loss: 0.2218 - acc: 0.9333 - val_loss: 0.3507 - val_acc: 0.7556\n",
      "Epoch 23/100\n",
      "105/105 [==============================] - 0s 2ms/step - loss: 0.1459 - acc: 0.9333 - val_loss: 0.9711 - val_acc: 0.7111\n",
      "Epoch 24/100\n",
      "105/105 [==============================] - 0s 2ms/step - loss: 0.1989 - acc: 0.9143 - val_loss: 0.1907 - val_acc: 0.9111\n",
      "Epoch 25/100\n",
      "105/105 [==============================] - 0s 2ms/step - loss: 0.1519 - acc: 0.9619 - val_loss: 0.1396 - val_acc: 0.9556\n",
      "Epoch 26/100\n",
      "105/105 [==============================] - 0s 2ms/step - loss: 0.1853 - acc: 0.9429 - val_loss: 0.1714 - val_acc: 0.9111\n",
      "Epoch 27/100\n",
      "105/105 [==============================] - 0s 2ms/step - loss: 0.1605 - acc: 0.9333 - val_loss: 0.1736 - val_acc: 0.9111\n",
      "Epoch 28/100\n",
      "105/105 [==============================] - 0s 2ms/step - loss: 0.1829 - acc: 0.9333 - val_loss: 0.0789 - val_acc: 0.9778\n",
      "Epoch 29/100\n",
      "105/105 [==============================] - 0s 2ms/step - loss: 0.1541 - acc: 0.9333 - val_loss: 0.0761 - val_acc: 0.9778\n",
      "Epoch 30/100\n",
      "105/105 [==============================] - 0s 2ms/step - loss: 0.1964 - acc: 0.9429 - val_loss: 0.3247 - val_acc: 0.8000\n",
      "Epoch 31/100\n",
      "105/105 [==============================] - 0s 2ms/step - loss: 0.1981 - acc: 0.9333 - val_loss: 0.2601 - val_acc: 0.8889\n",
      "Epoch 32/100\n",
      "105/105 [==============================] - 0s 2ms/step - loss: 0.1515 - acc: 0.9714 - val_loss: 0.1149 - val_acc: 0.9556\n",
      "Epoch 33/100\n",
      "105/105 [==============================] - 0s 2ms/step - loss: 0.1790 - acc: 0.9333 - val_loss: 0.5494 - val_acc: 0.7556\n",
      "Epoch 34/100\n",
      "105/105 [==============================] - 0s 2ms/step - loss: 0.1517 - acc: 0.9429 - val_loss: 0.2100 - val_acc: 0.9111\n",
      "Epoch 35/100\n",
      "105/105 [==============================] - 0s 2ms/step - loss: 0.2120 - acc: 0.9143 - val_loss: 0.3641 - val_acc: 0.7778\n",
      "Epoch 36/100\n",
      "105/105 [==============================] - 0s 2ms/step - loss: 0.1687 - acc: 0.9429 - val_loss: 0.3370 - val_acc: 0.7778\n",
      "Epoch 37/100\n",
      "105/105 [==============================] - 0s 2ms/step - loss: 0.1750 - acc: 0.9333 - val_loss: 0.1268 - val_acc: 0.9556\n",
      "Epoch 38/100\n",
      "105/105 [==============================] - 0s 2ms/step - loss: 0.0977 - acc: 0.9619 - val_loss: 0.8107 - val_acc: 0.7556\n",
      "Epoch 39/100\n",
      "105/105 [==============================] - 0s 2ms/step - loss: 0.1567 - acc: 0.9524 - val_loss: 0.2311 - val_acc: 0.9333\n",
      "Epoch 40/100\n",
      "105/105 [==============================] - 0s 2ms/step - loss: 0.1483 - acc: 0.9619 - val_loss: 0.2937 - val_acc: 0.8667\n",
      "Epoch 41/100\n",
      "105/105 [==============================] - 0s 2ms/step - loss: 0.1377 - acc: 0.9429 - val_loss: 0.1939 - val_acc: 0.9111\n",
      "Epoch 42/100\n",
      "105/105 [==============================] - 0s 2ms/step - loss: 0.1624 - acc: 0.9429 - val_loss: 0.3461 - val_acc: 0.7778\n",
      "Epoch 43/100\n",
      "105/105 [==============================] - 0s 2ms/step - loss: 0.1881 - acc: 0.9429 - val_loss: 0.0887 - val_acc: 1.0000\n",
      "Epoch 44/100\n",
      "105/105 [==============================] - 0s 2ms/step - loss: 0.1566 - acc: 0.9333 - val_loss: 0.1427 - val_acc: 0.9333\n",
      "Epoch 45/100\n",
      "105/105 [==============================] - 0s 1ms/step - loss: 0.1401 - acc: 0.9333 - val_loss: 0.3171 - val_acc: 0.8000\n",
      "Epoch 46/100\n",
      "105/105 [==============================] - 0s 2ms/step - loss: 0.1377 - acc: 0.9429 - val_loss: 0.0688 - val_acc: 0.9778\n",
      "Epoch 47/100\n",
      "105/105 [==============================] - 0s 1ms/step - loss: 0.1492 - acc: 0.9619 - val_loss: 0.1589 - val_acc: 0.9333\n",
      "Epoch 48/100\n",
      "105/105 [==============================] - 0s 2ms/step - loss: 0.1542 - acc: 0.9429 - val_loss: 0.0941 - val_acc: 0.9556\n",
      "Epoch 49/100\n",
      "105/105 [==============================] - 0s 2ms/step - loss: 0.1732 - acc: 0.9333 - val_loss: 0.1133 - val_acc: 0.9556\n",
      "Epoch 50/100\n",
      "105/105 [==============================] - 0s 2ms/step - loss: 0.1421 - acc: 0.9524 - val_loss: 0.0858 - val_acc: 1.0000\n",
      "Epoch 51/100\n",
      "105/105 [==============================] - 0s 2ms/step - loss: 0.1450 - acc: 0.9333 - val_loss: 0.0800 - val_acc: 0.9778\n",
      "Epoch 52/100\n",
      "105/105 [==============================] - 0s 2ms/step - loss: 0.1279 - acc: 0.9429 - val_loss: 0.1940 - val_acc: 0.9111\n",
      "Epoch 53/100\n",
      "105/105 [==============================] - 0s 2ms/step - loss: 0.1501 - acc: 0.9619 - val_loss: 0.0550 - val_acc: 1.0000\n",
      "Epoch 54/100\n",
      "105/105 [==============================] - 0s 2ms/step - loss: 0.1473 - acc: 0.9429 - val_loss: 0.1580 - val_acc: 0.9333\n",
      "Epoch 55/100\n",
      "105/105 [==============================] - 0s 2ms/step - loss: 0.1415 - acc: 0.9619 - val_loss: 0.1667 - val_acc: 0.9111\n",
      "Epoch 56/100\n",
      "105/105 [==============================] - 0s 1ms/step - loss: 0.1606 - acc: 0.9429 - val_loss: 0.0821 - val_acc: 0.9778\n",
      "Epoch 57/100\n",
      "105/105 [==============================] - 0s 1ms/step - loss: 0.1539 - acc: 0.9429 - val_loss: 0.1357 - val_acc: 0.9333\n",
      "Epoch 58/100\n",
      "105/105 [==============================] - 0s 2ms/step - loss: 0.0944 - acc: 0.9714 - val_loss: 0.0562 - val_acc: 1.0000\n",
      "Epoch 59/100\n",
      "105/105 [==============================] - 0s 1ms/step - loss: 0.1437 - acc: 0.9429 - val_loss: 0.0649 - val_acc: 1.0000\n",
      "Epoch 60/100\n",
      "105/105 [==============================] - 0s 1ms/step - loss: 0.1217 - acc: 0.9524 - val_loss: 0.1933 - val_acc: 0.9333\n",
      "Epoch 61/100\n",
      "105/105 [==============================] - 0s 2ms/step - loss: 0.1439 - acc: 0.9429 - val_loss: 0.1387 - val_acc: 0.9333\n"
     ]
    },
    {
     "name": "stdout",
     "output_type": "stream",
     "text": [
      "Epoch 62/100\n",
      "105/105 [==============================] - 0s 1ms/step - loss: 0.1549 - acc: 0.9429 - val_loss: 0.0868 - val_acc: 0.9778\n",
      "Epoch 63/100\n",
      "105/105 [==============================] - 0s 1ms/step - loss: 0.1252 - acc: 0.9714 - val_loss: 0.0568 - val_acc: 1.0000\n",
      "Epoch 64/100\n",
      "105/105 [==============================] - 0s 1ms/step - loss: 0.1328 - acc: 0.9524 - val_loss: 0.0698 - val_acc: 0.9778\n",
      "Epoch 65/100\n",
      "105/105 [==============================] - 0s 2ms/step - loss: 0.1350 - acc: 0.9524 - val_loss: 0.1403 - val_acc: 0.9333\n",
      "Epoch 66/100\n",
      "105/105 [==============================] - 0s 1ms/step - loss: 0.1271 - acc: 0.9714 - val_loss: 0.1812 - val_acc: 0.9111\n",
      "Epoch 67/100\n",
      "105/105 [==============================] - 0s 1ms/step - loss: 0.1193 - acc: 0.9619 - val_loss: 0.0852 - val_acc: 0.9778\n",
      "Epoch 68/100\n",
      "105/105 [==============================] - 0s 1ms/step - loss: 0.1396 - acc: 0.9524 - val_loss: 0.2597 - val_acc: 0.8889\n",
      "Epoch 69/100\n",
      "105/105 [==============================] - 0s 1ms/step - loss: 0.1271 - acc: 0.9524 - val_loss: 0.1567 - val_acc: 0.9111\n",
      "Epoch 70/100\n",
      "105/105 [==============================] - 0s 1ms/step - loss: 0.1394 - acc: 0.9619 - val_loss: 0.0650 - val_acc: 0.9778\n",
      "Epoch 71/100\n",
      "105/105 [==============================] - 0s 2ms/step - loss: 0.1639 - acc: 0.9333 - val_loss: 0.0789 - val_acc: 0.9778\n",
      "Epoch 72/100\n",
      "105/105 [==============================] - 0s 1ms/step - loss: 0.1535 - acc: 0.9429 - val_loss: 0.0899 - val_acc: 1.0000\n",
      "Epoch 73/100\n",
      "105/105 [==============================] - 0s 1ms/step - loss: 0.1421 - acc: 0.9429 - val_loss: 0.0743 - val_acc: 0.9778\n",
      "Epoch 74/100\n",
      "105/105 [==============================] - 0s 2ms/step - loss: 0.1518 - acc: 0.9429 - val_loss: 0.2162 - val_acc: 0.9111\n",
      "Epoch 75/100\n",
      "105/105 [==============================] - 0s 2ms/step - loss: 0.1151 - acc: 0.9524 - val_loss: 0.0901 - val_acc: 0.9556\n",
      "Epoch 76/100\n",
      "105/105 [==============================] - 0s 2ms/step - loss: 0.1307 - acc: 0.9524 - val_loss: 0.1097 - val_acc: 0.9556\n",
      "Epoch 77/100\n",
      "105/105 [==============================] - 0s 2ms/step - loss: 0.1420 - acc: 0.9429 - val_loss: 0.0804 - val_acc: 0.9778\n",
      "Epoch 78/100\n",
      "105/105 [==============================] - 0s 1ms/step - loss: 0.1445 - acc: 0.9143 - val_loss: 0.0987 - val_acc: 0.9556\n",
      "Epoch 79/100\n",
      "105/105 [==============================] - 0s 2ms/step - loss: 0.1274 - acc: 0.9524 - val_loss: 0.4379 - val_acc: 0.8222\n",
      "Epoch 80/100\n",
      "105/105 [==============================] - 0s 2ms/step - loss: 0.0970 - acc: 0.9714 - val_loss: 0.0875 - val_acc: 0.9556\n",
      "Epoch 81/100\n",
      "105/105 [==============================] - 0s 1ms/step - loss: 0.1401 - acc: 0.9333 - val_loss: 0.0811 - val_acc: 0.9778\n",
      "Epoch 82/100\n",
      "105/105 [==============================] - 0s 2ms/step - loss: 0.1113 - acc: 0.9333 - val_loss: 0.0991 - val_acc: 0.9556\n",
      "Epoch 83/100\n",
      "105/105 [==============================] - 0s 2ms/step - loss: 0.1328 - acc: 0.9524 - val_loss: 0.2927 - val_acc: 0.8444\n",
      "Epoch 84/100\n",
      "105/105 [==============================] - 0s 2ms/step - loss: 0.1418 - acc: 0.9429 - val_loss: 0.1210 - val_acc: 0.9333\n",
      "Epoch 85/100\n",
      "105/105 [==============================] - 0s 2ms/step - loss: 0.1109 - acc: 0.9714 - val_loss: 0.1875 - val_acc: 0.9111\n",
      "Epoch 86/100\n",
      "105/105 [==============================] - 0s 2ms/step - loss: 0.1103 - acc: 0.9619 - val_loss: 0.2739 - val_acc: 0.8444\n",
      "Epoch 87/100\n",
      "105/105 [==============================] - 0s 2ms/step - loss: 0.1305 - acc: 0.9429 - val_loss: 0.0756 - val_acc: 0.9778\n",
      "Epoch 88/100\n",
      "105/105 [==============================] - 0s 2ms/step - loss: 0.1036 - acc: 0.9714 - val_loss: 0.0537 - val_acc: 1.0000\n",
      "Epoch 89/100\n",
      "105/105 [==============================] - 0s 1ms/step - loss: 0.1386 - acc: 0.9619 - val_loss: 0.0972 - val_acc: 0.9556\n",
      "Epoch 90/100\n",
      "105/105 [==============================] - 0s 1ms/step - loss: 0.1484 - acc: 0.9238 - val_loss: 0.0869 - val_acc: 1.0000\n",
      "Epoch 91/100\n",
      "105/105 [==============================] - 0s 2ms/step - loss: 0.1108 - acc: 0.9714 - val_loss: 0.0958 - val_acc: 0.9556\n",
      "Epoch 92/100\n",
      "105/105 [==============================] - 0s 1ms/step - loss: 0.1092 - acc: 0.9524 - val_loss: 0.1716 - val_acc: 0.9111\n",
      "Epoch 93/100\n",
      "105/105 [==============================] - 0s 1ms/step - loss: 0.1096 - acc: 0.9524 - val_loss: 0.1098 - val_acc: 0.9333\n",
      "Epoch 94/100\n",
      "105/105 [==============================] - 0s 1ms/step - loss: 0.1250 - acc: 0.9619 - val_loss: 0.0586 - val_acc: 1.0000\n",
      "Epoch 95/100\n",
      "105/105 [==============================] - 0s 1ms/step - loss: 0.1384 - acc: 0.9429 - val_loss: 0.0845 - val_acc: 0.9778\n",
      "Epoch 96/100\n",
      "105/105 [==============================] - 0s 1ms/step - loss: 0.0890 - acc: 0.9524 - val_loss: 0.1626 - val_acc: 0.9111\n",
      "Epoch 97/100\n",
      "105/105 [==============================] - 0s 1ms/step - loss: 0.1227 - acc: 0.9524 - val_loss: 0.0597 - val_acc: 0.9778\n",
      "Epoch 98/100\n",
      "105/105 [==============================] - 0s 1ms/step - loss: 0.0720 - acc: 0.9714 - val_loss: 0.3775 - val_acc: 0.8444\n",
      "Epoch 99/100\n",
      "105/105 [==============================] - 0s 1ms/step - loss: 0.1308 - acc: 0.9619 - val_loss: 0.1518 - val_acc: 0.9111\n",
      "Epoch 100/100\n",
      "105/105 [==============================] - 0s 1ms/step - loss: 0.1141 - acc: 0.9619 - val_loss: 0.2057 - val_acc: 0.9111\n"
     ]
    },
    {
     "data": {
      "text/plain": [
       "<keras.callbacks.History at 0x24e214c94a8>"
      ]
     },
     "execution_count": 61,
     "metadata": {},
     "output_type": "execute_result"
    }
   ],
   "source": [
    "# fit the model\n",
    "model.fit(X_train,y_train, validation_data=(X_test, y_test),epochs=100,batch_size=1)"
   ]
  },
  {
   "cell_type": "code",
   "execution_count": 62,
   "metadata": {},
   "outputs": [
    {
     "data": {
      "text/plain": [
       "array([0, 1, 1, 0, 2, 1, 2, 0, 0, 2, 1, 0, 2, 1, 1, 0, 1, 2, 0, 0, 2, 2,\n",
       "       2, 0, 2, 1, 0, 0, 1, 2, 1, 2, 1, 2, 2, 0, 1, 0, 1, 2, 2, 0, 2, 2,\n",
       "       1], dtype=int64)"
      ]
     },
     "execution_count": 62,
     "metadata": {},
     "output_type": "execute_result"
    }
   ],
   "source": [
    "# predict the model\n",
    "y_predict=model.predict_classes(X_test)\n",
    "y_predict"
   ]
  },
  {
   "cell_type": "code",
   "execution_count": 63,
   "metadata": {},
   "outputs": [],
   "source": [
    "# by adding 2 hidden layer performance decreases.. \n",
    "# this might be due to overfitting and dataset might be linerally seperable and don't need hidden layer"
   ]
  }
 ],
 "metadata": {
  "colab": {
   "name": "3. R6_InternalLab_AIML_Share_Prices-Eager Execution.ipynb",
   "provenance": [],
   "version": "0.3.2"
  },
  "kernelspec": {
   "display_name": "Python 3",
   "language": "python",
   "name": "python3"
  },
  "language_info": {
   "codemirror_mode": {
    "name": "ipython",
    "version": 3
   },
   "file_extension": ".py",
   "mimetype": "text/x-python",
   "name": "python",
   "nbconvert_exporter": "python",
   "pygments_lexer": "ipython3",
   "version": "3.7.1"
  }
 },
 "nbformat": 4,
 "nbformat_minor": 1
}
