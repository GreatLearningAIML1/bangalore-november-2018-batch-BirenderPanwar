{
 "cells": [
  {
   "cell_type": "markdown",
   "metadata": {},
   "source": [
    "# Into to Neural Networks & Deel Learning Residency-7 Project-2 - SVHN"
   ]
  },
  {
   "cell_type": "markdown",
   "metadata": {},
   "source": [
    "Case Study Description: Steeet View House Number (SVHM)\n",
    "\n",
    "SVHM is a real-world image dataset for developing machine learning and object recognition algorithms with minimal requirements on data formatting but comes from a sginificantly harder, unsolved, real world problem(recognizing digits and numbers in natural scene images. SVHM is obtained from house numbers in Google Street View images\n",
    "\n",
    "The goal of this project is to take an image from SVHM dataset and determine what taht digit is. This is multiclass classification problem with 10 classes, one for each digit 0-9. Digit \"1\" has label 1, \"9\" has label 9 and \"0\" has label 10.\n",
    "\n",
    "Although there are 6,00,000 images in this dataset, we have extracted 60,000 images(42,000 training and 18,000 test images) to do this project. Data comes in a MNIST like format of 32-by-32 RGB images centered around a single digit (many of the images do contains some distractors at the sides)\n",
    "\n",
    "Dataset: SVHM_single_grey1.h5\n",
    "the data is subset of original dataset\n",
    "\n",
    "Project Objectives \n",
    "\n",
    "The objective of the project is to learn how to implement a simple image classification pipeline based on the k-Nearest Neighbour and a deep neural network. The goals of this assignment are as follows: \n",
    "\n",
    "1. Understand the basic Image Classification pipeline and the data-driven approach (train/predict stages) \n",
    "2. Data fetching and understand the train/val/test splits. \n",
    "3. Implement and apply an optimal k-Nearest Neighbor (kNN) classifier (7.5 points) \n",
    "4. Print the classification metric report (2.5 points) \n",
    "5. Implement and apply a deep neural network classifier including (feedforward neural network, RELU activations) (5 points) \n",
    "6. Understand and be able to implement (vectorized) backpropagation (cost stochastic gradient descent, cross entropy loss, cost functions) (2.5 points) \n",
    "7. Implement batch normalization for training the neural network (2.5 points)\n",
    "8. Understand the differences and trade-offs between traditional and NN classifiers with the help of classification metrics (5 points) \n"
   ]
  },
  {
   "cell_type": "code",
   "execution_count": 1,
   "metadata": {},
   "outputs": [
    {
     "name": "stderr",
     "output_type": "stream",
     "text": [
      "Using TensorFlow backend.\n"
     ]
    }
   ],
   "source": [
    "# import all necessary packages\n",
    "import warnings \n",
    "warnings.filterwarnings('ignore')\n",
    "\n",
    "import matplotlib.pyplot as plt\n",
    "%matplotlib inline\n",
    "\n",
    "import pandas as pd\n",
    "import numpy as np\n",
    "import seaborn as sns\n",
    "import h5py\n",
    "\n",
    "from scipy.stats import zscore\n",
    "from sklearn import metrics\n",
    "from sklearn.preprocessing import StandardScaler\n",
    "from sklearn.model_selection import StratifiedKFold\n",
    "\n",
    "from sklearn.model_selection import cross_val_score\n",
    "from sklearn.model_selection import KFold\n",
    "\n",
    "from sklearn.neighbors import KNeighborsClassifier\n",
    "\n",
    "import keras\n",
    "from keras.models import Sequential\n",
    "from keras.layers import Dense, Dropout, Flatten\n",
    "from keras.layers import Conv2D, MaxPooling2D\n",
    "from keras.callbacks import ModelCheckpoint, EarlyStopping\n",
    "from keras.losses import categorical_crossentropy\n",
    "\n",
    "from keras.callbacks import TensorBoard\n",
    "from time import time"
   ]
  },
  {
   "cell_type": "markdown",
   "metadata": {},
   "source": [
    "### 1. Understand the basic Image Classification pipeline and the data-driven approach (train/predict stages) \n"
   ]
  },
  {
   "cell_type": "markdown",
   "metadata": {},
   "source": [
    "### 2. Data fetching and understand the train/val/test splits."
   ]
  },
  {
   "cell_type": "code",
   "execution_count": 2,
   "metadata": {},
   "outputs": [],
   "source": [
    "# load the dataset\n",
    "file = h5py.File(\"SVHN_single_grey1.h5\")"
   ]
  },
  {
   "cell_type": "code",
   "execution_count": 3,
   "metadata": {},
   "outputs": [
    {
     "data": {
      "text/plain": [
       "['X_test', 'X_train', 'X_val', 'y_test', 'y_train', 'y_val']"
      ]
     },
     "execution_count": 3,
     "metadata": {},
     "output_type": "execute_result"
    }
   ],
   "source": [
    "list(file.keys())"
   ]
  },
  {
   "cell_type": "code",
   "execution_count": 4,
   "metadata": {},
   "outputs": [
    {
     "name": "stdout",
     "output_type": "stream",
     "text": [
      "X_train:  (42000, 32, 32)\n",
      "y_train:  (42000,)\n"
     ]
    }
   ],
   "source": [
    "# training data\n",
    "X_train = np.array(file[\"X_train\"])\n",
    "y_train = np.array(file[\"y_train\"])\n",
    "print(\"X_train: \",X_train.shape)\n",
    "print(\"y_train: \",y_train.shape)"
   ]
  },
  {
   "cell_type": "code",
   "execution_count": 5,
   "metadata": {},
   "outputs": [
    {
     "name": "stdout",
     "output_type": "stream",
     "text": [
      "X_test:  (18000, 32, 32)\n",
      "y_test:  (18000,)\n"
     ]
    }
   ],
   "source": [
    "# Testing data\n",
    "X_test = np.array(file[\"X_test\"])\n",
    "y_test = np.array(file[\"y_test\"])\n",
    "print(\"X_test: \",X_test.shape)\n",
    "print(\"y_test: \",y_test.shape)"
   ]
  },
  {
   "cell_type": "code",
   "execution_count": 6,
   "metadata": {},
   "outputs": [],
   "source": [
    "file.close()"
   ]
  },
  {
   "cell_type": "code",
   "execution_count": 7,
   "metadata": {},
   "outputs": [
    {
     "name": "stdout",
     "output_type": "stream",
     "text": [
      "(42000,)\n",
      "First 5 examples are:  [2 6 7 4 4]\n"
     ]
    }
   ],
   "source": [
    "print(y_train.shape)\n",
    "print('First 5 examples are: ', y_train[0:5])"
   ]
  },
  {
   "cell_type": "code",
   "execution_count": 8,
   "metadata": {},
   "outputs": [],
   "source": [
    "# dataset have 10 classes and each label is an integer between 1 and 10:\n",
    "num_classes = 10\n",
    "y_train_cat = keras.utils.to_categorical(y_train, num_classes=num_classes)\n",
    "y_test_cat = keras.utils.to_categorical(y_test, num_classes=num_classes)"
   ]
  },
  {
   "cell_type": "code",
   "execution_count": 9,
   "metadata": {},
   "outputs": [
    {
     "name": "stdout",
     "output_type": "stream",
     "text": [
      "(42000, 10)\n",
      "First 5 examples are:  [[0. 0. 1. 0. 0. 0. 0. 0. 0. 0.]\n",
      " [0. 0. 0. 0. 0. 0. 1. 0. 0. 0.]\n",
      " [0. 0. 0. 0. 0. 0. 0. 1. 0. 0.]\n",
      " [0. 0. 0. 0. 1. 0. 0. 0. 0. 0.]\n",
      " [0. 0. 0. 0. 1. 0. 0. 0. 0. 0.]]\n"
     ]
    }
   ],
   "source": [
    "print(y_train_cat.shape)\n",
    "print('First 5 examples are: ', y_train_cat[0:5])"
   ]
  },
  {
   "cell_type": "markdown",
   "metadata": {},
   "source": [
    "***Visualize the data***: Plot first 10 images in the triaining set and their labels."
   ]
  },
  {
   "cell_type": "code",
   "execution_count": 10,
   "metadata": {},
   "outputs": [],
   "source": [
    "# This is multiclass classification problem with 10 classes, one for each digit 0-9. \n",
    "class_names = ['0', '1', '2', '3', '4', '5', '6', '7', '8', '9']"
   ]
  },
  {
   "cell_type": "code",
   "execution_count": 11,
   "metadata": {},
   "outputs": [
    {
     "data": {
      "image/png": "[encoded data removed]",
      "text/plain": [
       "<Figure size 864x864 with 10 Axes>"
      ]
     },
     "metadata": {},
     "output_type": "display_data"
    },
    {
     "name": "stdout",
     "output_type": "stream",
     "text": [
      "label for each of the above image: \n",
      " [2, 6, 7, 4, 4, 0, 3, 0, 7, 3]\n"
     ]
    }
   ],
   "source": [
    "labelCode = []\n",
    "plt.figure(figsize=(12,12))\n",
    "for i in range(10):\n",
    "    plt.subplot(1,10,i+1)\n",
    "    plt.xticks([])\n",
    "    plt.yticks([])\n",
    "    plt.grid(False)\n",
    "    #plt.imshow(X_train[i], cmap='Greys') \n",
    "    plt.imshow(X_train[i], cmap=plt.cm.binary)\n",
    "    label = np.where(y_train_cat[i] == 1)[0][0]\n",
    "    plt.xlabel(class_names[label])\n",
    "    labelCode.append(label)\n",
    "plt.show()\n",
    "\n",
    "print(\"label for each of the above image: \\n\", labelCode)"
   ]
  },
  {
   "cell_type": "markdown",
   "metadata": {},
   "source": [
    "**plotting how the classes are distributed**"
   ]
  },
  {
   "cell_type": "code",
   "execution_count": 238,
   "metadata": {},
   "outputs": [
    {
     "data": {
      "text/plain": [
       "<matplotlib.axes._subplots.AxesSubplot at 0x14408d8d2e8>"
      ]
     },
     "execution_count": 238,
     "metadata": {},
     "output_type": "execute_result"
    },
    {
     "data": {
      "image/png": "[encoded data removed]",
      "text/plain": [
       "<Figure size 432x288 with 1 Axes>"
      ]
     },
     "metadata": {
      "needs_background": "light"
     },
     "output_type": "display_data"
    }
   ],
   "source": [
    "#plotting how the classes are distributed\n",
    "sns.countplot(y_train)"
   ]
  },
  {
   "cell_type": "markdown",
   "metadata": {},
   "source": [
    "### 3. Implement and apply an optimal k-Nearest Neighbor (kNN) classifier (7.5 points) "
   ]
  },
  {
   "cell_type": "markdown",
   "metadata": {},
   "source": [
    "***Iteration-1: Build KNN model without data normalization***"
   ]
  },
  {
   "cell_type": "markdown",
   "metadata": {},
   "source": [
    "***Flat the input data***: Reshape train and test sets into shapes compatible with KNN model"
   ]
  },
  {
   "cell_type": "code",
   "execution_count": 12,
   "metadata": {},
   "outputs": [],
   "source": [
    "# input image dimensions\n",
    "img_rows, img_cols = X_train.shape[1], X_train.shape[2]"
   ]
  },
  {
   "cell_type": "code",
   "execution_count": 13,
   "metadata": {},
   "outputs": [],
   "source": [
    "# Flat the input data. image is of sise 32X32.. so flat each image to 1024\n",
    "X_train_flat = np.reshape(X_train,(X_train.shape[0], img_rows*img_cols))\n",
    "X_test_flat = np.reshape(X_test,(X_test.shape[0],img_rows*img_cols))"
   ]
  },
  {
   "cell_type": "code",
   "execution_count": 14,
   "metadata": {},
   "outputs": [
    {
     "name": "stdout",
     "output_type": "stream",
     "text": [
      "Train data Shape:  (42000, 1024)\n",
      "Test data Shape:  (18000, 1024)\n"
     ]
    }
   ],
   "source": [
    "# input size\n",
    "print(\"Train data Shape: \",X_train_flat.shape)\n",
    "print(\"Test data Shape: \",X_test_flat.shape)"
   ]
  },
  {
   "cell_type": "markdown",
   "metadata": {},
   "source": [
    "***Build and train using KNN clasifier***"
   ]
  },
  {
   "cell_type": "code",
   "execution_count": 15,
   "metadata": {},
   "outputs": [
    {
     "data": {
      "text/plain": [
       "KNeighborsClassifier(algorithm='auto', leaf_size=30, metric='minkowski',\n",
       "           metric_params=None, n_jobs=None, n_neighbors=5, p=2,\n",
       "           weights='uniform')"
      ]
     },
     "execution_count": 15,
     "metadata": {},
     "output_type": "execute_result"
    }
   ],
   "source": [
    "# Call Nearest Neighbour algorithm\n",
    "knn_model1 = KNeighborsClassifier(n_neighbors=5)\n",
    "knn_model1.fit(X_train_flat, y_train)"
   ]
  },
  {
   "cell_type": "markdown",
   "metadata": {},
   "source": [
    "**Predict test data and get accuracy score and confusion matrix**"
   ]
  },
  {
   "cell_type": "code",
   "execution_count": 16,
   "metadata": {},
   "outputs": [
    {
     "name": "stdout",
     "output_type": "stream",
     "text": [
      "\n",
      "KNN Test accuracy: 49.02\n"
     ]
    }
   ],
   "source": [
    "y_predict = knn_model1.predict(X_test_flat) # For every test data point, predict it's outcome\n",
    "knn_test_acc1 = metrics.accuracy_score(y_test, y_predict) # get the accuracy score \n",
    "print('\\nKNN Test accuracy: %0.2f' %(knn_test_acc1*100))"
   ]
  },
  {
   "cell_type": "code",
   "execution_count": 23,
   "metadata": {},
   "outputs": [
    {
     "name": "stdout",
     "output_type": "stream",
     "text": [
      "Confusion matrix:\n",
      " [[1201   60   44   37   45   45  129   31  109  113]\n",
      " [ 125 1285   83   81   84   36   36   58   18   22]\n",
      " [ 126  252  932  115   44   44   28  128   69   65]\n",
      " [ 164  255  166  677   54  157   36   46   92   72]\n",
      " [ 148  256   47   61 1101   30   64   17   48   40]\n",
      " [ 196  179   91  261   43  637  130   31  114   86]\n",
      " [ 370  120   50   70  116  154  695   16  188   53]\n",
      " [ 135  254  138   78   23   26   26 1045   28   55]\n",
      " [ 330  140   71  118   84  109  256   20  592   92]\n",
      " [ 382  145   83  106   51   89   86   61  143  658]]\n"
     ]
    }
   ],
   "source": [
    "knn_cm1 = metrics.confusion_matrix(y_test, y_predict)\n",
    "print(\"Confusion matrix:\\n\", knn_cm1)"
   ]
  },
  {
   "cell_type": "code",
   "execution_count": 24,
   "metadata": {},
   "outputs": [
    {
     "name": "stdout",
     "output_type": "stream",
     "text": [
      "Classification Report: \n",
      "\n",
      "               precision    recall  f1-score   support\n",
      "\n",
      "           0       0.38      0.66      0.48      1814\n",
      "           1       0.44      0.70      0.54      1828\n",
      "           2       0.55      0.52      0.53      1803\n",
      "           3       0.42      0.39      0.41      1719\n",
      "           4       0.67      0.61      0.64      1812\n",
      "           5       0.48      0.36      0.41      1768\n",
      "           6       0.47      0.38      0.42      1832\n",
      "           7       0.72      0.58      0.64      1808\n",
      "           8       0.42      0.33      0.37      1812\n",
      "           9       0.52      0.36      0.43      1804\n",
      "\n",
      "   micro avg       0.49      0.49      0.49     18000\n",
      "   macro avg       0.51      0.49      0.49     18000\n",
      "weighted avg       0.51      0.49      0.49     18000\n",
      "\n"
     ]
    }
   ],
   "source": [
    "knn_cr1 = metrics.classification_report(y_test,y_predict)\n",
    "print(\"Classification Report: \\n\\n\", knn_cr1)"
   ]
  },
  {
   "cell_type": "markdown",
   "metadata": {},
   "source": [
    "***Iteration-2: Build KNN model with data normalization***"
   ]
  },
  {
   "cell_type": "code",
   "execution_count": 25,
   "metadata": {},
   "outputs": [
    {
     "name": "stdout",
     "output_type": "stream",
     "text": [
      "Train data Shape:  (42000, 1024)\n",
      "Test data Shape:  (18000, 1024)\n"
     ]
    }
   ],
   "source": [
    "X_train_flat = X_train_flat.astype('float32')\n",
    "X_test_flat = X_test_flat.astype('float32')\n",
    "\n",
    "# # normalize inputs from 0-255 to 0-1\n",
    "X_train_flat_std = X_train_flat / 255.0\n",
    "X_test_flat_std = X_test_flat / 255.0\n",
    "\n",
    "print(\"Train data Shape: \",X_train_flat_std.shape)\n",
    "print(\"Test data Shape: \",X_test_flat_std.shape)"
   ]
  },
  {
   "cell_type": "code",
   "execution_count": 26,
   "metadata": {},
   "outputs": [
    {
     "data": {
      "text/plain": [
       "KNeighborsClassifier(algorithm='auto', leaf_size=30, metric='minkowski',\n",
       "           metric_params=None, n_jobs=None, n_neighbors=5, p=2,\n",
       "           weights='uniform')"
      ]
     },
     "execution_count": 26,
     "metadata": {},
     "output_type": "execute_result"
    }
   ],
   "source": [
    "# Call Nearest Neighbour algorithm\n",
    "knn_model2 = KNeighborsClassifier(n_neighbors=5)\n",
    "knn_model2.fit(X_train_flat_std, y_train)"
   ]
  },
  {
   "cell_type": "code",
   "execution_count": 27,
   "metadata": {},
   "outputs": [
    {
     "name": "stdout",
     "output_type": "stream",
     "text": [
      "\n",
      "KNN Test accuracy[Post normalizatio]: 49.02\n"
     ]
    }
   ],
   "source": [
    "y_predict = knn_model2.predict(X_test_flat_std) # For every test data point, predict it's outcome\n",
    "knn_test_acc2 = metrics.accuracy_score(y_test, y_predict) # get the accuracy score \n",
    "print('\\nKNN Test accuracy[Post normalization]: %0.2f' %(knn_test_acc2*100))"
   ]
  },
  {
   "cell_type": "code",
   "execution_count": 28,
   "metadata": {},
   "outputs": [
    {
     "name": "stdout",
     "output_type": "stream",
     "text": [
      "Confusion matrix: [[1201   60   44   37   45   45  129   31  109  113]\n",
      " [ 125 1285   83   81   84   36   36   58   18   22]\n",
      " [ 126  252  932  115   44   44   28  128   69   65]\n",
      " [ 164  255  166  677   54  157   36   46   92   72]\n",
      " [ 148  256   47   61 1101   30   64   17   48   40]\n",
      " [ 196  179   91  261   43  637  130   31  114   86]\n",
      " [ 370  120   50   70  116  154  695   16  188   53]\n",
      " [ 135  254  138   78   23   26   26 1045   28   55]\n",
      " [ 330  140   71  118   84  109  256   20  592   92]\n",
      " [ 382  145   83  106   51   89   86   61  143  658]]\n"
     ]
    }
   ],
   "source": [
    "knn_cm2 = metrics.confusion_matrix(y_test, y_predict)\n",
    "print(\"Confusion matrix:\", knn_cm2)"
   ]
  },
  {
   "cell_type": "markdown",
   "metadata": {},
   "source": [
    "### 4. Print the classification metric report (2.5 points) "
   ]
  },
  {
   "cell_type": "code",
   "execution_count": 29,
   "metadata": {},
   "outputs": [
    {
     "name": "stdout",
     "output_type": "stream",
     "text": [
      "Classification Report: \n",
      "\n",
      "               precision    recall  f1-score   support\n",
      "\n",
      "           0       0.38      0.66      0.48      1814\n",
      "           1       0.44      0.70      0.54      1828\n",
      "           2       0.55      0.52      0.53      1803\n",
      "           3       0.42      0.39      0.41      1719\n",
      "           4       0.67      0.61      0.64      1812\n",
      "           5       0.48      0.36      0.41      1768\n",
      "           6       0.47      0.38      0.42      1832\n",
      "           7       0.72      0.58      0.64      1808\n",
      "           8       0.42      0.33      0.37      1812\n",
      "           9       0.52      0.36      0.43      1804\n",
      "\n",
      "   micro avg       0.49      0.49      0.49     18000\n",
      "   macro avg       0.51      0.49      0.49     18000\n",
      "weighted avg       0.51      0.49      0.49     18000\n",
      "\n"
     ]
    }
   ],
   "source": [
    "cr = metrics.classification_report(y_test,y_predict)\n",
    "print(\"Classification Report: \\n\\n\", cr)"
   ]
  },
  {
   "cell_type": "markdown",
   "metadata": {},
   "source": [
    "### 5. Implement and apply a deep neural network classifier including (feedforward neural network, RELU activations) (5 points) "
   ]
  },
  {
   "cell_type": "markdown",
   "metadata": {},
   "source": [
    "**In feed forward neural network, the information moves in only one direction, forward, from the input nodes, through the hidden nodes (if any) and to the output nodes. There are no cycles or loops in the network**"
   ]
  },
  {
   "cell_type": "code",
   "execution_count": 176,
   "metadata": {},
   "outputs": [],
   "source": [
    "# input image dimensions\n",
    "img_rows, img_cols = X_train.shape[1], X_train.shape[2]\n",
    "\n",
    "#Keras expects data to be in the format (N_E.N_H,N_W,N_C)\n",
    "#N_E = Number of Examples, N_H = height, N_W = Width, N_C = Number of Channels.\n",
    "x_train = X_train.reshape(X_train.shape[0], img_rows, img_cols, 1)\n",
    "x_test = X_test.reshape(X_test.shape[0], img_rows, img_cols, 1)\n",
    "input_shape = (img_rows, img_cols, 1)"
   ]
  },
  {
   "cell_type": "code",
   "execution_count": 177,
   "metadata": {},
   "outputs": [
    {
     "name": "stdout",
     "output_type": "stream",
     "text": [
      "Input Dimension: 32 x 32\n"
     ]
    }
   ],
   "source": [
    "# input size\n",
    "print(\"Input Dimension: %d x %d\" %(x_train.shape[1],x_train.shape[2]))"
   ]
  },
  {
   "cell_type": "code",
   "execution_count": 178,
   "metadata": {},
   "outputs": [
    {
     "name": "stdout",
     "output_type": "stream",
     "text": [
      "Output Dimension: 10\n"
     ]
    }
   ],
   "source": [
    "# Output size\n",
    "print(\"Output Dimension: %d\" %(y_train_cat.shape[1]))"
   ]
  },
  {
   "cell_type": "markdown",
   "metadata": {},
   "source": [
    "***Initialize model***"
   ]
  },
  {
   "cell_type": "code",
   "execution_count": 179,
   "metadata": {},
   "outputs": [],
   "source": [
    "#Initialize Sequential model\n",
    "dnn_model1 = keras.models.Sequential()\n",
    "\n",
    "#Reshape data from 2D to 1D -> 32x32 to 1024\n",
    "dnn_model1.add(keras.layers.Reshape((img_rows*img_cols,),input_shape=input_shape))\n",
    "\n",
    "#Hidden layers\n",
    "dnn_model1.add(keras.layers.Dense(6, activation='relu', name='Layer_1'))\n",
    "dnn_model1.add(keras.layers.Dense(6, activation='relu', name='Layer_2'))\n",
    "dnn_model1.add(keras.layers.Dense(6, activation='relu', name='Layer_3'))\n",
    "\n",
    "# Output layer\n",
    "#Add Dense Layer with 10 neurons as we have 10 classes after applying softmax\n",
    "# Keras declares weights and bias automatically\n",
    "dnn_model1.add(keras.layers.Dense(num_classes, activation='softmax'))"
   ]
  },
  {
   "cell_type": "markdown",
   "metadata": {},
   "source": [
    "***Compile model***"
   ]
  },
  {
   "cell_type": "code",
   "execution_count": 180,
   "metadata": {},
   "outputs": [],
   "source": [
    "#compile the model --> backpropagation -> gradient descent\n",
    "#optimizer = algorithm to find the optimal set of weights in ANN\n",
    "#loss = functions that should be optimized.\n",
    "#metrics = criterion used to calculate the performance of the model.\n",
    "dnn_model1.compile(optimizer='adam', loss='categorical_crossentropy', metrics=['accuracy'])"
   ]
  },
  {
   "cell_type": "markdown",
   "metadata": {},
   "source": [
    "***Review Model***"
   ]
  },
  {
   "cell_type": "code",
   "execution_count": 181,
   "metadata": {},
   "outputs": [
    {
     "name": "stdout",
     "output_type": "stream",
     "text": [
      "_________________________________________________________________\n",
      "Layer (type)                 Output Shape              Param #   \n",
      "=================================================================\n",
      "reshape_11 (Reshape)         (None, 1024)              0         \n",
      "_________________________________________________________________\n",
      "Layer_1 (Dense)              (None, 6)                 6150      \n",
      "_________________________________________________________________\n",
      "Layer_2 (Dense)              (None, 6)                 42        \n",
      "_________________________________________________________________\n",
      "Layer_3 (Dense)              (None, 6)                 42        \n",
      "_________________________________________________________________\n",
      "dense_11 (Dense)             (None, 10)                70        \n",
      "=================================================================\n",
      "Total params: 6,304\n",
      "Trainable params: 6,304\n",
      "Non-trainable params: 0\n",
      "_________________________________________________________________\n"
     ]
    }
   ],
   "source": [
    "dnn_model1.summary()"
   ]
  },
  {
   "cell_type": "markdown",
   "metadata": {},
   "source": [
    "***Execute model***"
   ]
  },
  {
   "cell_type": "code",
   "execution_count": 182,
   "metadata": {},
   "outputs": [
    {
     "name": "stdout",
     "output_type": "stream",
     "text": [
      "Train on 42000 samples, validate on 18000 samples\n",
      "Epoch 1/5\n",
      "42000/42000 [==============================] - 6s 154us/step - loss: 2.3102 - acc: 0.0983 - val_loss: 2.3028 - val_acc: 0.0955\n",
      "Epoch 2/5\n",
      "42000/42000 [==============================] - 4s 105us/step - loss: 2.3027 - acc: 0.1005 - val_loss: 2.3029 - val_acc: 0.0982\n",
      "Epoch 3/5\n",
      "42000/42000 [==============================] - 4s 104us/step - loss: 2.3027 - acc: 0.1006 - val_loss: 2.3029 - val_acc: 0.0982\n",
      "Epoch 4/5\n",
      "42000/42000 [==============================] - 5s 109us/step - loss: 2.3028 - acc: 0.1003 - val_loss: 2.3028 - val_acc: 0.0955\n",
      "Epoch 5/5\n",
      "42000/42000 [==============================] - 4s 106us/step - loss: 2.3028 - acc: 0.1013 - val_loss: 2.3028 - val_acc: 0.0955\n"
     ]
    }
   ],
   "source": [
    "# Execute the model\n",
    "#batch_size = the number of observations after which you want to update the weights\n",
    "#           batch size and epochs should be tuned through experiments.\n",
    "#epoch = going through the whole dataset\n",
    "history = dnn_model1.fit(x_train, y_train_cat, # feature and target vector\n",
    "          validation_data=(x_test, y_test_cat), # data for evaluation\n",
    "          epochs=5,\n",
    "          batch_size=32, # Number of observations per batch\n",
    "          verbose=1)     # Print description after each epoch"
   ]
  },
  {
   "cell_type": "code",
   "execution_count": 242,
   "metadata": {},
   "outputs": [
    {
     "name": "stdout",
     "output_type": "stream",
     "text": [
      "18000/18000 [==============================] - 1s 53us/step\n",
      "\n",
      "DNN Test accuracy [loss=adam and without Batch Normalization]: 9.55\n"
     ]
    }
   ],
   "source": [
    "dnn_model1_test_loss, dnn_model1_test_acc = dnn_model1.evaluate(x_test, y_test_cat)\n",
    "print('\\nDNN Test accuracy [loss=adam and without Batch Normalization]: %0.2f' %(dnn_model1_test_acc*100))"
   ]
  },
  {
   "cell_type": "markdown",
   "metadata": {},
   "source": [
    "***Print the Accuracy score and confusion matrix***"
   ]
  },
  {
   "cell_type": "code",
   "execution_count": 184,
   "metadata": {},
   "outputs": [],
   "source": [
    "# predict the model\n",
    "y_predict1 = dnn_model1.predict(x_test)"
   ]
  },
  {
   "cell_type": "code",
   "execution_count": 185,
   "metadata": {},
   "outputs": [],
   "source": [
    "# utiliy fxn to get y_predict in 1D\n",
    "# y_predict is array of 10 classes for each cases.. let form the new data which give label value in 1D.. \n",
    "# this is required for classification matrix.. cm expect 1D array\n",
    "def get1D_y_predict(y_pred):\n",
    "    result = []\n",
    "    for i in range(len(y_pred)):\n",
    "        result.append(np.where(y_pred[i] == np.max(y_pred[i]))[0][0])\n",
    "    return result    "
   ]
  },
  {
   "cell_type": "code",
   "execution_count": 186,
   "metadata": {},
   "outputs": [],
   "source": [
    "y_predict1D_1 = get1D_y_predict(y_predict1)"
   ]
  },
  {
   "cell_type": "code",
   "execution_count": 187,
   "metadata": {},
   "outputs": [
    {
     "data": {
      "text/plain": [
       "0.0955"
      ]
     },
     "execution_count": 187,
     "metadata": {},
     "output_type": "execute_result"
    }
   ],
   "source": [
    "metrics.accuracy_score(y_test,y_predict1D_1)"
   ]
  },
  {
   "cell_type": "code",
   "execution_count": 188,
   "metadata": {},
   "outputs": [
    {
     "name": "stdout",
     "output_type": "stream",
     "text": [
      "Classification Report: \n",
      "\n",
      "               precision    recall  f1-score   support\n",
      "\n",
      "           0       0.00      0.00      0.00      1814\n",
      "           1       0.00      0.00      0.00      1828\n",
      "           2       0.00      0.00      0.00      1803\n",
      "           3       0.10      1.00      0.17      1719\n",
      "           4       0.00      0.00      0.00      1812\n",
      "           5       0.00      0.00      0.00      1768\n",
      "           6       0.00      0.00      0.00      1832\n",
      "           7       0.00      0.00      0.00      1808\n",
      "           8       0.00      0.00      0.00      1812\n",
      "           9       0.00      0.00      0.00      1804\n",
      "\n",
      "   micro avg       0.10      0.10      0.10     18000\n",
      "   macro avg       0.01      0.10      0.02     18000\n",
      "weighted avg       0.01      0.10      0.02     18000\n",
      "\n"
     ]
    },
    {
     "name": "stderr",
     "output_type": "stream",
     "text": [
      "C:\\Users\\birender.panwar\\AppData\\Local\\conda\\conda\\envs\\glbase\\lib\\site-packages\\sklearn\\metrics\\classification.py:1143: UndefinedMetricWarning: Precision and F-score are ill-defined and being set to 0.0 in labels with no predicted samples.\n",
      "  'precision', 'predicted', average, warn_for)\n",
      "C:\\Users\\birender.panwar\\AppData\\Local\\conda\\conda\\envs\\glbase\\lib\\site-packages\\sklearn\\metrics\\classification.py:1143: UndefinedMetricWarning: Precision and F-score are ill-defined and being set to 0.0 in labels with no predicted samples.\n",
      "  'precision', 'predicted', average, warn_for)\n",
      "C:\\Users\\birender.panwar\\AppData\\Local\\conda\\conda\\envs\\glbase\\lib\\site-packages\\sklearn\\metrics\\classification.py:1143: UndefinedMetricWarning: Precision and F-score are ill-defined and being set to 0.0 in labels with no predicted samples.\n",
      "  'precision', 'predicted', average, warn_for)\n"
     ]
    }
   ],
   "source": [
    "cr = metrics.classification_report(y_test,y_predict1D_1)\n",
    "print(\"Classification Report: \\n\\n\", cr)"
   ]
  },
  {
   "cell_type": "markdown",
   "metadata": {},
   "source": [
    "### 6. Understand and be able to implement (vectorized) backpropagation (cost stochastic gradient descent, cross entropy loss, cost functions) (2.5 points) "
   ]
  },
  {
   "cell_type": "code",
   "execution_count": 189,
   "metadata": {},
   "outputs": [],
   "source": [
    "#Initialize Sequential model\n",
    "dnn_model2 = keras.models.Sequential()\n",
    "\n",
    "#Reshape data from 2D to 1D -> 32x32 to 1024\n",
    "dnn_model2.add(keras.layers.Reshape((img_rows*img_cols,),input_shape=input_shape))\n",
    "\n",
    "#Hidden layers\n",
    "dnn_model2.add(keras.layers.Dense(6, activation='relu', name='Layer_1'))\n",
    "dnn_model2.add(keras.layers.Dense(6, activation='relu', name='Layer_2'))\n",
    "dnn_model2.add(keras.layers.Dense(6, activation='relu', name='Layer_3'))\n",
    "\n",
    "# Output layer\n",
    "# Add Dense Layer with 10 neurons as we have 10 classes after applying softmax\n",
    "# Keras declares weights and bias automatically\n",
    "dnn_model2.add(keras.layers.Dense(num_classes, activation='softmax'))"
   ]
  },
  {
   "cell_type": "code",
   "execution_count": 190,
   "metadata": {},
   "outputs": [],
   "source": [
    "#To use SGD optimizer for learning weights with learning rate = 0.001\n",
    "# All parameter gradients will be clipped to\n",
    "# a maximum value of 0.5 and\n",
    "# a minimum value of -0.5.\n",
    "optimizer = keras.optimizers.SGD(lr=0.001, clipvalue=0.5)\n",
    "\n",
    "#compile the model --> backpropagation -> gradient descent\n",
    "#optimizer = algorithm to find the optimal set of weights in ANN\n",
    "#loss = functions that should be optimized.\n",
    "#metrics = criterion used to calculate the performance of the model.\n",
    "dnn_model2.compile(optimizer=\"sgd\", loss='categorical_crossentropy', metrics=['accuracy'])"
   ]
  },
  {
   "cell_type": "code",
   "execution_count": 191,
   "metadata": {},
   "outputs": [
    {
     "name": "stdout",
     "output_type": "stream",
     "text": [
      "Train on 42000 samples, validate on 18000 samples\n",
      "Epoch 1/5\n",
      "42000/42000 [==============================] - 6s 152us/step - loss: 2.3302 - acc: 0.1003 - val_loss: 2.3027 - val_acc: 0.0982\n",
      "Epoch 2/5\n",
      "42000/42000 [==============================] - 4s 101us/step - loss: 2.3027 - acc: 0.0991 - val_loss: 2.3027 - val_acc: 0.0955\n",
      "Epoch 3/5\n",
      "42000/42000 [==============================] - 4s 101us/step - loss: 2.3027 - acc: 0.1018 - val_loss: 2.3027 - val_acc: 0.0955\n",
      "Epoch 4/5\n",
      "42000/42000 [==============================] - 4s 102us/step - loss: 2.3027 - acc: 0.1015 - val_loss: 2.3027 - val_acc: 0.0955\n",
      "Epoch 5/5\n",
      "42000/42000 [==============================] - 4s 103us/step - loss: 2.3027 - acc: 0.1000 - val_loss: 2.3028 - val_acc: 0.0955\n"
     ]
    }
   ],
   "source": [
    "# Execute the model\n",
    "#batch_size = the number of observations after which you want to update the weights\n",
    "#           batch size and epochs should be tuned through experiments.\n",
    "#epoch = going through the whole dataset\n",
    "history = dnn_model2.fit(x_train, y_train_cat, \n",
    "          validation_data=(x_test, y_test_cat), \n",
    "          epochs=5,\n",
    "          batch_size=32)"
   ]
  },
  {
   "cell_type": "code",
   "execution_count": 193,
   "metadata": {},
   "outputs": [
    {
     "name": "stdout",
     "output_type": "stream",
     "text": [
      "18000/18000 [==============================] - 1s 36us/step\n",
      "\n",
      "DNN Test accuracy[Loss=SGD and without Batch Normalization]: 9.55\n"
     ]
    }
   ],
   "source": [
    "dnn_model2_test_loss, dnn_model2_test_acc = dnn_model2.evaluate(x_test, y_test_cat)\n",
    "print('\\nDNN Test accuracy[Loss=SGD and without Batch Normalization]: %0.2f' %(dnn_model2_test_acc*100))"
   ]
  },
  {
   "cell_type": "code",
   "execution_count": 194,
   "metadata": {},
   "outputs": [
    {
     "name": "stdout",
     "output_type": "stream",
     "text": [
      "dict_keys(['val_loss', 'val_acc', 'loss', 'acc'])\n"
     ]
    },
    {
     "data": {
      "image/png": "[encoded data removed]",
      "text/plain": [
       "<Figure size 432x288 with 1 Axes>"
      ]
     },
     "metadata": {
      "needs_background": "light"
     },
     "output_type": "display_data"
    },
    {
     "data": {
      "image/png": "[encoded data removed]",
      "text/plain": [
       "<Figure size 432x288 with 1 Axes>"
      ]
     },
     "metadata": {
      "needs_background": "light"
     },
     "output_type": "display_data"
    }
   ],
   "source": [
    "# list all data in history\n",
    "print(history.history.keys())\n",
    "# summarize history for accuracy\n",
    "plt.plot(history.history['acc'])\n",
    "plt.plot(history.history['val_acc'])\n",
    "plt.title('model accuracy')\n",
    "plt.ylabel('accuracy')\n",
    "plt.xlabel('epoch')\n",
    "plt.legend(['train', 'test'], loc='upper left')\n",
    "plt.show()\n",
    "\n",
    "# summarize history for loss\n",
    "plt.plot(history.history['loss'])\n",
    "plt.plot(history.history['val_loss'])\n",
    "plt.title('model loss')\n",
    "plt.ylabel('loss')\n",
    "plt.xlabel('epoch')\n",
    "plt.legend(['train', 'test'], loc='upper left')\n",
    "plt.show()"
   ]
  },
  {
   "cell_type": "code",
   "execution_count": 195,
   "metadata": {},
   "outputs": [],
   "source": [
    "# predict the model\n",
    "y_predict2 = dnn_model2.predict(x_test)\n",
    "y_predict1D_2 = get1D_y_predict(y_predict2)"
   ]
  },
  {
   "cell_type": "code",
   "execution_count": 196,
   "metadata": {},
   "outputs": [
    {
     "data": {
      "text/plain": [
       "0.0955"
      ]
     },
     "execution_count": 196,
     "metadata": {},
     "output_type": "execute_result"
    }
   ],
   "source": [
    "metrics.accuracy_score(y_test,y_predict1D_2)"
   ]
  },
  {
   "cell_type": "code",
   "execution_count": 197,
   "metadata": {},
   "outputs": [
    {
     "name": "stdout",
     "output_type": "stream",
     "text": [
      "Classification Report: \n",
      "\n",
      "               precision    recall  f1-score   support\n",
      "\n",
      "           0       0.00      0.00      0.00      1814\n",
      "           1       0.00      0.00      0.00      1828\n",
      "           2       0.00      0.00      0.00      1803\n",
      "           3       0.10      1.00      0.17      1719\n",
      "           4       0.00      0.00      0.00      1812\n",
      "           5       0.00      0.00      0.00      1768\n",
      "           6       0.00      0.00      0.00      1832\n",
      "           7       0.00      0.00      0.00      1808\n",
      "           8       0.00      0.00      0.00      1812\n",
      "           9       0.00      0.00      0.00      1804\n",
      "\n",
      "   micro avg       0.10      0.10      0.10     18000\n",
      "   macro avg       0.01      0.10      0.02     18000\n",
      "weighted avg       0.01      0.10      0.02     18000\n",
      "\n"
     ]
    },
    {
     "name": "stderr",
     "output_type": "stream",
     "text": [
      "C:\\Users\\birender.panwar\\AppData\\Local\\conda\\conda\\envs\\glbase\\lib\\site-packages\\sklearn\\metrics\\classification.py:1143: UndefinedMetricWarning: Precision and F-score are ill-defined and being set to 0.0 in labels with no predicted samples.\n",
      "  'precision', 'predicted', average, warn_for)\n",
      "C:\\Users\\birender.panwar\\AppData\\Local\\conda\\conda\\envs\\glbase\\lib\\site-packages\\sklearn\\metrics\\classification.py:1143: UndefinedMetricWarning: Precision and F-score are ill-defined and being set to 0.0 in labels with no predicted samples.\n",
      "  'precision', 'predicted', average, warn_for)\n",
      "C:\\Users\\birender.panwar\\AppData\\Local\\conda\\conda\\envs\\glbase\\lib\\site-packages\\sklearn\\metrics\\classification.py:1143: UndefinedMetricWarning: Precision and F-score are ill-defined and being set to 0.0 in labels with no predicted samples.\n",
      "  'precision', 'predicted', average, warn_for)\n"
     ]
    }
   ],
   "source": [
    "cr = metrics.classification_report(y_test,y_predict1D_2)\n",
    "print(\"Classification Report: \\n\\n\", cr)"
   ]
  },
  {
   "cell_type": "markdown",
   "metadata": {},
   "source": [
    "### 7. Implement batch normalization for training the neural network (2.5 points)"
   ]
  },
  {
   "cell_type": "markdown",
   "metadata": {},
   "source": [
    "**Normlizing data**"
   ]
  },
  {
   "cell_type": "code",
   "execution_count": 198,
   "metadata": {},
   "outputs": [
    {
     "name": "stdout",
     "output_type": "stream",
     "text": [
      "x_train shape: (42000, 32, 32, 1)\n",
      "x_test shape: (18000, 32, 32, 1)\n"
     ]
    }
   ],
   "source": [
    "x_train_std = x_train.astype('float32')\n",
    "x_test_std = x_test.astype('float32')\n",
    "\n",
    "#Normalizing the input\n",
    "x_train_std /= 255.0\n",
    "x_test_std /= 255.0\n",
    "\n",
    "print('x_train shape:', x_train_std.shape)\n",
    "print('x_test shape:', x_test_std.shape)"
   ]
  },
  {
   "cell_type": "markdown",
   "metadata": {},
   "source": [
    "***Build the Graph***: Initialize model, reshape & normalize data"
   ]
  },
  {
   "cell_type": "code",
   "execution_count": 199,
   "metadata": {},
   "outputs": [],
   "source": [
    "#Initialize Sequential model\n",
    "dnn_model3 = keras.models.Sequential()\n",
    "\n",
    "#Reshape data from 2D to 1D -> 32x32 to 1024\n",
    "dnn_model3.add(keras.layers.Reshape((img_rows*img_cols,),input_shape=input_shape))\n",
    "\n",
    "#Normalize the data\n",
    "dnn_model3.add(keras.layers.BatchNormalization())\n",
    "\n",
    "#Hidden layers\n",
    "dnn_model3.add(keras.layers.Dense(6, activation='relu', name='Layer_1'))\n",
    "dnn_model3.add(keras.layers.Dense(6, activation='relu', name='Layer_2'))\n",
    "dnn_model3.add(keras.layers.Dense(6, activation='relu', name='Layer_3'))\n",
    "\n",
    "# Output layer\n",
    "#Add Dense Layer with 10 neurons as we have 10 classes after applying softmax\n",
    "# Keras declares weights and bias automatically\n",
    "dnn_model3.add(keras.layers.Dense(num_classes, activation='softmax'))"
   ]
  },
  {
   "cell_type": "markdown",
   "metadata": {},
   "source": [
    "***Compile model***"
   ]
  },
  {
   "cell_type": "code",
   "execution_count": 200,
   "metadata": {},
   "outputs": [],
   "source": [
    "#To use SGD optimizer for learning weights with learning rate = 0.001\n",
    "# All parameter gradients will be clipped to\n",
    "# a maximum value of 0.5 and\n",
    "# a minimum value of -0.5.\n",
    "optimizer = keras.optimizers.SGD(lr=0.001, clipvalue=0.5)\n",
    "\n",
    "#compile the model --> backpropagation -> gradient descent\n",
    "#optimizer = algorithm to find the optimal set of weights in ANN\n",
    "#loss = functions that should be optimized.\n",
    "#metrics = criterion used to calculate the performance of the model.\n",
    "dnn_model3.compile(optimizer=optimizer, loss='categorical_crossentropy', metrics=['accuracy'])"
   ]
  },
  {
   "cell_type": "markdown",
   "metadata": {},
   "source": [
    "***Review model***"
   ]
  },
  {
   "cell_type": "code",
   "execution_count": 201,
   "metadata": {},
   "outputs": [
    {
     "name": "stdout",
     "output_type": "stream",
     "text": [
      "_________________________________________________________________\n",
      "Layer (type)                 Output Shape              Param #   \n",
      "=================================================================\n",
      "reshape_13 (Reshape)         (None, 1024)              0         \n",
      "_________________________________________________________________\n",
      "batch_normalization_4 (Batch (None, 1024)              4096      \n",
      "_________________________________________________________________\n",
      "Layer_1 (Dense)              (None, 6)                 6150      \n",
      "_________________________________________________________________\n",
      "Layer_2 (Dense)              (None, 6)                 42        \n",
      "_________________________________________________________________\n",
      "Layer_3 (Dense)              (None, 6)                 42        \n",
      "_________________________________________________________________\n",
      "dense_13 (Dense)             (None, 10)                70        \n",
      "=================================================================\n",
      "Total params: 10,400\n",
      "Trainable params: 8,352\n",
      "Non-trainable params: 2,048\n",
      "_________________________________________________________________\n"
     ]
    }
   ],
   "source": [
    "dnn_model3.summary()"
   ]
  },
  {
   "cell_type": "markdown",
   "metadata": {},
   "source": [
    "***Train the model***"
   ]
  },
  {
   "cell_type": "code",
   "execution_count": 171,
   "metadata": {},
   "outputs": [
    {
     "name": "stdout",
     "output_type": "stream",
     "text": [
      "Train on 42000 samples, validate on 18000 samples\n",
      "Epoch 1/20\n",
      "42000/42000 [==============================] - 9s 203us/step - loss: 2.3053 - acc: 0.1071 - val_loss: 2.2991 - val_acc: 0.1158\n",
      "Epoch 2/20\n",
      "42000/42000 [==============================] - 6s 151us/step - loss: 2.2945 - acc: 0.1195 - val_loss: 2.2866 - val_acc: 0.1312\n",
      "Epoch 3/20\n",
      "42000/42000 [==============================] - 6s 149us/step - loss: 2.2799 - acc: 0.1353 - val_loss: 2.2668 - val_acc: 0.1471\n",
      "Epoch 4/20\n",
      "42000/42000 [==============================] - 6s 151us/step - loss: 2.2582 - acc: 0.1514 - val_loss: 2.2388 - val_acc: 0.1657\n",
      "Epoch 5/20\n",
      "42000/42000 [==============================] - 6s 151us/step - loss: 2.2285 - acc: 0.1711 - val_loss: 2.2048 - val_acc: 0.1816\n",
      "Epoch 6/20\n",
      "42000/42000 [==============================] - 6s 150us/step - loss: 2.1970 - acc: 0.1834 - val_loss: 2.1694 - val_acc: 0.2008\n",
      "Epoch 7/20\n",
      "42000/42000 [==============================] - 6s 152us/step - loss: 2.1655 - acc: 0.1955 - val_loss: 2.1378 - val_acc: 0.2110\n",
      "Epoch 8/20\n",
      "42000/42000 [==============================] - 6s 146us/step - loss: 2.1370 - acc: 0.2045 - val_loss: 2.1085 - val_acc: 0.2110\n",
      "Epoch 9/20\n",
      "42000/42000 [==============================] - 6s 148us/step - loss: 2.1130 - acc: 0.2055 - val_loss: 2.0875 - val_acc: 0.2221\n",
      "Epoch 10/20\n",
      "42000/42000 [==============================] - 6s 144us/step - loss: 2.0923 - acc: 0.2171 - val_loss: 2.0657 - val_acc: 0.2303\n",
      "Epoch 11/20\n",
      "42000/42000 [==============================] - 6s 144us/step - loss: 2.0761 - acc: 0.2238 - val_loss: 2.0477 - val_acc: 0.2416\n",
      "Epoch 12/20\n",
      "42000/42000 [==============================] - 7s 162us/step - loss: 2.0599 - acc: 0.2307 - val_loss: 2.0298 - val_acc: 0.2459\n",
      "Epoch 13/20\n",
      "42000/42000 [==============================] - 6s 146us/step - loss: 2.0409 - acc: 0.2377 - val_loss: 2.0179 - val_acc: 0.2491\n",
      "Epoch 14/20\n",
      "42000/42000 [==============================] - 6s 151us/step - loss: 2.0293 - acc: 0.2425 - val_loss: 2.0020 - val_acc: 0.2537\n",
      "Epoch 15/20\n",
      "42000/42000 [==============================] - 6s 149us/step - loss: 2.0170 - acc: 0.2455 - val_loss: 1.9867 - val_acc: 0.2634\n",
      "Epoch 16/20\n",
      "42000/42000 [==============================] - 6s 148us/step - loss: 2.0040 - acc: 0.2519 - val_loss: 1.9715 - val_acc: 0.2674\n",
      "Epoch 17/20\n",
      "42000/42000 [==============================] - 6s 153us/step - loss: 1.9890 - acc: 0.2573 - val_loss: 1.9595 - val_acc: 0.2721\n",
      "Epoch 18/20\n",
      "42000/42000 [==============================] - 6s 150us/step - loss: 1.9780 - acc: 0.2625 - val_loss: 1.9476 - val_acc: 0.2794\n",
      "Epoch 19/20\n",
      "42000/42000 [==============================] - 6s 152us/step - loss: 1.9669 - acc: 0.2652 - val_loss: 1.9345 - val_acc: 0.2822\n",
      "Epoch 20/20\n",
      "42000/42000 [==============================] - 7s 158us/step - loss: 1.9584 - acc: 0.2703 - val_loss: 1.9232 - val_acc: 0.2882\n"
     ]
    }
   ],
   "source": [
    "# Execute the model\n",
    "#batch_size = the number of observations after which you want to update the weights\n",
    "#           batch size and epochs should be tuned through experiments.\n",
    "#epoch = going through the whole dataset\n",
    "history = dnn_model3.fit(x_train_std, y_train_cat, \n",
    "          validation_data=(x_test_std, y_test_cat), \n",
    "          epochs=20,\n",
    "          batch_size=32)"
   ]
  },
  {
   "cell_type": "code",
   "execution_count": 172,
   "metadata": {},
   "outputs": [
    {
     "name": "stdout",
     "output_type": "stream",
     "text": [
      "18000/18000 [==============================] - 1s 68us/step\n",
      "\n",
      "DNN Test accuracy:[With Batch Normalization]: 28.82\n"
     ]
    }
   ],
   "source": [
    "dnn_model3_test_loss, dnn_model3_test_acc = dnn_model3.evaluate(x_test_std, y_test_cat)\n",
    "print('\\nDNN Test accuracy:[With Batch Normalization]: %0.2f' %(dnn_model3_test_acc*100))"
   ]
  },
  {
   "cell_type": "code",
   "execution_count": 173,
   "metadata": {},
   "outputs": [
    {
     "name": "stdout",
     "output_type": "stream",
     "text": [
      "dict_keys(['val_loss', 'val_acc', 'loss', 'acc'])\n"
     ]
    },
    {
     "data": {
      "image/png": "[encoded data removed]",
      "text/plain": [
       "<Figure size 432x288 with 1 Axes>"
      ]
     },
     "metadata": {
      "needs_background": "light"
     },
     "output_type": "display_data"
    },
    {
     "data": {
      "image/png": "[encoded data removed]",
      "text/plain": [
       "<Figure size 432x288 with 1 Axes>"
      ]
     },
     "metadata": {
      "needs_background": "light"
     },
     "output_type": "display_data"
    }
   ],
   "source": [
    "# list all data in history\n",
    "print(history.history.keys())\n",
    "# summarize history for accuracy\n",
    "plt.plot(history.history['acc'])\n",
    "plt.plot(history.history['val_acc'])\n",
    "plt.title('model accuracy')\n",
    "plt.ylabel('accuracy')\n",
    "plt.xlabel('epoch')\n",
    "plt.legend(['train', 'test'], loc='upper left')\n",
    "plt.show()\n",
    "\n",
    "# summarize history for loss\n",
    "plt.plot(history.history['loss'])\n",
    "plt.plot(history.history['val_loss'])\n",
    "plt.title('model loss')\n",
    "plt.ylabel('loss')\n",
    "plt.xlabel('epoch')\n",
    "plt.legend(['train', 'test'], loc='upper left')\n",
    "plt.show()"
   ]
  },
  {
   "cell_type": "code",
   "execution_count": 174,
   "metadata": {},
   "outputs": [
    {
     "data": {
      "text/plain": [
       "0.2644444444444444"
      ]
     },
     "execution_count": 174,
     "metadata": {},
     "output_type": "execute_result"
    }
   ],
   "source": [
    "# predict the model\n",
    "y_predict_3 = dnn_model3.predict(x_test)\n",
    "y_predict1D_3 = get1D_y_predict(y_predict_3)\n",
    "metrics.accuracy_score(y_test,y_predict1D_3)"
   ]
  },
  {
   "cell_type": "code",
   "execution_count": 175,
   "metadata": {},
   "outputs": [
    {
     "name": "stdout",
     "output_type": "stream",
     "text": [
      "Classification Report: \n",
      "\n",
      "               precision    recall  f1-score   support\n",
      "\n",
      "           0       0.19      0.73      0.30      1814\n",
      "           1       0.49      0.32      0.39      1828\n",
      "           2       0.36      0.25      0.29      1803\n",
      "           3       0.25      0.00      0.00      1719\n",
      "           4       0.39      0.43      0.41      1812\n",
      "           5       0.00      0.00      0.00      1768\n",
      "           6       0.00      0.00      0.00      1832\n",
      "           7       0.26      0.66      0.37      1808\n",
      "           8       0.23      0.23      0.23      1812\n",
      "           9       0.00      0.00      0.00      1804\n",
      "\n",
      "   micro avg       0.26      0.26      0.26     18000\n",
      "   macro avg       0.22      0.26      0.20     18000\n",
      "weighted avg       0.22      0.26      0.20     18000\n",
      "\n"
     ]
    },
    {
     "name": "stderr",
     "output_type": "stream",
     "text": [
      "C:\\Users\\birender.panwar\\AppData\\Local\\conda\\conda\\envs\\glbase\\lib\\site-packages\\sklearn\\metrics\\classification.py:1143: UndefinedMetricWarning: Precision and F-score are ill-defined and being set to 0.0 in labels with no predicted samples.\n",
      "  'precision', 'predicted', average, warn_for)\n",
      "C:\\Users\\birender.panwar\\AppData\\Local\\conda\\conda\\envs\\glbase\\lib\\site-packages\\sklearn\\metrics\\classification.py:1143: UndefinedMetricWarning: Precision and F-score are ill-defined and being set to 0.0 in labels with no predicted samples.\n",
      "  'precision', 'predicted', average, warn_for)\n",
      "C:\\Users\\birender.panwar\\AppData\\Local\\conda\\conda\\envs\\glbase\\lib\\site-packages\\sklearn\\metrics\\classification.py:1143: UndefinedMetricWarning: Precision and F-score are ill-defined and being set to 0.0 in labels with no predicted samples.\n",
      "  'precision', 'predicted', average, warn_for)\n"
     ]
    }
   ],
   "source": [
    "cr = metrics.classification_report(y_test,y_predict1D_3)\n",
    "print(\"Classification Report: \\n\\n\", cr)"
   ]
  },
  {
   "cell_type": "markdown",
   "metadata": {},
   "source": [
    "## Building the CNN"
   ]
  },
  {
   "cell_type": "markdown",
   "metadata": {},
   "source": [
    "***Normalizing the input***"
   ]
  },
  {
   "cell_type": "code",
   "execution_count": 202,
   "metadata": {},
   "outputs": [
    {
     "name": "stdout",
     "output_type": "stream",
     "text": [
      "x_train shape: (42000, 32, 32, 1)\n",
      "x_test shape: (18000, 32, 32, 1)\n"
     ]
    }
   ],
   "source": [
    "x_train_std = x_train.astype('float32')\n",
    "x_test_std = x_test.astype('float32')\n",
    "\n",
    "#Normalizing the input\n",
    "x_train_std /= 255.0\n",
    "x_test_std /= 255.0\n",
    "\n",
    "print('x_train shape:', x_train_std.shape)\n",
    "print('x_test shape:', x_test_std.shape)"
   ]
  },
  {
   "cell_type": "markdown",
   "metadata": {},
   "source": [
    "***Define the layers of model***"
   ]
  },
  {
   "cell_type": "code",
   "execution_count": 203,
   "metadata": {},
   "outputs": [
    {
     "name": "stdout",
     "output_type": "stream",
     "text": [
      "WARNING:tensorflow:From C:\\Users\\birender.panwar\\AppData\\Local\\conda\\conda\\envs\\glbase\\lib\\site-packages\\keras\\backend\\tensorflow_backend.py:3445: calling dropout (from tensorflow.python.ops.nn_ops) with keep_prob is deprecated and will be removed in a future version.\n",
      "Instructions for updating:\n",
      "Please use `rate` instead of `keep_prob`. Rate should be set to `rate = 1 - keep_prob`.\n"
     ]
    }
   ],
   "source": [
    "#Initialize the model\n",
    "cnn_model = Sequential()\n",
    "\n",
    "#Add a Convolutional Layer with 32 filters of size 3X3 and activation function as 'ReLU' \n",
    "cnn_model.add(Conv2D(32, kernel_size=(3, 3), activation='relu', input_shape=input_shape))\n",
    "\n",
    "#Add a Convolutional Layer with 64 filters of size 3X3 and activation function as 'ReLU' \n",
    "cnn_model.add(Conv2D(64, (3, 3), activation='relu'))\n",
    "\n",
    "#Add a MaxPooling Layer of size 2X2 \n",
    "cnn_model.add(MaxPooling2D(pool_size=(2, 2)))\n",
    "\n",
    "#Apply Dropout with 0.25 probability \n",
    "cnn_model.add(Dropout(0.25))\n",
    "\n",
    "#Flatten the layer\n",
    "cnn_model.add(Flatten())\n",
    "\n",
    "#Add Fully Connected Layer with 128 units and activation function as 'ReLU'\n",
    "cnn_model.add(Dense(128, activation='relu'))\n",
    "\n",
    "#Apply Dropout with 0.5 probability \n",
    "cnn_model.add(Dropout(0.5))\n",
    "\n",
    "#Add Fully Connected Layer with 10 units and activation function as 'softmax'\n",
    "cnn_model.add(Dense(num_classes, activation='softmax'))"
   ]
  },
  {
   "cell_type": "markdown",
   "metadata": {},
   "source": [
    "***Build the model by setting Optimizer and Loss function for training***"
   ]
  },
  {
   "cell_type": "code",
   "execution_count": 204,
   "metadata": {},
   "outputs": [],
   "source": [
    "#To use adam optimizer for learning weights with learning rate = 0.001\n",
    "optimizer = keras.optimizers.Adam(lr=0.001)\n",
    "\n",
    "#Set the loss function and optimizer for the model training\n",
    "cnn_model.compile(loss=categorical_crossentropy,\n",
    "              optimizer=optimizer,\n",
    "              metrics=['accuracy'])"
   ]
  },
  {
   "cell_type": "markdown",
   "metadata": {},
   "source": [
    "***Review Model***"
   ]
  },
  {
   "cell_type": "code",
   "execution_count": 205,
   "metadata": {},
   "outputs": [
    {
     "name": "stdout",
     "output_type": "stream",
     "text": [
      "_________________________________________________________________\n",
      "Layer (type)                 Output Shape              Param #   \n",
      "=================================================================\n",
      "conv2d_1 (Conv2D)            (None, 30, 30, 32)        320       \n",
      "_________________________________________________________________\n",
      "conv2d_2 (Conv2D)            (None, 28, 28, 64)        18496     \n",
      "_________________________________________________________________\n",
      "max_pooling2d_1 (MaxPooling2 (None, 14, 14, 64)        0         \n",
      "_________________________________________________________________\n",
      "dropout_1 (Dropout)          (None, 14, 14, 64)        0         \n",
      "_________________________________________________________________\n",
      "flatten_1 (Flatten)          (None, 12544)             0         \n",
      "_________________________________________________________________\n",
      "dense_14 (Dense)             (None, 128)               1605760   \n",
      "_________________________________________________________________\n",
      "dropout_2 (Dropout)          (None, 128)               0         \n",
      "_________________________________________________________________\n",
      "dense_15 (Dense)             (None, 10)                1290      \n",
      "=================================================================\n",
      "Total params: 1,625,866\n",
      "Trainable params: 1,625,866\n",
      "Non-trainable params: 0\n",
      "_________________________________________________________________\n"
     ]
    }
   ],
   "source": [
    "cnn_model.summary()"
   ]
  },
  {
   "cell_type": "markdown",
   "metadata": {},
   "source": [
    "***Initializing Early stopping and Model chekpoint callbacks***"
   ]
  },
  {
   "cell_type": "code",
   "execution_count": 206,
   "metadata": {},
   "outputs": [],
   "source": [
    "# use tensorboard callback which will passed in model.fit function.\n",
    "\n",
    "#Setting the directory to store the logs.\n",
    "tensorboard = TensorBoard(log_dir=\".logs/{}\".format(time()))"
   ]
  },
  {
   "cell_type": "code",
   "execution_count": 207,
   "metadata": {},
   "outputs": [],
   "source": [
    "#Adding Early stopping callback to the fit function is going to stop the training,\n",
    "#if the val_loss is not going to change even '0.001' for more than 10 continous epochs\n",
    "\n",
    "early_stopping = EarlyStopping(monitor='val_loss', min_delta=0.001, patience=10)\n",
    "\n",
    "#Adding Model Checkpoint callback to the fit function is going to save the weights whenever val_loss achieves \n",
    "# a new low value. Hence saving the best weights occurred during training\n",
    "\n",
    "model_checkpoint =  ModelCheckpoint('svhn_cnn_checkpoint_{epoch:02d}_loss{val_loss:.4f}.h5',\n",
    "                                                           monitor='val_loss',\n",
    "                                                           verbose=1,\n",
    "                                                           save_best_only=True,\n",
    "                                                           save_weights_only=True,\n",
    "                                                           mode='auto',\n",
    "                                                           period=1)"
   ]
  },
  {
   "cell_type": "markdown",
   "metadata": {},
   "source": [
    "***Fit the model to the dataset***"
   ]
  },
  {
   "cell_type": "code",
   "execution_count": 208,
   "metadata": {},
   "outputs": [
    {
     "name": "stdout",
     "output_type": "stream",
     "text": [
      "Train on 42000 samples, validate on 18000 samples\n",
      "Epoch 1/50\n",
      "42000/42000 [==============================] - 192s 5ms/step - loss: 1.1305 - acc: 0.6238 - val_loss: 0.5956 - val_acc: 0.8245\n",
      "\n",
      "Epoch 00001: val_loss improved from inf to 0.59560, saving model to svhn_cnn_checkpoint_01_loss0.5956.h5\n",
      "Epoch 2/50\n",
      "42000/42000 [==============================] - 183s 4ms/step - loss: 0.6836 - acc: 0.7886 - val_loss: 0.4934 - val_acc: 0.8521\n",
      "\n",
      "Epoch 00002: val_loss improved from 0.59560 to 0.49341, saving model to svhn_cnn_checkpoint_02_loss0.4934.h5\n",
      "Epoch 3/50\n",
      "42000/42000 [==============================] - 182s 4ms/step - loss: 0.6007 - acc: 0.8116 - val_loss: 0.4372 - val_acc: 0.8708\n",
      "\n",
      "Epoch 00003: val_loss improved from 0.49341 to 0.43723, saving model to svhn_cnn_checkpoint_03_loss0.4372.h5\n",
      "Epoch 4/50\n",
      "42000/42000 [==============================] - 183s 4ms/step - loss: 0.5586 - acc: 0.8258 - val_loss: 0.4227 - val_acc: 0.8774\n",
      "\n",
      "Epoch 00004: val_loss improved from 0.43723 to 0.42273, saving model to svhn_cnn_checkpoint_04_loss0.4227.h5\n",
      "Epoch 5/50\n",
      "42000/42000 [==============================] - 183s 4ms/step - loss: 0.5166 - acc: 0.8382 - val_loss: 0.3939 - val_acc: 0.8836\n",
      "\n",
      "Epoch 00005: val_loss improved from 0.42273 to 0.39389, saving model to svhn_cnn_checkpoint_05_loss0.3939.h5\n",
      "Epoch 6/50\n",
      "42000/42000 [==============================] - 185s 4ms/step - loss: 0.4908 - acc: 0.8435 - val_loss: 0.3989 - val_acc: 0.8820\n",
      "\n",
      "Epoch 00006: val_loss did not improve from 0.39389\n",
      "Epoch 7/50\n",
      "42000/42000 [==============================] - 184s 4ms/step - loss: 0.4692 - acc: 0.8504 - val_loss: 0.3875 - val_acc: 0.8859\n",
      "\n",
      "Epoch 00007: val_loss improved from 0.39389 to 0.38752, saving model to svhn_cnn_checkpoint_07_loss0.3875.h5\n",
      "Epoch 8/50\n",
      "42000/42000 [==============================] - 168s 4ms/step - loss: 0.4441 - acc: 0.8588 - val_loss: 0.3744 - val_acc: 0.8930\n",
      "\n",
      "Epoch 00008: val_loss improved from 0.38752 to 0.37437, saving model to svhn_cnn_checkpoint_08_loss0.3744.h5\n",
      "Epoch 9/50\n",
      "42000/42000 [==============================] - 152s 4ms/step - loss: 0.4286 - acc: 0.8629 - val_loss: 0.3768 - val_acc: 0.8903\n",
      "\n",
      "Epoch 00009: val_loss did not improve from 0.37437\n",
      "Epoch 10/50\n",
      "42000/42000 [==============================] - 152s 4ms/step - loss: 0.4122 - acc: 0.8677 - val_loss: 0.3745 - val_acc: 0.8946\n",
      "\n",
      "Epoch 00010: val_loss did not improve from 0.37437\n",
      "Epoch 11/50\n",
      "42000/42000 [==============================] - 154s 4ms/step - loss: 0.3937 - acc: 0.8747 - val_loss: 0.3618 - val_acc: 0.8959\n",
      "\n",
      "Epoch 00011: val_loss improved from 0.37437 to 0.36183, saving model to svhn_cnn_checkpoint_11_loss0.3618.h5\n",
      "Epoch 12/50\n",
      "42000/42000 [==============================] - 149s 4ms/step - loss: 0.3805 - acc: 0.8781 - val_loss: 0.3512 - val_acc: 0.9012\n",
      "\n",
      "Epoch 00012: val_loss improved from 0.36183 to 0.35124, saving model to svhn_cnn_checkpoint_12_loss0.3512.h5\n",
      "Epoch 13/50\n",
      "42000/42000 [==============================] - 139s 3ms/step - loss: 0.3722 - acc: 0.8816 - val_loss: 0.3599 - val_acc: 0.8996\n",
      "\n",
      "Epoch 00013: val_loss did not improve from 0.35124\n",
      "Epoch 14/50\n",
      "42000/42000 [==============================] - 139s 3ms/step - loss: 0.3549 - acc: 0.8858 - val_loss: 0.3592 - val_acc: 0.8996\n",
      "\n",
      "Epoch 00014: val_loss did not improve from 0.35124\n",
      "Epoch 15/50\n",
      "42000/42000 [==============================] - 138s 3ms/step - loss: 0.3473 - acc: 0.8880 - val_loss: 0.3561 - val_acc: 0.9026\n",
      "\n",
      "Epoch 00015: val_loss did not improve from 0.35124\n",
      "Epoch 16/50\n",
      "42000/42000 [==============================] - 138s 3ms/step - loss: 0.3404 - acc: 0.8899 - val_loss: 0.3745 - val_acc: 0.8970\n",
      "\n",
      "Epoch 00016: val_loss did not improve from 0.35124\n",
      "Epoch 17/50\n",
      "42000/42000 [==============================] - 138s 3ms/step - loss: 0.3336 - acc: 0.8923 - val_loss: 0.3599 - val_acc: 0.9043\n",
      "\n",
      "Epoch 00017: val_loss did not improve from 0.35124\n",
      "Epoch 18/50\n",
      "42000/42000 [==============================] - 138s 3ms/step - loss: 0.3223 - acc: 0.8969 - val_loss: 0.3466 - val_acc: 0.9058\n",
      "\n",
      "Epoch 00018: val_loss improved from 0.35124 to 0.34655, saving model to svhn_cnn_checkpoint_18_loss0.3466.h5\n",
      "Epoch 19/50\n",
      "42000/42000 [==============================] - 138s 3ms/step - loss: 0.3092 - acc: 0.8986 - val_loss: 0.3500 - val_acc: 0.9072\n",
      "\n",
      "Epoch 00019: val_loss did not improve from 0.34655\n",
      "Epoch 20/50\n",
      "42000/42000 [==============================] - 140s 3ms/step - loss: 0.3079 - acc: 0.9005 - val_loss: 0.3816 - val_acc: 0.8969\n",
      "\n",
      "Epoch 00020: val_loss did not improve from 0.34655\n",
      "Epoch 21/50\n",
      "42000/42000 [==============================] - 140s 3ms/step - loss: 0.3020 - acc: 0.9012 - val_loss: 0.3680 - val_acc: 0.9056\n",
      "\n",
      "Epoch 00021: val_loss did not improve from 0.34655\n",
      "Epoch 22/50\n",
      "42000/42000 [==============================] - 138s 3ms/step - loss: 0.2951 - acc: 0.9029 - val_loss: 0.3534 - val_acc: 0.9060\n",
      "\n",
      "Epoch 00022: val_loss did not improve from 0.34655\n",
      "Epoch 23/50\n",
      "42000/42000 [==============================] - 138s 3ms/step - loss: 0.2913 - acc: 0.9026 - val_loss: 0.3706 - val_acc: 0.9024\n",
      "\n",
      "Epoch 00023: val_loss did not improve from 0.34655\n",
      "Epoch 24/50\n",
      "42000/42000 [==============================] - 139s 3ms/step - loss: 0.2843 - acc: 0.9078 - val_loss: 0.3584 - val_acc: 0.9043\n",
      "\n",
      "Epoch 00024: val_loss did not improve from 0.34655\n",
      "Epoch 25/50\n",
      "42000/42000 [==============================] - 138s 3ms/step - loss: 0.2784 - acc: 0.9088 - val_loss: 0.3510 - val_acc: 0.9066\n",
      "\n",
      "Epoch 00025: val_loss did not improve from 0.34655\n",
      "Epoch 26/50\n",
      "42000/42000 [==============================] - 138s 3ms/step - loss: 0.2800 - acc: 0.9065 - val_loss: 0.3561 - val_acc: 0.9056\n",
      "\n",
      "Epoch 00026: val_loss did not improve from 0.34655\n",
      "Epoch 27/50\n",
      "42000/42000 [==============================] - 138s 3ms/step - loss: 0.2674 - acc: 0.9110 - val_loss: 0.3506 - val_acc: 0.9107\n",
      "\n",
      "Epoch 00027: val_loss did not improve from 0.34655\n",
      "Epoch 28/50\n",
      "42000/42000 [==============================] - 138s 3ms/step - loss: 0.2637 - acc: 0.9122 - val_loss: 0.3743 - val_acc: 0.9062\n",
      "\n",
      "Epoch 00028: val_loss did not improve from 0.34655\n"
     ]
    }
   ],
   "source": [
    "#Training on the dataset and adding the all the callbacks to the fit function.\n",
    "#Once the training starts, results start appearing on Tensorboard after 1 epoch\n",
    "history = cnn_model.fit(x_train_std, y_train_cat,\n",
    "          batch_size=16,\n",
    "          epochs=50,\n",
    "          verbose=1,\n",
    "          validation_data=(x_test_std, y_test_cat),\n",
    "          callbacks=[tensorboard,early_stopping,model_checkpoint])"
   ]
  },
  {
   "cell_type": "code",
   "execution_count": 209,
   "metadata": {},
   "outputs": [
    {
     "name": "stdout",
     "output_type": "stream",
     "text": [
      "18000/18000 [==============================] - 13s 700us/step\n",
      "\n",
      "CNN Test accuracy: 90.62\n"
     ]
    }
   ],
   "source": [
    "cnn_model_test_loss, cnn_model_test_acc = cnn_model.evaluate(x_test_std, y_test_cat)\n",
    "print('\\nCNN Test accuracy: %0.2f' %(cnn_model_test_acc*100))"
   ]
  },
  {
   "cell_type": "code",
   "execution_count": 210,
   "metadata": {},
   "outputs": [
    {
     "name": "stdout",
     "output_type": "stream",
     "text": [
      "dict_keys(['val_loss', 'val_acc', 'loss', 'acc'])\n"
     ]
    },
    {
     "data": {
      "image/png": "[encoded data removed]",
      "text/plain": [
       "<Figure size 432x288 with 1 Axes>"
      ]
     },
     "metadata": {
      "needs_background": "light"
     },
     "output_type": "display_data"
    },
    {
     "data": {
      "image/png": "[encoded data removed]",
      "text/plain": [
       "<Figure size 432x288 with 1 Axes>"
      ]
     },
     "metadata": {
      "needs_background": "light"
     },
     "output_type": "display_data"
    }
   ],
   "source": [
    "# list all data in history\n",
    "print(history.history.keys())\n",
    "# summarize history for accuracy\n",
    "plt.plot(history.history['acc'])\n",
    "plt.plot(history.history['val_acc'])\n",
    "plt.title('model accuracy')\n",
    "plt.ylabel('accuracy')\n",
    "plt.xlabel('epoch')\n",
    "plt.legend(['train', 'test'], loc='upper left')\n",
    "plt.show()\n",
    "\n",
    "# summarize history for loss\n",
    "plt.plot(history.history['loss'])\n",
    "plt.plot(history.history['val_loss'])\n",
    "plt.title('model loss')\n",
    "plt.ylabel('loss')\n",
    "plt.xlabel('epoch')\n",
    "plt.legend(['train', 'test'], loc='upper left')\n",
    "plt.show()"
   ]
  },
  {
   "cell_type": "code",
   "execution_count": 211,
   "metadata": {},
   "outputs": [
    {
     "data": {
      "text/plain": [
       "0.9061666666666667"
      ]
     },
     "execution_count": 211,
     "metadata": {},
     "output_type": "execute_result"
    }
   ],
   "source": [
    "# predict the model\n",
    "y_predict_4 = cnn_model.predict(x_test_std)\n",
    "y_predict1D_4 = get1D_y_predict(y_predict_4)\n",
    "metrics.accuracy_score(y_test,y_predict1D_4)"
   ]
  },
  {
   "cell_type": "code",
   "execution_count": 212,
   "metadata": {},
   "outputs": [
    {
     "name": "stdout",
     "output_type": "stream",
     "text": [
      "Classification Report: \n",
      "\n",
      "               precision    recall  f1-score   support\n",
      "\n",
      "           0       0.93      0.93      0.93      1814\n",
      "           1       0.87      0.92      0.90      1828\n",
      "           2       0.92      0.93      0.93      1803\n",
      "           3       0.90      0.87      0.88      1719\n",
      "           4       0.92      0.91      0.91      1812\n",
      "           5       0.91      0.89      0.90      1768\n",
      "           6       0.89      0.89      0.89      1832\n",
      "           7       0.93      0.92      0.93      1808\n",
      "           8       0.87      0.90      0.89      1812\n",
      "           9       0.92      0.88      0.90      1804\n",
      "\n",
      "   micro avg       0.91      0.91      0.91     18000\n",
      "   macro avg       0.91      0.91      0.91     18000\n",
      "weighted avg       0.91      0.91      0.91     18000\n",
      "\n"
     ]
    }
   ],
   "source": [
    "cr = metrics.classification_report(y_test,y_predict1D_4)\n",
    "print(\"Classification Report: \\n\\n\", cr)"
   ]
  },
  {
   "cell_type": "markdown",
   "metadata": {},
   "source": [
    "***Save the mode***: Save the trained weights and model in h5 files"
   ]
  },
  {
   "cell_type": "code",
   "execution_count": 213,
   "metadata": {},
   "outputs": [],
   "source": [
    "# Save model and weights. \n",
    "cnn_model.save('model/cnn_svhn.h5')\n",
    "cnn_model.save_weights('model/cnn_svhn_weights.h5')"
   ]
  },
  {
   "cell_type": "markdown",
   "metadata": {},
   "source": [
    "### 8. Understand the differences and trade-offs between traditional and NN classifiers with the help of classification metrics (5 points) "
   ]
  },
  {
   "cell_type": "markdown",
   "metadata": {},
   "source": [
    "**Compare Test accuracy for all models**"
   ]
  },
  {
   "cell_type": "code",
   "execution_count": 275,
   "metadata": {},
   "outputs": [
    {
     "name": "stdout",
     "output_type": "stream",
     "text": [
      "Iteration    Model                  Model Summary                                                            Test Accuracy\n",
      "---------    -----                  -------------                                                            -------------\n",
      "\n",
      "Iteration-1: KNN   Summary: k=5, without data normalization                                                 49.02\n",
      "Iteration-2: KNN   Summary: k=5, with data normalization                                                    49.02\n",
      "Iteration-3: DNN   RELU activation, hidden layers, loss=adam, without data/batch normalization              9.55\n",
      "Iteration-4: DNN   RELU activation, hidden layers, loss=SGD, without data/batch normalization               9.55\n",
      "Iteration-5: DNN   RELU activation, hidden layers, loss=SGD, with batch normalization                       28.82\n",
      "Iteration-6: CNN   Convolution layer, Max Pooling, Dropout, Hidden layer, with data and batch normalization 90.62\n"
     ]
    }
   ],
   "source": [
    "print(\"Iteration    Model                  Model Summary                                                            Test Accuracy\")\n",
    "print(\"---------    -----                  -------------                                                            -------------\\n\")\n",
    "print(\"Iteration-1: KNN   Summary: k=5, without data normalization                                                 %0.2f\" %(knn_test_acc1*100))\n",
    "print(\"Iteration-2: KNN   Summary: k=5, with data normalization                                                    %0.2f\" %(knn_test_acc2*100))\n",
    "print(\"Iteration-3: DNN   RELU activation, hidden layers, loss=adam, without data/batch normalization              %0.2f\" %(dnn_model1_test_acc*100))\n",
    "print(\"Iteration-4: DNN   RELU activation, hidden layers, loss=SGD, without data/batch normalization               %0.2f\" %(dnn_model2_test_acc*100))\n",
    "print(\"Iteration-5: DNN   RELU activation, hidden layers, loss=SGD, with batch normalization                       %0.2f\" %(dnn_model3_test_acc*100))\n",
    "print(\"Iteration-6: CNN   Convolution layer, Max Pooling, Dropout, Hidden layer, with data and batch normalization %0.2f\" %(cnn_model_test_acc*100))"
   ]
  },
  {
   "cell_type": "markdown",
   "metadata": {},
   "source": [
    "<h2> Analysis report for experiment done on SVHN dataset using KNN and NN Classifier</h2>\n",
    "\n",
    "**EDA**\n",
    "1. few images were visualized and obsered that model face challenges becauses of many reason as below.\n",
    "2. few image are blurred\n",
    "3. few images have black backgrouhg while other are in white backgrounds\n",
    "4. In few images, digits are accompained with other digits on the side\n",
    "\n",
    "**Experiments:**\n",
    "Various models were build using KNN, NN and CNN. Classification metric were reported for each model for comparision.\n",
    "Recall and precision for each class were analysis for model comparisions.\n",
    "For NN and CNN, history were plot to view the trend of train and test loss for each epoc.\n",
    "\n",
    "<h3>KNN Clasifier</h3>\n",
    "\n",
    "**Iteration-1:** KNN model is build without any data normalization\n",
    "\n",
    "1. Overall test accuracy acheived is 49%\n",
    "2. Digit 4 and 7 able to acheive better Precission and recall value\n",
    "3. Digit 7 got highest precision of 72% but recall value is 58%\n",
    "4. Digit 1 got highest recall of 70%  abut precision is quite low 44%\n",
    "\n",
    "**Iteration-2:** KNN model is build post data normalization\n",
    "\n",
    "1. Accuracy does not improvy after aplying data normalization, accuracy is 49%\n",
    "2. recall and precision of each class almost same as for iteration-1\n",
    "\n",
    "<h3>Various attempts were made to build Neural Network as below</h3>\n",
    "\n",
    "**Iteration-1: Feed Forward with RELU activation function**\n",
    "\n",
    "1. Overall test accuracy acheived is approx 10% \n",
    "2. Model is highly overfit\n",
    "2. Modle was build without any data normalization, optimizer='adam', loss='categorical_crossentropy\n",
    "3. Recall of digit=3 is 100% but precision is 10%..not able to classifiy and predict any other digits. Recall and precision ofr remaining digits is zero\n",
    "4. this model is highly overfit\n",
    "\n",
    "**Iteration-2: Back propagation with SGD optimizer(without data normalization and no batch normalization**\n",
    "\n",
    "1. Even after applying optimizer as SGD, model accuracy didn't improved.  acheived is still approx 10% \n",
    "2. Recall of digit=3 is 100% but precision is 10%..not able to classifiy and predict any other digits. Recall and precision ofr remaining digits is zero, this model is highly overfit2. \n",
    "3. Modle was build without any data normalization, customized optimizer for SGD, loss='categorical_crossentropy\n",
    "4. Executed with epochs=5, batch_size=16\n",
    "5. this model is highly overfit\n",
    "\n",
    "**Iteration-3: Back propagation with SGD optimizer(with input data normalization and batch normalization**\n",
    "\n",
    "1. Overall test accuracy improved and acheived 28% accuracy \n",
    "2. Model was build with input data normalization, batch normalization, customized optimizer for SGD loss='categorical_crossentropy\n",
    "3. Executed with epochs=20, batch_size=16\n",
    "4. For digit=5,6 and 9, recall and precission are zero. model is not able to classify these images.\n",
    "5. For digit=3, precision is 25% but recall is zero, mean modle is not bale to classify the class(3) correctly at all.\n",
    "\n",
    "**Iteration-4: Experiment with CNN**\n",
    "\n",
    "1. Overall test accuracy improved significantly and acheived around 90% accuracy \n",
    "2. Model was build with Convolution layer, Max pooling, Dropout, Hidden layer and applied input data normalization, batch normalization, customized optimizer for SGD loss='categorical_crossentropy\n",
    "3. Executed with epochs=50, batch_size=16\n",
    "4. Acheived better recall and precision for all classes above 87% and given better result than any other model experiment her.\n",
    "\n",
    "Finally plotted Train and Test accuracy for each epoc to verify if model does not overfit for all experiments\n",
    "\n",
    "Also it is observed for image type of dataset, KNN demand heavy computational load compared to NN/CNN network\n"
   ]
  },
  {
   "cell_type": "code",
   "execution_count": null,
   "metadata": {},
   "outputs": [],
   "source": []
  }
 ],
 "metadata": {
  "kernelspec": {
   "display_name": "Python 3",
   "language": "python",
   "name": "python3"
  },
  "language_info": {
   "codemirror_mode": {
    "name": "ipython",
    "version": 3
   },
   "file_extension": ".py",
   "mimetype": "text/x-python",
   "name": "python",
   "nbconvert_exporter": "python",
   "pygments_lexer": "ipython3",
   "version": "3.7.1"
  }
 },
 "nbformat": 4,
 "nbformat_minor": 2
}
